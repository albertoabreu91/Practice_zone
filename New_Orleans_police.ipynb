{
 "cells": [
  {
   "cell_type": "markdown",
   "metadata": {},
   "source": [
    "# New Orleans State Police records when stopping a person in the streets.\n",
    "\n",
    "The purpose of this analysis is to compare the two main race groups, white or caucasian people and African-American or black people when being stopped by the police. The aim of this analysis is to understand the main differences between and if we can detect, based on these differences, if the police are being biased when treating with the black community. The following questions try to guide us to understand this topic better. \n",
    "\n",
    "#### Q1. Do Black individuals get stopped by the police for suspicious activities more often than whites?\n",
    "\n",
    "##### Q1.2. Given that someone is pulled over for a suspicious reason, how often is because the person is black or white?\n",
    "\n",
    "#### Q3. Do white people get more warnings for the same violations than black people do?\n",
    "\n",
    "#### Q4. How likely is for a black person to be searched than for a white person.\n",
    "\n",
    "#### Q5. Once a black or white person is being searched by the police, how likely is that the person indeed had contraband in general.\n",
    "\n",
    "#### Q6. In what occasion a black or white person is more likely to be searched.\n",
    "\n",
    "#### Q7.Which district had the most number of arrest and what is the proportion of races in that district?\n",
    "\n",
    "#### Q8. What are the main reasons a person is being stopped in District 8 that end up in arrests?\n",
    "\n",
    "\n"
   ]
  },
  {
   "cell_type": "code",
   "execution_count": 1,
   "metadata": {},
   "outputs": [],
   "source": [
    "#importing libraries\n",
    "%matplotlib inline\n",
    "import pandas as pd\n",
    "import numpy as np\n",
    "import seaborn as sns\n",
    "import matplotlib.pyplot as plt\n",
    "pd.set_option('display.max_columns', 32)\n",
    "#pd.set_option('display.max_rows', 1000)\n",
    "import datetime\n",
    "import time\n",
    "from scipy import stats as ss"
   ]
  },
  {
   "cell_type": "code",
   "execution_count": 2,
   "metadata": {},
   "outputs": [
    {
     "name": "stderr",
     "output_type": "stream",
     "text": [
      "/Users/abreualberto91/anaconda3/envs/ironhack/lib/python3.7/site-packages/IPython/core/interactiveshell.py:3057: DtypeWarning: Columns (6) have mixed types. Specify dtype option on import or set low_memory=False.\n",
      "  interactivity=interactivity, compiler=compiler, result=result)\n"
     ]
    }
   ],
   "source": [
    "#Importing the data from New Orleans State patrol \n",
    "\n",
    "data = pd.read_csv('../data/la_new_orleans_2019_08_13.csv')"
   ]
  },
  {
   "cell_type": "code",
   "execution_count": 3,
   "metadata": {},
   "outputs": [
    {
     "data": {
      "text/html": [
       "<div>\n",
       "<style scoped>\n",
       "    .dataframe tbody tr th:only-of-type {\n",
       "        vertical-align: middle;\n",
       "    }\n",
       "\n",
       "    .dataframe tbody tr th {\n",
       "        vertical-align: top;\n",
       "    }\n",
       "\n",
       "    .dataframe thead th {\n",
       "        text-align: right;\n",
       "    }\n",
       "</style>\n",
       "<table border=\"1\" class=\"dataframe\">\n",
       "  <thead>\n",
       "    <tr style=\"text-align: right;\">\n",
       "      <th></th>\n",
       "      <th>raw_row_number</th>\n",
       "      <th>date</th>\n",
       "      <th>time</th>\n",
       "      <th>location</th>\n",
       "      <th>lat</th>\n",
       "      <th>lng</th>\n",
       "      <th>district</th>\n",
       "      <th>zone</th>\n",
       "      <th>subject_age</th>\n",
       "      <th>subject_race</th>\n",
       "      <th>subject_sex</th>\n",
       "      <th>officer_assignment</th>\n",
       "      <th>type</th>\n",
       "      <th>arrest_made</th>\n",
       "      <th>citation_issued</th>\n",
       "      <th>warning_issued</th>\n",
       "      <th>outcome</th>\n",
       "      <th>contraband_found</th>\n",
       "      <th>contraband_drugs</th>\n",
       "      <th>contraband_weapons</th>\n",
       "      <th>frisk_performed</th>\n",
       "      <th>search_conducted</th>\n",
       "      <th>search_person</th>\n",
       "      <th>search_vehicle</th>\n",
       "      <th>search_basis</th>\n",
       "      <th>reason_for_stop</th>\n",
       "      <th>vehicle_color</th>\n",
       "      <th>vehicle_make</th>\n",
       "      <th>vehicle_model</th>\n",
       "      <th>vehicle_year</th>\n",
       "      <th>raw_actions_taken</th>\n",
       "      <th>raw_subject_race</th>\n",
       "    </tr>\n",
       "  </thead>\n",
       "  <tbody>\n",
       "    <tr>\n",
       "      <th>0</th>\n",
       "      <td>1</td>\n",
       "      <td>2010-01-01</td>\n",
       "      <td>01:11:00</td>\n",
       "      <td>NaN</td>\n",
       "      <td>NaN</td>\n",
       "      <td>NaN</td>\n",
       "      <td>6</td>\n",
       "      <td>E</td>\n",
       "      <td>26.0</td>\n",
       "      <td>black</td>\n",
       "      <td>female</td>\n",
       "      <td>6th  District</td>\n",
       "      <td>vehicular</td>\n",
       "      <td>False</td>\n",
       "      <td>False</td>\n",
       "      <td>False</td>\n",
       "      <td>NaN</td>\n",
       "      <td>NaN</td>\n",
       "      <td>NaN</td>\n",
       "      <td>NaN</td>\n",
       "      <td>False</td>\n",
       "      <td>False</td>\n",
       "      <td>False</td>\n",
       "      <td>False</td>\n",
       "      <td>NaN</td>\n",
       "      <td>TRAFFIC VIOLATION</td>\n",
       "      <td>BLACK</td>\n",
       "      <td>DODGE</td>\n",
       "      <td>CARAVAN</td>\n",
       "      <td>2005.0</td>\n",
       "      <td>NaN</td>\n",
       "      <td>BLACK</td>\n",
       "    </tr>\n",
       "    <tr>\n",
       "      <th>1</th>\n",
       "      <td>9087</td>\n",
       "      <td>2010-01-01</td>\n",
       "      <td>01:29:00</td>\n",
       "      <td>NaN</td>\n",
       "      <td>NaN</td>\n",
       "      <td>NaN</td>\n",
       "      <td>7</td>\n",
       "      <td>C</td>\n",
       "      <td>37.0</td>\n",
       "      <td>black</td>\n",
       "      <td>male</td>\n",
       "      <td>7th  District</td>\n",
       "      <td>vehicular</td>\n",
       "      <td>False</td>\n",
       "      <td>False</td>\n",
       "      <td>False</td>\n",
       "      <td>NaN</td>\n",
       "      <td>NaN</td>\n",
       "      <td>NaN</td>\n",
       "      <td>NaN</td>\n",
       "      <td>False</td>\n",
       "      <td>False</td>\n",
       "      <td>False</td>\n",
       "      <td>False</td>\n",
       "      <td>NaN</td>\n",
       "      <td>TRAFFIC VIOLATION</td>\n",
       "      <td>BLUE</td>\n",
       "      <td>NISSAN</td>\n",
       "      <td>MURANO</td>\n",
       "      <td>2005.0</td>\n",
       "      <td>NaN</td>\n",
       "      <td>BLACK</td>\n",
       "    </tr>\n",
       "    <tr>\n",
       "      <th>2</th>\n",
       "      <td>9086</td>\n",
       "      <td>2010-01-01</td>\n",
       "      <td>01:29:00</td>\n",
       "      <td>NaN</td>\n",
       "      <td>NaN</td>\n",
       "      <td>NaN</td>\n",
       "      <td>7</td>\n",
       "      <td>C</td>\n",
       "      <td>37.0</td>\n",
       "      <td>black</td>\n",
       "      <td>male</td>\n",
       "      <td>7th  District</td>\n",
       "      <td>vehicular</td>\n",
       "      <td>False</td>\n",
       "      <td>False</td>\n",
       "      <td>False</td>\n",
       "      <td>NaN</td>\n",
       "      <td>NaN</td>\n",
       "      <td>NaN</td>\n",
       "      <td>NaN</td>\n",
       "      <td>False</td>\n",
       "      <td>False</td>\n",
       "      <td>False</td>\n",
       "      <td>False</td>\n",
       "      <td>NaN</td>\n",
       "      <td>TRAFFIC VIOLATION</td>\n",
       "      <td>BLUE</td>\n",
       "      <td>NISSAN</td>\n",
       "      <td>MURANO</td>\n",
       "      <td>2005.0</td>\n",
       "      <td>NaN</td>\n",
       "      <td>BLACK</td>\n",
       "    </tr>\n",
       "    <tr>\n",
       "      <th>3</th>\n",
       "      <td>267</td>\n",
       "      <td>2010-01-01</td>\n",
       "      <td>14:00:00</td>\n",
       "      <td>NaN</td>\n",
       "      <td>NaN</td>\n",
       "      <td>NaN</td>\n",
       "      <td>7</td>\n",
       "      <td>I</td>\n",
       "      <td>96.0</td>\n",
       "      <td>black</td>\n",
       "      <td>male</td>\n",
       "      <td>7th  District</td>\n",
       "      <td>vehicular</td>\n",
       "      <td>False</td>\n",
       "      <td>False</td>\n",
       "      <td>False</td>\n",
       "      <td>NaN</td>\n",
       "      <td>NaN</td>\n",
       "      <td>NaN</td>\n",
       "      <td>NaN</td>\n",
       "      <td>False</td>\n",
       "      <td>False</td>\n",
       "      <td>False</td>\n",
       "      <td>False</td>\n",
       "      <td>NaN</td>\n",
       "      <td>TRAFFIC VIOLATION</td>\n",
       "      <td>GRAY</td>\n",
       "      <td>JEEP</td>\n",
       "      <td>GRAND CHEROKEE</td>\n",
       "      <td>2003.0</td>\n",
       "      <td>NaN</td>\n",
       "      <td>BLACK</td>\n",
       "    </tr>\n",
       "    <tr>\n",
       "      <th>4</th>\n",
       "      <td>2</td>\n",
       "      <td>2010-01-01</td>\n",
       "      <td>02:06:00</td>\n",
       "      <td>NaN</td>\n",
       "      <td>NaN</td>\n",
       "      <td>NaN</td>\n",
       "      <td>5</td>\n",
       "      <td>D</td>\n",
       "      <td>17.0</td>\n",
       "      <td>black</td>\n",
       "      <td>male</td>\n",
       "      <td>5th  District</td>\n",
       "      <td>NaN</td>\n",
       "      <td>False</td>\n",
       "      <td>False</td>\n",
       "      <td>False</td>\n",
       "      <td>NaN</td>\n",
       "      <td>NaN</td>\n",
       "      <td>NaN</td>\n",
       "      <td>NaN</td>\n",
       "      <td>False</td>\n",
       "      <td>False</td>\n",
       "      <td>False</td>\n",
       "      <td>False</td>\n",
       "      <td>NaN</td>\n",
       "      <td>CALL FOR SERVICE</td>\n",
       "      <td>NaN</td>\n",
       "      <td>NaN</td>\n",
       "      <td>NaN</td>\n",
       "      <td>NaN</td>\n",
       "      <td>NaN</td>\n",
       "      <td>BLACK</td>\n",
       "    </tr>\n",
       "  </tbody>\n",
       "</table>\n",
       "</div>"
      ],
      "text/plain": [
       "  raw_row_number        date      time location  lat  lng district zone  \\\n",
       "0              1  2010-01-01  01:11:00      NaN  NaN  NaN        6    E   \n",
       "1           9087  2010-01-01  01:29:00      NaN  NaN  NaN        7    C   \n",
       "2           9086  2010-01-01  01:29:00      NaN  NaN  NaN        7    C   \n",
       "3            267  2010-01-01  14:00:00      NaN  NaN  NaN        7    I   \n",
       "4              2  2010-01-01  02:06:00      NaN  NaN  NaN        5    D   \n",
       "\n",
       "   subject_age subject_race subject_sex officer_assignment       type  \\\n",
       "0         26.0        black      female      6th  District  vehicular   \n",
       "1         37.0        black        male      7th  District  vehicular   \n",
       "2         37.0        black        male      7th  District  vehicular   \n",
       "3         96.0        black        male      7th  District  vehicular   \n",
       "4         17.0        black        male      5th  District        NaN   \n",
       "\n",
       "   arrest_made  citation_issued  warning_issued outcome contraband_found  \\\n",
       "0        False            False           False     NaN              NaN   \n",
       "1        False            False           False     NaN              NaN   \n",
       "2        False            False           False     NaN              NaN   \n",
       "3        False            False           False     NaN              NaN   \n",
       "4        False            False           False     NaN              NaN   \n",
       "\n",
       "  contraband_drugs contraband_weapons  frisk_performed  search_conducted  \\\n",
       "0              NaN                NaN            False             False   \n",
       "1              NaN                NaN            False             False   \n",
       "2              NaN                NaN            False             False   \n",
       "3              NaN                NaN            False             False   \n",
       "4              NaN                NaN            False             False   \n",
       "\n",
       "   search_person  search_vehicle search_basis    reason_for_stop  \\\n",
       "0          False           False          NaN  TRAFFIC VIOLATION   \n",
       "1          False           False          NaN  TRAFFIC VIOLATION   \n",
       "2          False           False          NaN  TRAFFIC VIOLATION   \n",
       "3          False           False          NaN  TRAFFIC VIOLATION   \n",
       "4          False           False          NaN   CALL FOR SERVICE   \n",
       "\n",
       "  vehicle_color vehicle_make   vehicle_model  vehicle_year raw_actions_taken  \\\n",
       "0         BLACK        DODGE         CARAVAN        2005.0               NaN   \n",
       "1          BLUE       NISSAN          MURANO        2005.0               NaN   \n",
       "2          BLUE       NISSAN          MURANO        2005.0               NaN   \n",
       "3          GRAY         JEEP  GRAND CHEROKEE        2003.0               NaN   \n",
       "4           NaN          NaN             NaN           NaN               NaN   \n",
       "\n",
       "  raw_subject_race  \n",
       "0            BLACK  \n",
       "1            BLACK  \n",
       "2            BLACK  \n",
       "3            BLACK  \n",
       "4            BLACK  "
      ]
     },
     "execution_count": 3,
     "metadata": {},
     "output_type": "execute_result"
    }
   ],
   "source": [
    "data.head()"
   ]
  },
  {
   "cell_type": "code",
   "execution_count": 4,
   "metadata": {},
   "outputs": [
    {
     "data": {
      "text/plain": [
       "(512092, 32)"
      ]
     },
     "execution_count": 4,
     "metadata": {},
     "output_type": "execute_result"
    }
   ],
   "source": [
    "data.shape"
   ]
  },
  {
   "cell_type": "markdown",
   "metadata": {},
   "source": [
    "### 1. Checking null values"
   ]
  },
  {
   "cell_type": "code",
   "execution_count": 5,
   "metadata": {},
   "outputs": [
    {
     "data": {
      "text/plain": [
       "raw_row_number             0\n",
       "date                       4\n",
       "time                       0\n",
       "location               95986\n",
       "lat                   251684\n",
       "lng                   251684\n",
       "district                   0\n",
       "zone                       0\n",
       "subject_age            12786\n",
       "subject_race           11730\n",
       "subject_sex            11730\n",
       "officer_assignment       123\n",
       "type                  149907\n",
       "arrest_made                0\n",
       "citation_issued            0\n",
       "warning_issued             0\n",
       "outcome               176487\n",
       "contraband_found      436301\n",
       "contraband_drugs      436301\n",
       "contraband_weapons    436301\n",
       "frisk_performed            0\n",
       "search_conducted           0\n",
       "search_person              0\n",
       "search_vehicle             0\n",
       "search_basis          436301\n",
       "reason_for_stop            0\n",
       "vehicle_color         239138\n",
       "vehicle_make          235765\n",
       "vehicle_model         252982\n",
       "vehicle_year          240388\n",
       "raw_actions_taken     122455\n",
       "raw_subject_race       11730\n",
       "dtype: int64"
      ]
     },
     "execution_count": 5,
     "metadata": {},
     "output_type": "execute_result"
    }
   ],
   "source": [
    "data.isna().sum()"
   ]
  },
  {
   "cell_type": "code",
   "execution_count": 6,
   "metadata": {},
   "outputs": [],
   "source": [
    "#Removing columsn where null values represent at most 10% of the data\n",
    "data = data.dropna(thresh=data.shape[0]*0.1, axis=1)"
   ]
  },
  {
   "cell_type": "code",
   "execution_count": 7,
   "metadata": {},
   "outputs": [
    {
     "data": {
      "text/plain": [
       "(512092, 32)"
      ]
     },
     "execution_count": 7,
     "metadata": {},
     "output_type": "execute_result"
    }
   ],
   "source": [
    "data.shape"
   ]
  },
  {
   "cell_type": "markdown",
   "metadata": {},
   "source": [
    "### 2.Checking data types and make corrections if necessary"
   ]
  },
  {
   "cell_type": "code",
   "execution_count": 8,
   "metadata": {},
   "outputs": [
    {
     "data": {
      "text/plain": [
       "raw_row_number         object\n",
       "date                   object\n",
       "time                   object\n",
       "location               object\n",
       "lat                   float64\n",
       "lng                   float64\n",
       "district               object\n",
       "zone                   object\n",
       "subject_age           float64\n",
       "subject_race           object\n",
       "subject_sex            object\n",
       "officer_assignment     object\n",
       "type                   object\n",
       "arrest_made              bool\n",
       "citation_issued          bool\n",
       "warning_issued           bool\n",
       "outcome                object\n",
       "contraband_found       object\n",
       "contraband_drugs       object\n",
       "contraband_weapons     object\n",
       "frisk_performed          bool\n",
       "search_conducted         bool\n",
       "search_person            bool\n",
       "search_vehicle           bool\n",
       "search_basis           object\n",
       "reason_for_stop        object\n",
       "vehicle_color          object\n",
       "vehicle_make           object\n",
       "vehicle_model          object\n",
       "vehicle_year          float64\n",
       "raw_actions_taken      object\n",
       "raw_subject_race       object\n",
       "dtype: object"
      ]
     },
     "execution_count": 8,
     "metadata": {},
     "output_type": "execute_result"
    }
   ],
   "source": [
    "data.dtypes"
   ]
  },
  {
   "cell_type": "code",
   "execution_count": 9,
   "metadata": {},
   "outputs": [],
   "source": [
    "#Changing date and time column to datetime type\n",
    "data = data.astype({'date': 'datetime64[ns]', 'time':'datetime64[ns]' })"
   ]
  },
  {
   "cell_type": "code",
   "execution_count": 10,
   "metadata": {},
   "outputs": [],
   "source": [
    "#Getting full hour from the time column\n",
    "data['time'] = pd.to_datetime(data['time']).dt.hour"
   ]
  },
  {
   "cell_type": "code",
   "execution_count": 11,
   "metadata": {},
   "outputs": [
    {
     "data": {
      "text/html": [
       "<div>\n",
       "<style scoped>\n",
       "    .dataframe tbody tr th:only-of-type {\n",
       "        vertical-align: middle;\n",
       "    }\n",
       "\n",
       "    .dataframe tbody tr th {\n",
       "        vertical-align: top;\n",
       "    }\n",
       "\n",
       "    .dataframe thead th {\n",
       "        text-align: right;\n",
       "    }\n",
       "</style>\n",
       "<table border=\"1\" class=\"dataframe\">\n",
       "  <thead>\n",
       "    <tr style=\"text-align: right;\">\n",
       "      <th></th>\n",
       "      <th>raw_row_number</th>\n",
       "      <th>date</th>\n",
       "      <th>time</th>\n",
       "      <th>location</th>\n",
       "      <th>lat</th>\n",
       "      <th>lng</th>\n",
       "      <th>district</th>\n",
       "      <th>zone</th>\n",
       "      <th>subject_age</th>\n",
       "      <th>subject_race</th>\n",
       "      <th>subject_sex</th>\n",
       "      <th>officer_assignment</th>\n",
       "      <th>type</th>\n",
       "      <th>arrest_made</th>\n",
       "      <th>citation_issued</th>\n",
       "      <th>warning_issued</th>\n",
       "      <th>outcome</th>\n",
       "      <th>contraband_found</th>\n",
       "      <th>contraband_drugs</th>\n",
       "      <th>contraband_weapons</th>\n",
       "      <th>frisk_performed</th>\n",
       "      <th>search_conducted</th>\n",
       "      <th>search_person</th>\n",
       "      <th>search_vehicle</th>\n",
       "      <th>search_basis</th>\n",
       "      <th>reason_for_stop</th>\n",
       "      <th>vehicle_color</th>\n",
       "      <th>vehicle_make</th>\n",
       "      <th>vehicle_model</th>\n",
       "      <th>vehicle_year</th>\n",
       "      <th>raw_actions_taken</th>\n",
       "      <th>raw_subject_race</th>\n",
       "    </tr>\n",
       "  </thead>\n",
       "  <tbody>\n",
       "    <tr>\n",
       "      <th>0</th>\n",
       "      <td>1</td>\n",
       "      <td>2010-01-01</td>\n",
       "      <td>1</td>\n",
       "      <td>NaN</td>\n",
       "      <td>NaN</td>\n",
       "      <td>NaN</td>\n",
       "      <td>6</td>\n",
       "      <td>E</td>\n",
       "      <td>26.0</td>\n",
       "      <td>black</td>\n",
       "      <td>female</td>\n",
       "      <td>6th  District</td>\n",
       "      <td>vehicular</td>\n",
       "      <td>False</td>\n",
       "      <td>False</td>\n",
       "      <td>False</td>\n",
       "      <td>NaN</td>\n",
       "      <td>NaN</td>\n",
       "      <td>NaN</td>\n",
       "      <td>NaN</td>\n",
       "      <td>False</td>\n",
       "      <td>False</td>\n",
       "      <td>False</td>\n",
       "      <td>False</td>\n",
       "      <td>NaN</td>\n",
       "      <td>TRAFFIC VIOLATION</td>\n",
       "      <td>BLACK</td>\n",
       "      <td>DODGE</td>\n",
       "      <td>CARAVAN</td>\n",
       "      <td>2005.0</td>\n",
       "      <td>NaN</td>\n",
       "      <td>BLACK</td>\n",
       "    </tr>\n",
       "    <tr>\n",
       "      <th>1</th>\n",
       "      <td>9087</td>\n",
       "      <td>2010-01-01</td>\n",
       "      <td>1</td>\n",
       "      <td>NaN</td>\n",
       "      <td>NaN</td>\n",
       "      <td>NaN</td>\n",
       "      <td>7</td>\n",
       "      <td>C</td>\n",
       "      <td>37.0</td>\n",
       "      <td>black</td>\n",
       "      <td>male</td>\n",
       "      <td>7th  District</td>\n",
       "      <td>vehicular</td>\n",
       "      <td>False</td>\n",
       "      <td>False</td>\n",
       "      <td>False</td>\n",
       "      <td>NaN</td>\n",
       "      <td>NaN</td>\n",
       "      <td>NaN</td>\n",
       "      <td>NaN</td>\n",
       "      <td>False</td>\n",
       "      <td>False</td>\n",
       "      <td>False</td>\n",
       "      <td>False</td>\n",
       "      <td>NaN</td>\n",
       "      <td>TRAFFIC VIOLATION</td>\n",
       "      <td>BLUE</td>\n",
       "      <td>NISSAN</td>\n",
       "      <td>MURANO</td>\n",
       "      <td>2005.0</td>\n",
       "      <td>NaN</td>\n",
       "      <td>BLACK</td>\n",
       "    </tr>\n",
       "    <tr>\n",
       "      <th>2</th>\n",
       "      <td>9086</td>\n",
       "      <td>2010-01-01</td>\n",
       "      <td>1</td>\n",
       "      <td>NaN</td>\n",
       "      <td>NaN</td>\n",
       "      <td>NaN</td>\n",
       "      <td>7</td>\n",
       "      <td>C</td>\n",
       "      <td>37.0</td>\n",
       "      <td>black</td>\n",
       "      <td>male</td>\n",
       "      <td>7th  District</td>\n",
       "      <td>vehicular</td>\n",
       "      <td>False</td>\n",
       "      <td>False</td>\n",
       "      <td>False</td>\n",
       "      <td>NaN</td>\n",
       "      <td>NaN</td>\n",
       "      <td>NaN</td>\n",
       "      <td>NaN</td>\n",
       "      <td>False</td>\n",
       "      <td>False</td>\n",
       "      <td>False</td>\n",
       "      <td>False</td>\n",
       "      <td>NaN</td>\n",
       "      <td>TRAFFIC VIOLATION</td>\n",
       "      <td>BLUE</td>\n",
       "      <td>NISSAN</td>\n",
       "      <td>MURANO</td>\n",
       "      <td>2005.0</td>\n",
       "      <td>NaN</td>\n",
       "      <td>BLACK</td>\n",
       "    </tr>\n",
       "    <tr>\n",
       "      <th>3</th>\n",
       "      <td>267</td>\n",
       "      <td>2010-01-01</td>\n",
       "      <td>14</td>\n",
       "      <td>NaN</td>\n",
       "      <td>NaN</td>\n",
       "      <td>NaN</td>\n",
       "      <td>7</td>\n",
       "      <td>I</td>\n",
       "      <td>96.0</td>\n",
       "      <td>black</td>\n",
       "      <td>male</td>\n",
       "      <td>7th  District</td>\n",
       "      <td>vehicular</td>\n",
       "      <td>False</td>\n",
       "      <td>False</td>\n",
       "      <td>False</td>\n",
       "      <td>NaN</td>\n",
       "      <td>NaN</td>\n",
       "      <td>NaN</td>\n",
       "      <td>NaN</td>\n",
       "      <td>False</td>\n",
       "      <td>False</td>\n",
       "      <td>False</td>\n",
       "      <td>False</td>\n",
       "      <td>NaN</td>\n",
       "      <td>TRAFFIC VIOLATION</td>\n",
       "      <td>GRAY</td>\n",
       "      <td>JEEP</td>\n",
       "      <td>GRAND CHEROKEE</td>\n",
       "      <td>2003.0</td>\n",
       "      <td>NaN</td>\n",
       "      <td>BLACK</td>\n",
       "    </tr>\n",
       "    <tr>\n",
       "      <th>4</th>\n",
       "      <td>2</td>\n",
       "      <td>2010-01-01</td>\n",
       "      <td>2</td>\n",
       "      <td>NaN</td>\n",
       "      <td>NaN</td>\n",
       "      <td>NaN</td>\n",
       "      <td>5</td>\n",
       "      <td>D</td>\n",
       "      <td>17.0</td>\n",
       "      <td>black</td>\n",
       "      <td>male</td>\n",
       "      <td>5th  District</td>\n",
       "      <td>NaN</td>\n",
       "      <td>False</td>\n",
       "      <td>False</td>\n",
       "      <td>False</td>\n",
       "      <td>NaN</td>\n",
       "      <td>NaN</td>\n",
       "      <td>NaN</td>\n",
       "      <td>NaN</td>\n",
       "      <td>False</td>\n",
       "      <td>False</td>\n",
       "      <td>False</td>\n",
       "      <td>False</td>\n",
       "      <td>NaN</td>\n",
       "      <td>CALL FOR SERVICE</td>\n",
       "      <td>NaN</td>\n",
       "      <td>NaN</td>\n",
       "      <td>NaN</td>\n",
       "      <td>NaN</td>\n",
       "      <td>NaN</td>\n",
       "      <td>BLACK</td>\n",
       "    </tr>\n",
       "  </tbody>\n",
       "</table>\n",
       "</div>"
      ],
      "text/plain": [
       "  raw_row_number       date  time location  lat  lng district zone  \\\n",
       "0              1 2010-01-01     1      NaN  NaN  NaN        6    E   \n",
       "1           9087 2010-01-01     1      NaN  NaN  NaN        7    C   \n",
       "2           9086 2010-01-01     1      NaN  NaN  NaN        7    C   \n",
       "3            267 2010-01-01    14      NaN  NaN  NaN        7    I   \n",
       "4              2 2010-01-01     2      NaN  NaN  NaN        5    D   \n",
       "\n",
       "   subject_age subject_race subject_sex officer_assignment       type  \\\n",
       "0         26.0        black      female      6th  District  vehicular   \n",
       "1         37.0        black        male      7th  District  vehicular   \n",
       "2         37.0        black        male      7th  District  vehicular   \n",
       "3         96.0        black        male      7th  District  vehicular   \n",
       "4         17.0        black        male      5th  District        NaN   \n",
       "\n",
       "   arrest_made  citation_issued  warning_issued outcome contraband_found  \\\n",
       "0        False            False           False     NaN              NaN   \n",
       "1        False            False           False     NaN              NaN   \n",
       "2        False            False           False     NaN              NaN   \n",
       "3        False            False           False     NaN              NaN   \n",
       "4        False            False           False     NaN              NaN   \n",
       "\n",
       "  contraband_drugs contraband_weapons  frisk_performed  search_conducted  \\\n",
       "0              NaN                NaN            False             False   \n",
       "1              NaN                NaN            False             False   \n",
       "2              NaN                NaN            False             False   \n",
       "3              NaN                NaN            False             False   \n",
       "4              NaN                NaN            False             False   \n",
       "\n",
       "   search_person  search_vehicle search_basis    reason_for_stop  \\\n",
       "0          False           False          NaN  TRAFFIC VIOLATION   \n",
       "1          False           False          NaN  TRAFFIC VIOLATION   \n",
       "2          False           False          NaN  TRAFFIC VIOLATION   \n",
       "3          False           False          NaN  TRAFFIC VIOLATION   \n",
       "4          False           False          NaN   CALL FOR SERVICE   \n",
       "\n",
       "  vehicle_color vehicle_make   vehicle_model  vehicle_year raw_actions_taken  \\\n",
       "0         BLACK        DODGE         CARAVAN        2005.0               NaN   \n",
       "1          BLUE       NISSAN          MURANO        2005.0               NaN   \n",
       "2          BLUE       NISSAN          MURANO        2005.0               NaN   \n",
       "3          GRAY         JEEP  GRAND CHEROKEE        2003.0               NaN   \n",
       "4           NaN          NaN             NaN           NaN               NaN   \n",
       "\n",
       "  raw_subject_race  \n",
       "0            BLACK  \n",
       "1            BLACK  \n",
       "2            BLACK  \n",
       "3            BLACK  \n",
       "4            BLACK  "
      ]
     },
     "execution_count": 11,
     "metadata": {},
     "output_type": "execute_result"
    }
   ],
   "source": [
    "data.head()"
   ]
  },
  {
   "cell_type": "markdown",
   "metadata": {},
   "source": [
    "### Q1. Do Black individuals get stopped by the police for suspicious activities more often than whites?\n"
   ]
  },
  {
   "cell_type": "code",
   "execution_count": 12,
   "metadata": {},
   "outputs": [
    {
     "data": {
      "text/html": [
       "<div>\n",
       "<style scoped>\n",
       "    .dataframe tbody tr th:only-of-type {\n",
       "        vertical-align: middle;\n",
       "    }\n",
       "\n",
       "    .dataframe tbody tr th {\n",
       "        vertical-align: top;\n",
       "    }\n",
       "\n",
       "    .dataframe thead th {\n",
       "        text-align: right;\n",
       "    }\n",
       "</style>\n",
       "<table border=\"1\" class=\"dataframe\">\n",
       "  <thead>\n",
       "    <tr style=\"text-align: right;\">\n",
       "      <th></th>\n",
       "      <th>subject_race</th>\n",
       "    </tr>\n",
       "  </thead>\n",
       "  <tbody>\n",
       "    <tr>\n",
       "      <th>black</th>\n",
       "      <td>69.91%</td>\n",
       "    </tr>\n",
       "    <tr>\n",
       "      <th>white</th>\n",
       "      <td>25.92%</td>\n",
       "    </tr>\n",
       "    <tr>\n",
       "      <th>hispanic</th>\n",
       "      <td>2.70%</td>\n",
       "    </tr>\n",
       "    <tr>\n",
       "      <th>asian/pacific islander</th>\n",
       "      <td>0.76%</td>\n",
       "    </tr>\n",
       "    <tr>\n",
       "      <th>unknown</th>\n",
       "      <td>0.64%</td>\n",
       "    </tr>\n",
       "    <tr>\n",
       "      <th>other</th>\n",
       "      <td>0.07%</td>\n",
       "    </tr>\n",
       "  </tbody>\n",
       "</table>\n",
       "</div>"
      ],
      "text/plain": [
       "                       subject_race\n",
       "black                        69.91%\n",
       "white                        25.92%\n",
       "hispanic                      2.70%\n",
       "asian/pacific islander        0.76%\n",
       "unknown                       0.64%\n",
       "other                         0.07%"
      ]
     },
     "execution_count": 12,
     "metadata": {},
     "output_type": "execute_result"
    }
   ],
   "source": [
    "data.subject_race.value_counts(normalize=True).to_frame().apply(lambda x: x*100).applymap(\"{0:.2f}%\".format)"
   ]
  },
  {
   "cell_type": "code",
   "execution_count": 13,
   "metadata": {},
   "outputs": [
    {
     "data": {
      "text/html": [
       "<div>\n",
       "<style scoped>\n",
       "    .dataframe tbody tr th:only-of-type {\n",
       "        vertical-align: middle;\n",
       "    }\n",
       "\n",
       "    .dataframe tbody tr th {\n",
       "        vertical-align: top;\n",
       "    }\n",
       "\n",
       "    .dataframe thead th {\n",
       "        text-align: right;\n",
       "    }\n",
       "</style>\n",
       "<table border=\"1\" class=\"dataframe\">\n",
       "  <thead>\n",
       "    <tr style=\"text-align: right;\">\n",
       "      <th></th>\n",
       "      <th>reason_for_stop</th>\n",
       "    </tr>\n",
       "  </thead>\n",
       "  <tbody>\n",
       "    <tr>\n",
       "      <th>TRAFFIC VIOLATION</th>\n",
       "      <td>57.08%</td>\n",
       "    </tr>\n",
       "    <tr>\n",
       "      <th>CALL FOR SERVICE</th>\n",
       "      <td>13.86%</td>\n",
       "    </tr>\n",
       "    <tr>\n",
       "      <th>SUSPECT PERSON</th>\n",
       "      <td>12.46%</td>\n",
       "    </tr>\n",
       "    <tr>\n",
       "      <th>CRIMINAL VIOLATION</th>\n",
       "      <td>5.88%</td>\n",
       "    </tr>\n",
       "    <tr>\n",
       "      <th>OTHER</th>\n",
       "      <td>4.79%</td>\n",
       "    </tr>\n",
       "    <tr>\n",
       "      <th>CITIZEN CONTACT</th>\n",
       "      <td>3.10%</td>\n",
       "    </tr>\n",
       "    <tr>\n",
       "      <th>SUSPECT VEHICLE</th>\n",
       "      <td>1.18%</td>\n",
       "    </tr>\n",
       "    <tr>\n",
       "      <th>FLAGGED DOWN</th>\n",
       "      <td>0.88%</td>\n",
       "    </tr>\n",
       "    <tr>\n",
       "      <th>JUVENILE VIOLATION</th>\n",
       "      <td>0.61%</td>\n",
       "    </tr>\n",
       "    <tr>\n",
       "      <th>PRESENT AT CRIME SCENE</th>\n",
       "      <td>0.15%</td>\n",
       "    </tr>\n",
       "  </tbody>\n",
       "</table>\n",
       "</div>"
      ],
      "text/plain": [
       "                       reason_for_stop\n",
       "TRAFFIC VIOLATION               57.08%\n",
       "CALL FOR SERVICE                13.86%\n",
       "SUSPECT PERSON                  12.46%\n",
       "CRIMINAL VIOLATION               5.88%\n",
       "OTHER                            4.79%\n",
       "CITIZEN CONTACT                  3.10%\n",
       "SUSPECT VEHICLE                  1.18%\n",
       "FLAGGED DOWN                     0.88%\n",
       "JUVENILE VIOLATION               0.61%\n",
       "PRESENT AT CRIME SCENE           0.15%"
      ]
     },
     "execution_count": 13,
     "metadata": {},
     "output_type": "execute_result"
    }
   ],
   "source": [
    "(data.reason_for_stop.value_counts(normalize=True).to_frame()\n",
    ".apply(lambda x: x*100)\n",
    ".applymap(\"{0:.2f}%\".format).head(10)\n",
    ")"
   ]
  },
  {
   "cell_type": "code",
   "execution_count": 14,
   "metadata": {},
   "outputs": [
    {
     "data": {
      "text/html": [
       "<div>\n",
       "<style scoped>\n",
       "    .dataframe tbody tr th:only-of-type {\n",
       "        vertical-align: middle;\n",
       "    }\n",
       "\n",
       "    .dataframe tbody tr th {\n",
       "        vertical-align: top;\n",
       "    }\n",
       "\n",
       "    .dataframe thead th {\n",
       "        text-align: right;\n",
       "    }\n",
       "</style>\n",
       "<table border=\"1\" class=\"dataframe\">\n",
       "  <thead>\n",
       "    <tr style=\"text-align: right;\">\n",
       "      <th></th>\n",
       "      <th>subject_race</th>\n",
       "    </tr>\n",
       "  </thead>\n",
       "  <tbody>\n",
       "    <tr>\n",
       "      <th>black</th>\n",
       "      <td>48386</td>\n",
       "    </tr>\n",
       "    <tr>\n",
       "      <th>white</th>\n",
       "      <td>13966</td>\n",
       "    </tr>\n",
       "    <tr>\n",
       "      <th>hispanic</th>\n",
       "      <td>911</td>\n",
       "    </tr>\n",
       "    <tr>\n",
       "      <th>asian/pacific islander</th>\n",
       "      <td>134</td>\n",
       "    </tr>\n",
       "    <tr>\n",
       "      <th>unknown</th>\n",
       "      <td>93</td>\n",
       "    </tr>\n",
       "    <tr>\n",
       "      <th>other</th>\n",
       "      <td>20</td>\n",
       "    </tr>\n",
       "  </tbody>\n",
       "</table>\n",
       "</div>"
      ],
      "text/plain": [
       "                        subject_race\n",
       "black                          48386\n",
       "white                          13966\n",
       "hispanic                         911\n",
       "asian/pacific islander           134\n",
       "unknown                           93\n",
       "other                             20"
      ]
     },
     "execution_count": 14,
     "metadata": {},
     "output_type": "execute_result"
    }
   ],
   "source": [
    "data[data.reason_for_stop ==\"SUSPECT PERSON\"][\"subject_race\"].value_counts().to_frame()"
   ]
  },
  {
   "cell_type": "markdown",
   "metadata": {},
   "source": [
    "#### If I would like to have relative proportions instead of absolute values, as well as having it presented in a neat way, I would use the following:"
   ]
  },
  {
   "cell_type": "code",
   "execution_count": 15,
   "metadata": {},
   "outputs": [],
   "source": [
    "data_race = data[data.reason_for_stop ==\"SUSPECT PERSON\"].subject_race.value_counts(normalize = True).to_frame()"
   ]
  },
  {
   "cell_type": "code",
   "execution_count": 16,
   "metadata": {},
   "outputs": [],
   "source": [
    "data_race[\"subject_race\"] = data_race[\"subject_race\"] * 100"
   ]
  },
  {
   "cell_type": "code",
   "execution_count": 17,
   "metadata": {},
   "outputs": [],
   "source": [
    "format_dict = {\"subject_race\":\"{:.2f}%\", 'reason_for_stop': '{:.2f}%' }"
   ]
  },
  {
   "cell_type": "code",
   "execution_count": 18,
   "metadata": {},
   "outputs": [
    {
     "data": {
      "text/html": [
       "<style  type=\"text/css\" >\n",
       "    #T_b014c76c_e1ee_11e9_80a3_acde48001122row0_col0 {\n",
       "            background:  tomato;\n",
       "        }    #T_b014c76c_e1ee_11e9_80a3_acde48001122row1_col0 {\n",
       "            background:  tomato;\n",
       "        }</style><table id=\"T_b014c76c_e1ee_11e9_80a3_acde48001122\" ><thead>    <tr>        <th class=\"blank level0\" ></th>        <th class=\"col_heading level0 col0\" >subject_race</th>    </tr></thead><tbody>\n",
       "                <tr>\n",
       "                        <th id=\"T_b014c76c_e1ee_11e9_80a3_acde48001122level0_row0\" class=\"row_heading level0 row0\" >black</th>\n",
       "                        <td id=\"T_b014c76c_e1ee_11e9_80a3_acde48001122row0_col0\" class=\"data row0 col0\" >76.19%</td>\n",
       "            </tr>\n",
       "            <tr>\n",
       "                        <th id=\"T_b014c76c_e1ee_11e9_80a3_acde48001122level0_row1\" class=\"row_heading level0 row1\" >white</th>\n",
       "                        <td id=\"T_b014c76c_e1ee_11e9_80a3_acde48001122row1_col0\" class=\"data row1 col0\" >21.99%</td>\n",
       "            </tr>\n",
       "            <tr>\n",
       "                        <th id=\"T_b014c76c_e1ee_11e9_80a3_acde48001122level0_row2\" class=\"row_heading level0 row2\" >hispanic</th>\n",
       "                        <td id=\"T_b014c76c_e1ee_11e9_80a3_acde48001122row2_col0\" class=\"data row2 col0\" >1.43%</td>\n",
       "            </tr>\n",
       "            <tr>\n",
       "                        <th id=\"T_b014c76c_e1ee_11e9_80a3_acde48001122level0_row3\" class=\"row_heading level0 row3\" >asian/pacific islander</th>\n",
       "                        <td id=\"T_b014c76c_e1ee_11e9_80a3_acde48001122row3_col0\" class=\"data row3 col0\" >0.21%</td>\n",
       "            </tr>\n",
       "            <tr>\n",
       "                        <th id=\"T_b014c76c_e1ee_11e9_80a3_acde48001122level0_row4\" class=\"row_heading level0 row4\" >unknown</th>\n",
       "                        <td id=\"T_b014c76c_e1ee_11e9_80a3_acde48001122row4_col0\" class=\"data row4 col0\" >0.15%</td>\n",
       "            </tr>\n",
       "            <tr>\n",
       "                        <th id=\"T_b014c76c_e1ee_11e9_80a3_acde48001122level0_row5\" class=\"row_heading level0 row5\" >other</th>\n",
       "                        <td id=\"T_b014c76c_e1ee_11e9_80a3_acde48001122row5_col0\" class=\"data row5 col0\" >0.03%</td>\n",
       "            </tr>\n",
       "    </tbody></table>"
      ],
      "text/plain": [
       "<pandas.io.formats.style.Styler at 0x1a2139bac8>"
      ]
     },
     "execution_count": 18,
     "metadata": {},
     "output_type": "execute_result"
    }
   ],
   "source": [
    "(data_race.style.format(format_dict)\n",
    ".apply(lambda x: ['background: tomato' if c == x.loc['black'] or c == x.loc['white'] else \"\" for c in x], axis=0)\n",
    ")"
   ]
  },
  {
   "cell_type": "markdown",
   "metadata": {},
   "source": [
    "#### Comments:\n",
    "\n",
    "The data indicate that 76% of the people that were stopped by the police because of suspicious reasons were African-American against only 22% of white people. It is important to mention that as seen before, the distributions of races is not balanced, especially between the two races of interest, black and white. For this reason, it is important to compare the percentage of being stopped for suspicious reasons between classes separately to see if the police are bias when seen a black or white person as a suspect just because of the color of their skin. "
   ]
  },
  {
   "cell_type": "markdown",
   "metadata": {},
   "source": [
    "#### Q1.2. Given that someone is pulled over for a suspicious reason, how often is because the person is black or white?\n"
   ]
  },
  {
   "cell_type": "markdown",
   "metadata": {},
   "source": [
    "#### For a black person"
   ]
  },
  {
   "cell_type": "code",
   "execution_count": 19,
   "metadata": {},
   "outputs": [],
   "source": [
    "data_suspect_black = data[data.subject_race == 'black'].reason_for_stop.value_counts(normalize=True).to_frame()"
   ]
  },
  {
   "cell_type": "code",
   "execution_count": 20,
   "metadata": {},
   "outputs": [],
   "source": [
    "data_suspect_black.reason_for_stop = data_suspect_black.reason_for_stop * 100"
   ]
  },
  {
   "cell_type": "code",
   "execution_count": 21,
   "metadata": {},
   "outputs": [
    {
     "data": {
      "text/html": [
       "<style  type=\"text/css\" >\n",
       "    #T_b03186cc_e1ee_11e9_80a3_acde48001122row2_col0 {\n",
       "            background:  tomato;\n",
       "        }</style><table id=\"T_b03186cc_e1ee_11e9_80a3_acde48001122\" ><thead>    <tr>        <th class=\"blank level0\" ></th>        <th class=\"col_heading level0 col0\" >reason_for_stop</th>    </tr></thead><tbody>\n",
       "                <tr>\n",
       "                        <th id=\"T_b03186cc_e1ee_11e9_80a3_acde48001122level0_row0\" class=\"row_heading level0 row0\" >TRAFFIC VIOLATION</th>\n",
       "                        <td id=\"T_b03186cc_e1ee_11e9_80a3_acde48001122row0_col0\" class=\"data row0 col0\" >56.41%</td>\n",
       "            </tr>\n",
       "            <tr>\n",
       "                        <th id=\"T_b03186cc_e1ee_11e9_80a3_acde48001122level0_row1\" class=\"row_heading level0 row1\" >CALL FOR SERVICE</th>\n",
       "                        <td id=\"T_b03186cc_e1ee_11e9_80a3_acde48001122row1_col0\" class=\"data row1 col0\" >13.97%</td>\n",
       "            </tr>\n",
       "            <tr>\n",
       "                        <th id=\"T_b03186cc_e1ee_11e9_80a3_acde48001122level0_row2\" class=\"row_heading level0 row2\" >SUSPECT PERSON</th>\n",
       "                        <td id=\"T_b03186cc_e1ee_11e9_80a3_acde48001122row2_col0\" class=\"data row2 col0\" >13.83%</td>\n",
       "            </tr>\n",
       "            <tr>\n",
       "                        <th id=\"T_b03186cc_e1ee_11e9_80a3_acde48001122level0_row3\" class=\"row_heading level0 row3\" >OTHER</th>\n",
       "                        <td id=\"T_b03186cc_e1ee_11e9_80a3_acde48001122row3_col0\" class=\"data row3 col0\" >5.11%</td>\n",
       "            </tr>\n",
       "            <tr>\n",
       "                        <th id=\"T_b03186cc_e1ee_11e9_80a3_acde48001122level0_row4\" class=\"row_heading level0 row4\" >CRIMINAL VIOLATION</th>\n",
       "                        <td id=\"T_b03186cc_e1ee_11e9_80a3_acde48001122row4_col0\" class=\"data row4 col0\" >4.59%</td>\n",
       "            </tr>\n",
       "            <tr>\n",
       "                        <th id=\"T_b03186cc_e1ee_11e9_80a3_acde48001122level0_row5\" class=\"row_heading level0 row5\" >CITIZEN CONTACT</th>\n",
       "                        <td id=\"T_b03186cc_e1ee_11e9_80a3_acde48001122row5_col0\" class=\"data row5 col0\" >3.21%</td>\n",
       "            </tr>\n",
       "            <tr>\n",
       "                        <th id=\"T_b03186cc_e1ee_11e9_80a3_acde48001122level0_row6\" class=\"row_heading level0 row6\" >SUSPECT VEHICLE</th>\n",
       "                        <td id=\"T_b03186cc_e1ee_11e9_80a3_acde48001122row6_col0\" class=\"data row6 col0\" >1.21%</td>\n",
       "            </tr>\n",
       "            <tr>\n",
       "                        <th id=\"T_b03186cc_e1ee_11e9_80a3_acde48001122level0_row7\" class=\"row_heading level0 row7\" >JUVENILE VIOLATION</th>\n",
       "                        <td id=\"T_b03186cc_e1ee_11e9_80a3_acde48001122row7_col0\" class=\"data row7 col0\" >0.81%</td>\n",
       "            </tr>\n",
       "            <tr>\n",
       "                        <th id=\"T_b03186cc_e1ee_11e9_80a3_acde48001122level0_row8\" class=\"row_heading level0 row8\" >FLAGGED DOWN</th>\n",
       "                        <td id=\"T_b03186cc_e1ee_11e9_80a3_acde48001122row8_col0\" class=\"data row8 col0\" >0.67%</td>\n",
       "            </tr>\n",
       "            <tr>\n",
       "                        <th id=\"T_b03186cc_e1ee_11e9_80a3_acde48001122level0_row9\" class=\"row_heading level0 row9\" >PRESENT AT CRIME SCENE</th>\n",
       "                        <td id=\"T_b03186cc_e1ee_11e9_80a3_acde48001122row9_col0\" class=\"data row9 col0\" >0.18%</td>\n",
       "            </tr>\n",
       "    </tbody></table>"
      ],
      "text/plain": [
       "<pandas.io.formats.style.Styler at 0x1a22057320>"
      ]
     },
     "execution_count": 21,
     "metadata": {},
     "output_type": "execute_result"
    }
   ],
   "source": [
    "(data_suspect_black.style.format(format_dict)\n",
    ".apply(lambda x: ['background: tomato' if c == x.loc['SUSPECT PERSON'] else \"\" for c in x], axis=0)\n",
    ")"
   ]
  },
  {
   "cell_type": "markdown",
   "metadata": {},
   "source": [
    "#### For a white person"
   ]
  },
  {
   "cell_type": "code",
   "execution_count": 22,
   "metadata": {},
   "outputs": [],
   "source": [
    "data_suspect_white = data[data.subject_race == 'white'].reason_for_stop.value_counts(normalize=True).to_frame()"
   ]
  },
  {
   "cell_type": "code",
   "execution_count": 23,
   "metadata": {},
   "outputs": [],
   "source": [
    "data_suspect_white.reason_for_stop = data_suspect_white.reason_for_stop * 100 "
   ]
  },
  {
   "cell_type": "code",
   "execution_count": 24,
   "metadata": {},
   "outputs": [
    {
     "data": {
      "text/html": [
       "<style  type=\"text/css\" >\n",
       "    #T_b0456142_e1ee_11e9_80a3_acde48001122row2_col0 {\n",
       "            background:  tomato;\n",
       "        }</style><table id=\"T_b0456142_e1ee_11e9_80a3_acde48001122\" ><thead>    <tr>        <th class=\"blank level0\" ></th>        <th class=\"col_heading level0 col0\" >reason_for_stop</th>    </tr></thead><tbody>\n",
       "                <tr>\n",
       "                        <th id=\"T_b0456142_e1ee_11e9_80a3_acde48001122level0_row0\" class=\"row_heading level0 row0\" >TRAFFIC VIOLATION</th>\n",
       "                        <td id=\"T_b0456142_e1ee_11e9_80a3_acde48001122row0_col0\" class=\"data row0 col0\" >54.54%</td>\n",
       "            </tr>\n",
       "            <tr>\n",
       "                        <th id=\"T_b0456142_e1ee_11e9_80a3_acde48001122level0_row1\" class=\"row_heading level0 row1\" >CALL FOR SERVICE</th>\n",
       "                        <td id=\"T_b0456142_e1ee_11e9_80a3_acde48001122row1_col0\" class=\"data row1 col0\" >14.43%</td>\n",
       "            </tr>\n",
       "            <tr>\n",
       "                        <th id=\"T_b0456142_e1ee_11e9_80a3_acde48001122level0_row2\" class=\"row_heading level0 row2\" >SUSPECT PERSON</th>\n",
       "                        <td id=\"T_b0456142_e1ee_11e9_80a3_acde48001122row2_col0\" class=\"data row2 col0\" >10.77%</td>\n",
       "            </tr>\n",
       "            <tr>\n",
       "                        <th id=\"T_b0456142_e1ee_11e9_80a3_acde48001122level0_row3\" class=\"row_heading level0 row3\" >CRIMINAL VIOLATION</th>\n",
       "                        <td id=\"T_b0456142_e1ee_11e9_80a3_acde48001122row3_col0\" class=\"data row3 col0\" >10.06%</td>\n",
       "            </tr>\n",
       "            <tr>\n",
       "                        <th id=\"T_b0456142_e1ee_11e9_80a3_acde48001122level0_row4\" class=\"row_heading level0 row4\" >OTHER</th>\n",
       "                        <td id=\"T_b0456142_e1ee_11e9_80a3_acde48001122row4_col0\" class=\"data row4 col0\" >4.32%</td>\n",
       "            </tr>\n",
       "            <tr>\n",
       "                        <th id=\"T_b0456142_e1ee_11e9_80a3_acde48001122level0_row5\" class=\"row_heading level0 row5\" >CITIZEN CONTACT</th>\n",
       "                        <td id=\"T_b0456142_e1ee_11e9_80a3_acde48001122row5_col0\" class=\"data row5 col0\" >3.22%</td>\n",
       "            </tr>\n",
       "            <tr>\n",
       "                        <th id=\"T_b0456142_e1ee_11e9_80a3_acde48001122level0_row6\" class=\"row_heading level0 row6\" >FLAGGED DOWN</th>\n",
       "                        <td id=\"T_b0456142_e1ee_11e9_80a3_acde48001122row6_col0\" class=\"data row6 col0\" >1.46%</td>\n",
       "            </tr>\n",
       "            <tr>\n",
       "                        <th id=\"T_b0456142_e1ee_11e9_80a3_acde48001122level0_row7\" class=\"row_heading level0 row7\" >SUSPECT VEHICLE</th>\n",
       "                        <td id=\"T_b0456142_e1ee_11e9_80a3_acde48001122row7_col0\" class=\"data row7 col0\" >0.90%</td>\n",
       "            </tr>\n",
       "            <tr>\n",
       "                        <th id=\"T_b0456142_e1ee_11e9_80a3_acde48001122level0_row8\" class=\"row_heading level0 row8\" >JUVENILE VIOLATION</th>\n",
       "                        <td id=\"T_b0456142_e1ee_11e9_80a3_acde48001122row8_col0\" class=\"data row8 col0\" >0.20%</td>\n",
       "            </tr>\n",
       "            <tr>\n",
       "                        <th id=\"T_b0456142_e1ee_11e9_80a3_acde48001122level0_row9\" class=\"row_heading level0 row9\" >PRESENT AT CRIME SCENE</th>\n",
       "                        <td id=\"T_b0456142_e1ee_11e9_80a3_acde48001122row9_col0\" class=\"data row9 col0\" >0.10%</td>\n",
       "            </tr>\n",
       "    </tbody></table>"
      ],
      "text/plain": [
       "<pandas.io.formats.style.Styler at 0x10eeedc50>"
      ]
     },
     "execution_count": 24,
     "metadata": {},
     "output_type": "execute_result"
    }
   ],
   "source": [
    "(data_suspect_white.style.format(format_dict)\n",
    ".apply(lambda x: ['background: tomato' if c == x.loc['SUSPECT PERSON'] else \"\" for c in x], axis=0)\n",
    ")"
   ]
  },
  {
   "cell_type": "markdown",
   "metadata": {},
   "source": [
    "#### Comments:\n",
    "\n",
    "The data indicate that if we analyze both groups separately, white and black people, there seem to be no bias from the police when treating a person as a suspect regarding the color of their skin as ~14% of black people were stopped for suspicious reasons compared to ~11% for white people. Additionally, it would be a good idea to dig deeper into this subject as it is one of the main reasons why the black community blame the police of been racist. This practice of stopping black people just because they are black is called \"profiling\"."
   ]
  },
  {
   "cell_type": "markdown",
   "metadata": {},
   "source": [
    "#### We can have it all in the same dataframe using groupby"
   ]
  },
  {
   "cell_type": "code",
   "execution_count": 25,
   "metadata": {},
   "outputs": [],
   "source": [
    "data_group_reasons = data.groupby('subject_race').reason_for_stop.value_counts(normalize=True) \\\n",
    "                                                            .unstack().apply(lambda x: x*100)"
   ]
  },
  {
   "cell_type": "code",
   "execution_count": 26,
   "metadata": {},
   "outputs": [],
   "source": [
    "data_group_reasons = data_group_reasons.applymap(\"{0:.3f}%\".format)"
   ]
  },
  {
   "cell_type": "code",
   "execution_count": 27,
   "metadata": {},
   "outputs": [],
   "source": [
    "data_group_reasons = pd.DataFrame(data_group_reasons, index=['black', 'white', 'hispanic',\n",
    "                                                             'asian/pacific islander', 'other', 'unknown'])"
   ]
  },
  {
   "cell_type": "code",
   "execution_count": 28,
   "metadata": {},
   "outputs": [
    {
     "data": {
      "text/html": [
       "<style  type=\"text/css\" >\n",
       "    #T_b0690dea_e1ee_11e9_80a3_acde48001122row0_col0 {\n",
       "            background:  tomato;\n",
       "        }    #T_b0690dea_e1ee_11e9_80a3_acde48001122row0_col1 {\n",
       "            background:  tomato;\n",
       "        }    #T_b0690dea_e1ee_11e9_80a3_acde48001122row0_col2 {\n",
       "            background:  tomato;\n",
       "        }    #T_b0690dea_e1ee_11e9_80a3_acde48001122row0_col3 {\n",
       "            background:  tomato;\n",
       "        }    #T_b0690dea_e1ee_11e9_80a3_acde48001122row0_col4 {\n",
       "            background:  tomato;\n",
       "        }    #T_b0690dea_e1ee_11e9_80a3_acde48001122row0_col5 {\n",
       "            background:  tomato;\n",
       "        }    #T_b0690dea_e1ee_11e9_80a3_acde48001122row0_col6 {\n",
       "            background:  tomato;\n",
       "        }    #T_b0690dea_e1ee_11e9_80a3_acde48001122row0_col7 {\n",
       "            background:  tomato;\n",
       "        }    #T_b0690dea_e1ee_11e9_80a3_acde48001122row0_col8 {\n",
       "            background:  tomato;\n",
       "        }    #T_b0690dea_e1ee_11e9_80a3_acde48001122row0_col9 {\n",
       "            background:  tomato;\n",
       "        }    #T_b0690dea_e1ee_11e9_80a3_acde48001122row1_col0 {\n",
       "            background:  tomato;\n",
       "        }    #T_b0690dea_e1ee_11e9_80a3_acde48001122row1_col1 {\n",
       "            background:  tomato;\n",
       "        }    #T_b0690dea_e1ee_11e9_80a3_acde48001122row1_col2 {\n",
       "            background:  tomato;\n",
       "        }    #T_b0690dea_e1ee_11e9_80a3_acde48001122row1_col3 {\n",
       "            background:  tomato;\n",
       "        }    #T_b0690dea_e1ee_11e9_80a3_acde48001122row1_col4 {\n",
       "            background:  tomato;\n",
       "        }    #T_b0690dea_e1ee_11e9_80a3_acde48001122row1_col5 {\n",
       "            background:  tomato;\n",
       "        }    #T_b0690dea_e1ee_11e9_80a3_acde48001122row1_col6 {\n",
       "            background:  tomato;\n",
       "        }    #T_b0690dea_e1ee_11e9_80a3_acde48001122row1_col7 {\n",
       "            background:  tomato;\n",
       "        }    #T_b0690dea_e1ee_11e9_80a3_acde48001122row1_col8 {\n",
       "            background:  tomato;\n",
       "        }    #T_b0690dea_e1ee_11e9_80a3_acde48001122row1_col9 {\n",
       "            background:  tomato;\n",
       "        }</style><table id=\"T_b0690dea_e1ee_11e9_80a3_acde48001122\" ><thead>    <tr>        <th class=\"index_name level0\" >reason_for_stop</th>        <th class=\"col_heading level0 col0\" >CALL FOR SERVICE</th>        <th class=\"col_heading level0 col1\" >CITIZEN CONTACT</th>        <th class=\"col_heading level0 col2\" >CRIMINAL VIOLATION</th>        <th class=\"col_heading level0 col3\" >FLAGGED DOWN</th>        <th class=\"col_heading level0 col4\" >JUVENILE VIOLATION</th>        <th class=\"col_heading level0 col5\" >OTHER</th>        <th class=\"col_heading level0 col6\" >PRESENT AT CRIME SCENE</th>        <th class=\"col_heading level0 col7\" >SUSPECT PERSON</th>        <th class=\"col_heading level0 col8\" >SUSPECT VEHICLE</th>        <th class=\"col_heading level0 col9\" >TRAFFIC VIOLATION</th>    </tr></thead><tbody>\n",
       "                <tr>\n",
       "                        <th id=\"T_b0690dea_e1ee_11e9_80a3_acde48001122level0_row0\" class=\"row_heading level0 row0\" >black</th>\n",
       "                        <td id=\"T_b0690dea_e1ee_11e9_80a3_acde48001122row0_col0\" class=\"data row0 col0\" >13.973%</td>\n",
       "                        <td id=\"T_b0690dea_e1ee_11e9_80a3_acde48001122row0_col1\" class=\"data row0 col1\" >3.211%</td>\n",
       "                        <td id=\"T_b0690dea_e1ee_11e9_80a3_acde48001122row0_col2\" class=\"data row0 col2\" >4.594%</td>\n",
       "                        <td id=\"T_b0690dea_e1ee_11e9_80a3_acde48001122row0_col3\" class=\"data row0 col3\" >0.673%</td>\n",
       "                        <td id=\"T_b0690dea_e1ee_11e9_80a3_acde48001122row0_col4\" class=\"data row0 col4\" >0.810%</td>\n",
       "                        <td id=\"T_b0690dea_e1ee_11e9_80a3_acde48001122row0_col5\" class=\"data row0 col5\" >5.109%</td>\n",
       "                        <td id=\"T_b0690dea_e1ee_11e9_80a3_acde48001122row0_col6\" class=\"data row0 col6\" >0.179%</td>\n",
       "                        <td id=\"T_b0690dea_e1ee_11e9_80a3_acde48001122row0_col7\" class=\"data row0 col7\" >13.832%</td>\n",
       "                        <td id=\"T_b0690dea_e1ee_11e9_80a3_acde48001122row0_col8\" class=\"data row0 col8\" >1.206%</td>\n",
       "                        <td id=\"T_b0690dea_e1ee_11e9_80a3_acde48001122row0_col9\" class=\"data row0 col9\" >56.415%</td>\n",
       "            </tr>\n",
       "            <tr>\n",
       "                        <th id=\"T_b0690dea_e1ee_11e9_80a3_acde48001122level0_row1\" class=\"row_heading level0 row1\" >white</th>\n",
       "                        <td id=\"T_b0690dea_e1ee_11e9_80a3_acde48001122row1_col0\" class=\"data row1 col0\" >14.432%</td>\n",
       "                        <td id=\"T_b0690dea_e1ee_11e9_80a3_acde48001122row1_col1\" class=\"data row1 col1\" >3.217%</td>\n",
       "                        <td id=\"T_b0690dea_e1ee_11e9_80a3_acde48001122row1_col2\" class=\"data row1 col2\" >10.056%</td>\n",
       "                        <td id=\"T_b0690dea_e1ee_11e9_80a3_acde48001122row1_col3\" class=\"data row1 col3\" >1.457%</td>\n",
       "                        <td id=\"T_b0690dea_e1ee_11e9_80a3_acde48001122row1_col4\" class=\"data row1 col4\" >0.200%</td>\n",
       "                        <td id=\"T_b0690dea_e1ee_11e9_80a3_acde48001122row1_col5\" class=\"data row1 col5\" >4.322%</td>\n",
       "                        <td id=\"T_b0690dea_e1ee_11e9_80a3_acde48001122row1_col6\" class=\"data row1 col6\" >0.103%</td>\n",
       "                        <td id=\"T_b0690dea_e1ee_11e9_80a3_acde48001122row1_col7\" class=\"data row1 col7\" >10.768%</td>\n",
       "                        <td id=\"T_b0690dea_e1ee_11e9_80a3_acde48001122row1_col8\" class=\"data row1 col8\" >0.901%</td>\n",
       "                        <td id=\"T_b0690dea_e1ee_11e9_80a3_acde48001122row1_col9\" class=\"data row1 col9\" >54.545%</td>\n",
       "            </tr>\n",
       "            <tr>\n",
       "                        <th id=\"T_b0690dea_e1ee_11e9_80a3_acde48001122level0_row2\" class=\"row_heading level0 row2\" >hispanic</th>\n",
       "                        <td id=\"T_b0690dea_e1ee_11e9_80a3_acde48001122row2_col0\" class=\"data row2 col0\" >13.379%</td>\n",
       "                        <td id=\"T_b0690dea_e1ee_11e9_80a3_acde48001122row2_col1\" class=\"data row2 col1\" >2.113%</td>\n",
       "                        <td id=\"T_b0690dea_e1ee_11e9_80a3_acde48001122row2_col2\" class=\"data row2 col2\" >5.048%</td>\n",
       "                        <td id=\"T_b0690dea_e1ee_11e9_80a3_acde48001122row2_col3\" class=\"data row2 col3\" >1.134%</td>\n",
       "                        <td id=\"T_b0690dea_e1ee_11e9_80a3_acde48001122row2_col4\" class=\"data row2 col4\" >0.126%</td>\n",
       "                        <td id=\"T_b0690dea_e1ee_11e9_80a3_acde48001122row2_col5\" class=\"data row2 col5\" >3.736%</td>\n",
       "                        <td id=\"T_b0690dea_e1ee_11e9_80a3_acde48001122row2_col6\" class=\"data row2 col6\" >0.178%</td>\n",
       "                        <td id=\"T_b0690dea_e1ee_11e9_80a3_acde48001122row2_col7\" class=\"data row2 col7\" >6.753%</td>\n",
       "                        <td id=\"T_b0690dea_e1ee_11e9_80a3_acde48001122row2_col8\" class=\"data row2 col8\" >0.882%</td>\n",
       "                        <td id=\"T_b0690dea_e1ee_11e9_80a3_acde48001122row2_col9\" class=\"data row2 col9\" >66.652%</td>\n",
       "            </tr>\n",
       "            <tr>\n",
       "                        <th id=\"T_b0690dea_e1ee_11e9_80a3_acde48001122level0_row3\" class=\"row_heading level0 row3\" >asian/pacific islander</th>\n",
       "                        <td id=\"T_b0690dea_e1ee_11e9_80a3_acde48001122row3_col0\" class=\"data row3 col0\" >9.966%</td>\n",
       "                        <td id=\"T_b0690dea_e1ee_11e9_80a3_acde48001122row3_col1\" class=\"data row3 col1\" >1.687%</td>\n",
       "                        <td id=\"T_b0690dea_e1ee_11e9_80a3_acde48001122row3_col2\" class=\"data row3 col2\" >3.296%</td>\n",
       "                        <td id=\"T_b0690dea_e1ee_11e9_80a3_acde48001122row3_col3\" class=\"data row3 col3\" >0.422%</td>\n",
       "                        <td id=\"T_b0690dea_e1ee_11e9_80a3_acde48001122row3_col4\" class=\"data row3 col4\" >0.026%</td>\n",
       "                        <td id=\"T_b0690dea_e1ee_11e9_80a3_acde48001122row3_col5\" class=\"data row3 col5\" >3.137%</td>\n",
       "                        <td id=\"T_b0690dea_e1ee_11e9_80a3_acde48001122row3_col6\" class=\"data row3 col6\" >0.026%</td>\n",
       "                        <td id=\"T_b0690dea_e1ee_11e9_80a3_acde48001122row3_col7\" class=\"data row3 col7\" >3.533%</td>\n",
       "                        <td id=\"T_b0690dea_e1ee_11e9_80a3_acde48001122row3_col8\" class=\"data row3 col8\" >0.580%</td>\n",
       "                        <td id=\"T_b0690dea_e1ee_11e9_80a3_acde48001122row3_col9\" class=\"data row3 col9\" >77.327%</td>\n",
       "            </tr>\n",
       "            <tr>\n",
       "                        <th id=\"T_b0690dea_e1ee_11e9_80a3_acde48001122level0_row4\" class=\"row_heading level0 row4\" >other</th>\n",
       "                        <td id=\"T_b0690dea_e1ee_11e9_80a3_acde48001122row4_col0\" class=\"data row4 col0\" >11.111%</td>\n",
       "                        <td id=\"T_b0690dea_e1ee_11e9_80a3_acde48001122row4_col1\" class=\"data row4 col1\" >2.047%</td>\n",
       "                        <td id=\"T_b0690dea_e1ee_11e9_80a3_acde48001122row4_col2\" class=\"data row4 col2\" >4.386%</td>\n",
       "                        <td id=\"T_b0690dea_e1ee_11e9_80a3_acde48001122row4_col3\" class=\"data row4 col3\" >0.585%</td>\n",
       "                        <td id=\"T_b0690dea_e1ee_11e9_80a3_acde48001122row4_col4\" class=\"data row4 col4\" >nan%</td>\n",
       "                        <td id=\"T_b0690dea_e1ee_11e9_80a3_acde48001122row4_col5\" class=\"data row4 col5\" >4.094%</td>\n",
       "                        <td id=\"T_b0690dea_e1ee_11e9_80a3_acde48001122row4_col6\" class=\"data row4 col6\" >0.292%</td>\n",
       "                        <td id=\"T_b0690dea_e1ee_11e9_80a3_acde48001122row4_col7\" class=\"data row4 col7\" >5.848%</td>\n",
       "                        <td id=\"T_b0690dea_e1ee_11e9_80a3_acde48001122row4_col8\" class=\"data row4 col8\" >nan%</td>\n",
       "                        <td id=\"T_b0690dea_e1ee_11e9_80a3_acde48001122row4_col9\" class=\"data row4 col9\" >71.637%</td>\n",
       "            </tr>\n",
       "            <tr>\n",
       "                        <th id=\"T_b0690dea_e1ee_11e9_80a3_acde48001122level0_row5\" class=\"row_heading level0 row5\" >unknown</th>\n",
       "                        <td id=\"T_b0690dea_e1ee_11e9_80a3_acde48001122row5_col0\" class=\"data row5 col0\" >8.805%</td>\n",
       "                        <td id=\"T_b0690dea_e1ee_11e9_80a3_acde48001122row5_col1\" class=\"data row5 col1\" >1.493%</td>\n",
       "                        <td id=\"T_b0690dea_e1ee_11e9_80a3_acde48001122row5_col2\" class=\"data row5 col2\" >2.209%</td>\n",
       "                        <td id=\"T_b0690dea_e1ee_11e9_80a3_acde48001122row5_col3\" class=\"data row5 col3\" >0.685%</td>\n",
       "                        <td id=\"T_b0690dea_e1ee_11e9_80a3_acde48001122row5_col4\" class=\"data row5 col4\" >0.031%</td>\n",
       "                        <td id=\"T_b0690dea_e1ee_11e9_80a3_acde48001122row5_col5\" class=\"data row5 col5\" >2.862%</td>\n",
       "                        <td id=\"T_b0690dea_e1ee_11e9_80a3_acde48001122row5_col6\" class=\"data row5 col6\" >0.093%</td>\n",
       "                        <td id=\"T_b0690dea_e1ee_11e9_80a3_acde48001122row5_col7\" class=\"data row5 col7\" >2.894%</td>\n",
       "                        <td id=\"T_b0690dea_e1ee_11e9_80a3_acde48001122row5_col8\" class=\"data row5 col8\" >0.653%</td>\n",
       "                        <td id=\"T_b0690dea_e1ee_11e9_80a3_acde48001122row5_col9\" class=\"data row5 col9\" >80.274%</td>\n",
       "            </tr>\n",
       "    </tbody></table>"
      ],
      "text/plain": [
       "<pandas.io.formats.style.Styler at 0x1a220489b0>"
      ]
     },
     "execution_count": 28,
     "metadata": {},
     "output_type": "execute_result"
    }
   ],
   "source": [
    "(data_group_reasons.style.apply(lambda x: ['background: tomato' if c == x.loc['black']\n",
    "                                           or c == x.loc['white'] else \"\" for c in x] , axis=0)\n",
    ")"
   ]
  },
  {
   "cell_type": "markdown",
   "metadata": {},
   "source": [
    "### Q3. Do white people get more warnings for the same violations than black people do?\n"
   ]
  },
  {
   "cell_type": "code",
   "execution_count": 29,
   "metadata": {},
   "outputs": [],
   "source": [
    "data_b_w_only = data[((data.subject_race == 'black') | (data.subject_race == 'white'))]"
   ]
  },
  {
   "cell_type": "code",
   "execution_count": 30,
   "metadata": {},
   "outputs": [
    {
     "data": {
      "text/html": [
       "<div>\n",
       "<style scoped>\n",
       "    .dataframe tbody tr th:only-of-type {\n",
       "        vertical-align: middle;\n",
       "    }\n",
       "\n",
       "    .dataframe tbody tr th {\n",
       "        vertical-align: top;\n",
       "    }\n",
       "\n",
       "    .dataframe thead th {\n",
       "        text-align: right;\n",
       "    }\n",
       "</style>\n",
       "<table border=\"1\" class=\"dataframe\">\n",
       "  <thead>\n",
       "    <tr style=\"text-align: right;\">\n",
       "      <th></th>\n",
       "      <th>raw_row_number</th>\n",
       "      <th>date</th>\n",
       "      <th>time</th>\n",
       "      <th>location</th>\n",
       "      <th>lat</th>\n",
       "      <th>lng</th>\n",
       "      <th>district</th>\n",
       "      <th>zone</th>\n",
       "      <th>subject_age</th>\n",
       "      <th>subject_race</th>\n",
       "      <th>subject_sex</th>\n",
       "      <th>officer_assignment</th>\n",
       "      <th>type</th>\n",
       "      <th>arrest_made</th>\n",
       "      <th>citation_issued</th>\n",
       "      <th>warning_issued</th>\n",
       "      <th>outcome</th>\n",
       "      <th>contraband_found</th>\n",
       "      <th>contraband_drugs</th>\n",
       "      <th>contraband_weapons</th>\n",
       "      <th>frisk_performed</th>\n",
       "      <th>search_conducted</th>\n",
       "      <th>search_person</th>\n",
       "      <th>search_vehicle</th>\n",
       "      <th>search_basis</th>\n",
       "      <th>reason_for_stop</th>\n",
       "      <th>vehicle_color</th>\n",
       "      <th>vehicle_make</th>\n",
       "      <th>vehicle_model</th>\n",
       "      <th>vehicle_year</th>\n",
       "      <th>raw_actions_taken</th>\n",
       "      <th>raw_subject_race</th>\n",
       "    </tr>\n",
       "  </thead>\n",
       "  <tbody>\n",
       "    <tr>\n",
       "      <th>0</th>\n",
       "      <td>1</td>\n",
       "      <td>2010-01-01</td>\n",
       "      <td>1</td>\n",
       "      <td>NaN</td>\n",
       "      <td>NaN</td>\n",
       "      <td>NaN</td>\n",
       "      <td>6</td>\n",
       "      <td>E</td>\n",
       "      <td>26.0</td>\n",
       "      <td>black</td>\n",
       "      <td>female</td>\n",
       "      <td>6th  District</td>\n",
       "      <td>vehicular</td>\n",
       "      <td>False</td>\n",
       "      <td>False</td>\n",
       "      <td>False</td>\n",
       "      <td>NaN</td>\n",
       "      <td>NaN</td>\n",
       "      <td>NaN</td>\n",
       "      <td>NaN</td>\n",
       "      <td>False</td>\n",
       "      <td>False</td>\n",
       "      <td>False</td>\n",
       "      <td>False</td>\n",
       "      <td>NaN</td>\n",
       "      <td>TRAFFIC VIOLATION</td>\n",
       "      <td>BLACK</td>\n",
       "      <td>DODGE</td>\n",
       "      <td>CARAVAN</td>\n",
       "      <td>2005.0</td>\n",
       "      <td>NaN</td>\n",
       "      <td>BLACK</td>\n",
       "    </tr>\n",
       "    <tr>\n",
       "      <th>1</th>\n",
       "      <td>9087</td>\n",
       "      <td>2010-01-01</td>\n",
       "      <td>1</td>\n",
       "      <td>NaN</td>\n",
       "      <td>NaN</td>\n",
       "      <td>NaN</td>\n",
       "      <td>7</td>\n",
       "      <td>C</td>\n",
       "      <td>37.0</td>\n",
       "      <td>black</td>\n",
       "      <td>male</td>\n",
       "      <td>7th  District</td>\n",
       "      <td>vehicular</td>\n",
       "      <td>False</td>\n",
       "      <td>False</td>\n",
       "      <td>False</td>\n",
       "      <td>NaN</td>\n",
       "      <td>NaN</td>\n",
       "      <td>NaN</td>\n",
       "      <td>NaN</td>\n",
       "      <td>False</td>\n",
       "      <td>False</td>\n",
       "      <td>False</td>\n",
       "      <td>False</td>\n",
       "      <td>NaN</td>\n",
       "      <td>TRAFFIC VIOLATION</td>\n",
       "      <td>BLUE</td>\n",
       "      <td>NISSAN</td>\n",
       "      <td>MURANO</td>\n",
       "      <td>2005.0</td>\n",
       "      <td>NaN</td>\n",
       "      <td>BLACK</td>\n",
       "    </tr>\n",
       "    <tr>\n",
       "      <th>2</th>\n",
       "      <td>9086</td>\n",
       "      <td>2010-01-01</td>\n",
       "      <td>1</td>\n",
       "      <td>NaN</td>\n",
       "      <td>NaN</td>\n",
       "      <td>NaN</td>\n",
       "      <td>7</td>\n",
       "      <td>C</td>\n",
       "      <td>37.0</td>\n",
       "      <td>black</td>\n",
       "      <td>male</td>\n",
       "      <td>7th  District</td>\n",
       "      <td>vehicular</td>\n",
       "      <td>False</td>\n",
       "      <td>False</td>\n",
       "      <td>False</td>\n",
       "      <td>NaN</td>\n",
       "      <td>NaN</td>\n",
       "      <td>NaN</td>\n",
       "      <td>NaN</td>\n",
       "      <td>False</td>\n",
       "      <td>False</td>\n",
       "      <td>False</td>\n",
       "      <td>False</td>\n",
       "      <td>NaN</td>\n",
       "      <td>TRAFFIC VIOLATION</td>\n",
       "      <td>BLUE</td>\n",
       "      <td>NISSAN</td>\n",
       "      <td>MURANO</td>\n",
       "      <td>2005.0</td>\n",
       "      <td>NaN</td>\n",
       "      <td>BLACK</td>\n",
       "    </tr>\n",
       "    <tr>\n",
       "      <th>3</th>\n",
       "      <td>267</td>\n",
       "      <td>2010-01-01</td>\n",
       "      <td>14</td>\n",
       "      <td>NaN</td>\n",
       "      <td>NaN</td>\n",
       "      <td>NaN</td>\n",
       "      <td>7</td>\n",
       "      <td>I</td>\n",
       "      <td>96.0</td>\n",
       "      <td>black</td>\n",
       "      <td>male</td>\n",
       "      <td>7th  District</td>\n",
       "      <td>vehicular</td>\n",
       "      <td>False</td>\n",
       "      <td>False</td>\n",
       "      <td>False</td>\n",
       "      <td>NaN</td>\n",
       "      <td>NaN</td>\n",
       "      <td>NaN</td>\n",
       "      <td>NaN</td>\n",
       "      <td>False</td>\n",
       "      <td>False</td>\n",
       "      <td>False</td>\n",
       "      <td>False</td>\n",
       "      <td>NaN</td>\n",
       "      <td>TRAFFIC VIOLATION</td>\n",
       "      <td>GRAY</td>\n",
       "      <td>JEEP</td>\n",
       "      <td>GRAND CHEROKEE</td>\n",
       "      <td>2003.0</td>\n",
       "      <td>NaN</td>\n",
       "      <td>BLACK</td>\n",
       "    </tr>\n",
       "    <tr>\n",
       "      <th>4</th>\n",
       "      <td>2</td>\n",
       "      <td>2010-01-01</td>\n",
       "      <td>2</td>\n",
       "      <td>NaN</td>\n",
       "      <td>NaN</td>\n",
       "      <td>NaN</td>\n",
       "      <td>5</td>\n",
       "      <td>D</td>\n",
       "      <td>17.0</td>\n",
       "      <td>black</td>\n",
       "      <td>male</td>\n",
       "      <td>5th  District</td>\n",
       "      <td>NaN</td>\n",
       "      <td>False</td>\n",
       "      <td>False</td>\n",
       "      <td>False</td>\n",
       "      <td>NaN</td>\n",
       "      <td>NaN</td>\n",
       "      <td>NaN</td>\n",
       "      <td>NaN</td>\n",
       "      <td>False</td>\n",
       "      <td>False</td>\n",
       "      <td>False</td>\n",
       "      <td>False</td>\n",
       "      <td>NaN</td>\n",
       "      <td>CALL FOR SERVICE</td>\n",
       "      <td>NaN</td>\n",
       "      <td>NaN</td>\n",
       "      <td>NaN</td>\n",
       "      <td>NaN</td>\n",
       "      <td>NaN</td>\n",
       "      <td>BLACK</td>\n",
       "    </tr>\n",
       "  </tbody>\n",
       "</table>\n",
       "</div>"
      ],
      "text/plain": [
       "  raw_row_number       date  time location  lat  lng district zone  \\\n",
       "0              1 2010-01-01     1      NaN  NaN  NaN        6    E   \n",
       "1           9087 2010-01-01     1      NaN  NaN  NaN        7    C   \n",
       "2           9086 2010-01-01     1      NaN  NaN  NaN        7    C   \n",
       "3            267 2010-01-01    14      NaN  NaN  NaN        7    I   \n",
       "4              2 2010-01-01     2      NaN  NaN  NaN        5    D   \n",
       "\n",
       "   subject_age subject_race subject_sex officer_assignment       type  \\\n",
       "0         26.0        black      female      6th  District  vehicular   \n",
       "1         37.0        black        male      7th  District  vehicular   \n",
       "2         37.0        black        male      7th  District  vehicular   \n",
       "3         96.0        black        male      7th  District  vehicular   \n",
       "4         17.0        black        male      5th  District        NaN   \n",
       "\n",
       "   arrest_made  citation_issued  warning_issued outcome contraband_found  \\\n",
       "0        False            False           False     NaN              NaN   \n",
       "1        False            False           False     NaN              NaN   \n",
       "2        False            False           False     NaN              NaN   \n",
       "3        False            False           False     NaN              NaN   \n",
       "4        False            False           False     NaN              NaN   \n",
       "\n",
       "  contraband_drugs contraband_weapons  frisk_performed  search_conducted  \\\n",
       "0              NaN                NaN            False             False   \n",
       "1              NaN                NaN            False             False   \n",
       "2              NaN                NaN            False             False   \n",
       "3              NaN                NaN            False             False   \n",
       "4              NaN                NaN            False             False   \n",
       "\n",
       "   search_person  search_vehicle search_basis    reason_for_stop  \\\n",
       "0          False           False          NaN  TRAFFIC VIOLATION   \n",
       "1          False           False          NaN  TRAFFIC VIOLATION   \n",
       "2          False           False          NaN  TRAFFIC VIOLATION   \n",
       "3          False           False          NaN  TRAFFIC VIOLATION   \n",
       "4          False           False          NaN   CALL FOR SERVICE   \n",
       "\n",
       "  vehicle_color vehicle_make   vehicle_model  vehicle_year raw_actions_taken  \\\n",
       "0         BLACK        DODGE         CARAVAN        2005.0               NaN   \n",
       "1          BLUE       NISSAN          MURANO        2005.0               NaN   \n",
       "2          BLUE       NISSAN          MURANO        2005.0               NaN   \n",
       "3          GRAY         JEEP  GRAND CHEROKEE        2003.0               NaN   \n",
       "4           NaN          NaN             NaN           NaN               NaN   \n",
       "\n",
       "  raw_subject_race  \n",
       "0            BLACK  \n",
       "1            BLACK  \n",
       "2            BLACK  \n",
       "3            BLACK  \n",
       "4            BLACK  "
      ]
     },
     "execution_count": 30,
     "metadata": {},
     "output_type": "execute_result"
    }
   ],
   "source": [
    "data_b_w_only.head()"
   ]
  },
  {
   "cell_type": "code",
   "execution_count": 31,
   "metadata": {},
   "outputs": [
    {
     "data": {
      "text/html": [
       "<div>\n",
       "<style scoped>\n",
       "    .dataframe tbody tr th:only-of-type {\n",
       "        vertical-align: middle;\n",
       "    }\n",
       "\n",
       "    .dataframe tbody tr th {\n",
       "        vertical-align: top;\n",
       "    }\n",
       "\n",
       "    .dataframe thead th {\n",
       "        text-align: right;\n",
       "    }\n",
       "</style>\n",
       "<table border=\"1\" class=\"dataframe\">\n",
       "  <thead>\n",
       "    <tr style=\"text-align: right;\">\n",
       "      <th>warning_issued</th>\n",
       "      <th>False</th>\n",
       "      <th>True</th>\n",
       "    </tr>\n",
       "    <tr>\n",
       "      <th>subject_race</th>\n",
       "      <th></th>\n",
       "      <th></th>\n",
       "    </tr>\n",
       "  </thead>\n",
       "  <tbody>\n",
       "    <tr>\n",
       "      <th>black</th>\n",
       "      <td>263384</td>\n",
       "      <td>86435</td>\n",
       "    </tr>\n",
       "    <tr>\n",
       "      <th>white</th>\n",
       "      <td>95342</td>\n",
       "      <td>34361</td>\n",
       "    </tr>\n",
       "  </tbody>\n",
       "</table>\n",
       "</div>"
      ],
      "text/plain": [
       "warning_issued   False  True \n",
       "subject_race                 \n",
       "black           263384  86435\n",
       "white            95342  34361"
      ]
     },
     "execution_count": 31,
     "metadata": {},
     "output_type": "execute_result"
    }
   ],
   "source": [
    "data_reasons_xtab = pd.crosstab(index=data_b_w_only.subject_race, columns=data_b_w_only.warning_issued)\n",
    "data_reasons_xtab"
   ]
  },
  {
   "cell_type": "code",
   "execution_count": 32,
   "metadata": {},
   "outputs": [
    {
     "data": {
      "text/plain": [
       "(1.0981996203546454, 2.2920499294281307e-36)"
      ]
     },
     "execution_count": 32,
     "metadata": {},
     "output_type": "execute_result"
    }
   ],
   "source": [
    "ss.fisher_exact(data_reasons_xtab)"
   ]
  },
  {
   "cell_type": "markdown",
   "metadata": {},
   "source": [
    "The probability that we would observe this or an even more imbalanced ratio by chance is about 2.29e-36%. A commonly used significance level is 5%–if we adopt that, we can therefore conclude that our observed imbalance is statistically significant; **It seems that there is a significant effect of race on being issued a warning or not during a police stop .**"
   ]
  },
  {
   "cell_type": "code",
   "execution_count": null,
   "metadata": {},
   "outputs": [],
   "source": []
  },
  {
   "cell_type": "markdown",
   "metadata": {},
   "source": [
    "#### For traffic violations only"
   ]
  },
  {
   "cell_type": "code",
   "execution_count": 33,
   "metadata": {},
   "outputs": [],
   "source": [
    "data_traffic_vio = (data[(data.reason_for_stop == 'TRAFFIC VIOLATION')\n",
    "                        & ((data.subject_race == 'black') | (data.subject_race == 'white'))]\n",
    "                   )"
   ]
  },
  {
   "cell_type": "code",
   "execution_count": 34,
   "metadata": {},
   "outputs": [
    {
     "data": {
      "text/html": [
       "<div>\n",
       "<style scoped>\n",
       "    .dataframe tbody tr th:only-of-type {\n",
       "        vertical-align: middle;\n",
       "    }\n",
       "\n",
       "    .dataframe tbody tr th {\n",
       "        vertical-align: top;\n",
       "    }\n",
       "\n",
       "    .dataframe thead th {\n",
       "        text-align: right;\n",
       "    }\n",
       "</style>\n",
       "<table border=\"1\" class=\"dataframe\">\n",
       "  <thead>\n",
       "    <tr style=\"text-align: right;\">\n",
       "      <th>warning_issued</th>\n",
       "      <th>False</th>\n",
       "      <th>True</th>\n",
       "    </tr>\n",
       "    <tr>\n",
       "      <th>subject_race</th>\n",
       "      <th></th>\n",
       "      <th></th>\n",
       "    </tr>\n",
       "  </thead>\n",
       "  <tbody>\n",
       "    <tr>\n",
       "      <th>black</th>\n",
       "      <td>128088</td>\n",
       "      <td>69261</td>\n",
       "    </tr>\n",
       "    <tr>\n",
       "      <th>white</th>\n",
       "      <td>43975</td>\n",
       "      <td>26771</td>\n",
       "    </tr>\n",
       "  </tbody>\n",
       "</table>\n",
       "</div>"
      ],
      "text/plain": [
       "warning_issued   False  True \n",
       "subject_race                 \n",
       "black           128088  69261\n",
       "white            43975  26771"
      ]
     },
     "execution_count": 34,
     "metadata": {},
     "output_type": "execute_result"
    }
   ],
   "source": [
    "data_traf_xtab = pd.crosstab(index=data_traffic_vio.subject_race, columns=data_traffic_vio.warning_issued)\n",
    "data_traf_xtab"
   ]
  },
  {
   "cell_type": "code",
   "execution_count": 35,
   "metadata": {},
   "outputs": [
    {
     "data": {
      "text/plain": [
       "(1.1258445576737157, 8.279524369857724e-39)"
      ]
     },
     "execution_count": 35,
     "metadata": {},
     "output_type": "execute_result"
    }
   ],
   "source": [
    "ss.fisher_exact(data_traf_xtab)"
   ]
  },
  {
   "cell_type": "markdown",
   "metadata": {},
   "source": [
    "Same as before **Black people received less warnings than white people for the same violation.**"
   ]
  },
  {
   "cell_type": "code",
   "execution_count": null,
   "metadata": {},
   "outputs": [],
   "source": []
  },
  {
   "cell_type": "markdown",
   "metadata": {},
   "source": [
    "#### Proportions in general for warnings"
   ]
  },
  {
   "cell_type": "code",
   "execution_count": 36,
   "metadata": {},
   "outputs": [],
   "source": [
    "data_reasons_xtab['proportions'] = data_reasons_xtab.apply(lambda x: (x.iloc[1] / x.iloc[0]), axis=1)"
   ]
  },
  {
   "cell_type": "code",
   "execution_count": 37,
   "metadata": {},
   "outputs": [
    {
     "data": {
      "text/html": [
       "<div>\n",
       "<style scoped>\n",
       "    .dataframe tbody tr th:only-of-type {\n",
       "        vertical-align: middle;\n",
       "    }\n",
       "\n",
       "    .dataframe tbody tr th {\n",
       "        vertical-align: top;\n",
       "    }\n",
       "\n",
       "    .dataframe thead th {\n",
       "        text-align: right;\n",
       "    }\n",
       "</style>\n",
       "<table border=\"1\" class=\"dataframe\">\n",
       "  <thead>\n",
       "    <tr style=\"text-align: right;\">\n",
       "      <th>warning_issued</th>\n",
       "      <th>False</th>\n",
       "      <th>True</th>\n",
       "      <th>proportions</th>\n",
       "    </tr>\n",
       "    <tr>\n",
       "      <th>subject_race</th>\n",
       "      <th></th>\n",
       "      <th></th>\n",
       "      <th></th>\n",
       "    </tr>\n",
       "  </thead>\n",
       "  <tbody>\n",
       "    <tr>\n",
       "      <th>black</th>\n",
       "      <td>263384</td>\n",
       "      <td>86435</td>\n",
       "      <td>0.328171</td>\n",
       "    </tr>\n",
       "    <tr>\n",
       "      <th>white</th>\n",
       "      <td>95342</td>\n",
       "      <td>34361</td>\n",
       "      <td>0.360397</td>\n",
       "    </tr>\n",
       "  </tbody>\n",
       "</table>\n",
       "</div>"
      ],
      "text/plain": [
       "warning_issued   False   True  proportions\n",
       "subject_race                              \n",
       "black           263384  86435     0.328171\n",
       "white            95342  34361     0.360397"
      ]
     },
     "execution_count": 37,
     "metadata": {},
     "output_type": "execute_result"
    }
   ],
   "source": [
    "data_reasons_xtab"
   ]
  },
  {
   "cell_type": "markdown",
   "metadata": {},
   "source": [
    "Another way to get the proportions (simpler if I dont want to perform a chi-square test)"
   ]
  },
  {
   "cell_type": "code",
   "execution_count": 38,
   "metadata": {},
   "outputs": [
    {
     "data": {
      "text/html": [
       "<div>\n",
       "<style scoped>\n",
       "    .dataframe tbody tr th:only-of-type {\n",
       "        vertical-align: middle;\n",
       "    }\n",
       "\n",
       "    .dataframe tbody tr th {\n",
       "        vertical-align: top;\n",
       "    }\n",
       "\n",
       "    .dataframe thead th {\n",
       "        text-align: right;\n",
       "    }\n",
       "</style>\n",
       "<table border=\"1\" class=\"dataframe\">\n",
       "  <thead>\n",
       "    <tr style=\"text-align: right;\">\n",
       "      <th></th>\n",
       "      <th>warning_issued</th>\n",
       "    </tr>\n",
       "    <tr>\n",
       "      <th>subject_race</th>\n",
       "      <th></th>\n",
       "    </tr>\n",
       "  </thead>\n",
       "  <tbody>\n",
       "    <tr>\n",
       "      <th>black</th>\n",
       "      <td>0.247085</td>\n",
       "    </tr>\n",
       "    <tr>\n",
       "      <th>white</th>\n",
       "      <td>0.264921</td>\n",
       "    </tr>\n",
       "  </tbody>\n",
       "</table>\n",
       "</div>"
      ],
      "text/plain": [
       "              warning_issued\n",
       "subject_race                \n",
       "black               0.247085\n",
       "white               0.264921"
      ]
     },
     "execution_count": 38,
     "metadata": {},
     "output_type": "execute_result"
    }
   ],
   "source": [
    "data_b_w_only.groupby('subject_race').warning_issued.mean().to_frame()"
   ]
  },
  {
   "cell_type": "markdown",
   "metadata": {},
   "source": [
    "Note. mean for boolean columns is like counting and dividing by 100 the times that the boolean takes one (whenever it is true)"
   ]
  },
  {
   "cell_type": "code",
   "execution_count": 39,
   "metadata": {},
   "outputs": [
    {
     "data": {
      "text/html": [
       "<div>\n",
       "<style scoped>\n",
       "    .dataframe tbody tr th:only-of-type {\n",
       "        vertical-align: middle;\n",
       "    }\n",
       "\n",
       "    .dataframe tbody tr th {\n",
       "        vertical-align: top;\n",
       "    }\n",
       "\n",
       "    .dataframe thead tr th {\n",
       "        text-align: left;\n",
       "    }\n",
       "\n",
       "    .dataframe thead tr:last-of-type th {\n",
       "        text-align: right;\n",
       "    }\n",
       "</style>\n",
       "<table border=\"1\" class=\"dataframe\">\n",
       "  <thead>\n",
       "    <tr>\n",
       "      <th></th>\n",
       "      <th colspan=\"2\" halign=\"left\">warning_issued</th>\n",
       "    </tr>\n",
       "    <tr>\n",
       "      <th>subject_race</th>\n",
       "      <th>black</th>\n",
       "      <th>white</th>\n",
       "    </tr>\n",
       "    <tr>\n",
       "      <th>reason_for_stop</th>\n",
       "      <th></th>\n",
       "      <th></th>\n",
       "    </tr>\n",
       "  </thead>\n",
       "  <tbody>\n",
       "    <tr>\n",
       "      <th>TRAFFIC VIOLATION</th>\n",
       "      <td>0.350957</td>\n",
       "      <td>0.378410</td>\n",
       "    </tr>\n",
       "    <tr>\n",
       "      <th>SUSPECT VEHICLE</th>\n",
       "      <td>0.210002</td>\n",
       "      <td>0.244863</td>\n",
       "    </tr>\n",
       "    <tr>\n",
       "      <th>FLAGGED DOWN</th>\n",
       "      <td>0.158811</td>\n",
       "      <td>0.203175</td>\n",
       "    </tr>\n",
       "    <tr>\n",
       "      <th>SUSPECT PERSON</th>\n",
       "      <td>0.143389</td>\n",
       "      <td>0.182157</td>\n",
       "    </tr>\n",
       "    <tr>\n",
       "      <th>CITIZEN CONTACT</th>\n",
       "      <td>0.116097</td>\n",
       "      <td>0.123682</td>\n",
       "    </tr>\n",
       "    <tr>\n",
       "      <th>OTHER</th>\n",
       "      <td>0.100330</td>\n",
       "      <td>0.126472</td>\n",
       "    </tr>\n",
       "    <tr>\n",
       "      <th>CALL FOR SERVICE</th>\n",
       "      <td>0.093476</td>\n",
       "      <td>0.105882</td>\n",
       "    </tr>\n",
       "    <tr>\n",
       "      <th>PRESENT AT CRIME SCENE</th>\n",
       "      <td>0.089457</td>\n",
       "      <td>0.075188</td>\n",
       "    </tr>\n",
       "    <tr>\n",
       "      <th>CRIMINAL VIOLATION</th>\n",
       "      <td>0.073496</td>\n",
       "      <td>0.088400</td>\n",
       "    </tr>\n",
       "    <tr>\n",
       "      <th>JUVENILE VIOLATION</th>\n",
       "      <td>0.025768</td>\n",
       "      <td>0.023077</td>\n",
       "    </tr>\n",
       "  </tbody>\n",
       "</table>\n",
       "</div>"
      ],
      "text/plain": [
       "                       warning_issued          \n",
       "subject_race                    black     white\n",
       "reason_for_stop                                \n",
       "TRAFFIC VIOLATION            0.350957  0.378410\n",
       "SUSPECT VEHICLE              0.210002  0.244863\n",
       "FLAGGED DOWN                 0.158811  0.203175\n",
       "SUSPECT PERSON               0.143389  0.182157\n",
       "CITIZEN CONTACT              0.116097  0.123682\n",
       "OTHER                        0.100330  0.126472\n",
       "CALL FOR SERVICE             0.093476  0.105882\n",
       "PRESENT AT CRIME SCENE       0.089457  0.075188\n",
       "CRIMINAL VIOLATION           0.073496  0.088400\n",
       "JUVENILE VIOLATION           0.025768  0.023077"
      ]
     },
     "execution_count": 39,
     "metadata": {},
     "output_type": "execute_result"
    }
   ],
   "source": [
    "(data_b_w_only.groupby(['reason_for_stop', 'subject_race']).warning_issued.mean().to_frame().unstack()\n",
    ".sort_values(by=('warning_issued','black'), ascending=False))"
   ]
  },
  {
   "cell_type": "code",
   "execution_count": null,
   "metadata": {},
   "outputs": [],
   "source": []
  },
  {
   "cell_type": "markdown",
   "metadata": {},
   "source": [
    "#### Comments: \n",
    "\n",
    "There seems to be a systematical difference in police behavior when giving warnings for same \"violations\" to black than to white people. "
   ]
  },
  {
   "cell_type": "markdown",
   "metadata": {},
   "source": [
    "#### Extra. Displaying both absolute and relative values in the same df\n"
   ]
  },
  {
   "cell_type": "code",
   "execution_count": 40,
   "metadata": {},
   "outputs": [],
   "source": [
    "data_warnings_abs = data_b_w_only.warning_issued.value_counts().to_frame()"
   ]
  },
  {
   "cell_type": "code",
   "execution_count": 41,
   "metadata": {},
   "outputs": [],
   "source": [
    "data_warnings_rel = data_b_w_only.warning_issued.value_counts(normalize=True).to_frame()"
   ]
  },
  {
   "cell_type": "code",
   "execution_count": 42,
   "metadata": {},
   "outputs": [],
   "source": [
    "data_warnings_comb = pd.concat([data_warnings_rel, data_warnings_abs], axis=1)"
   ]
  },
  {
   "cell_type": "code",
   "execution_count": 43,
   "metadata": {},
   "outputs": [],
   "source": [
    "data_warnings_comb.columns = ['data_warnings_rel','data_warnings_abs']"
   ]
  },
  {
   "cell_type": "code",
   "execution_count": 44,
   "metadata": {},
   "outputs": [
    {
     "data": {
      "text/html": [
       "<div>\n",
       "<style scoped>\n",
       "    .dataframe tbody tr th:only-of-type {\n",
       "        vertical-align: middle;\n",
       "    }\n",
       "\n",
       "    .dataframe tbody tr th {\n",
       "        vertical-align: top;\n",
       "    }\n",
       "\n",
       "    .dataframe thead th {\n",
       "        text-align: right;\n",
       "    }\n",
       "</style>\n",
       "<table border=\"1\" class=\"dataframe\">\n",
       "  <thead>\n",
       "    <tr style=\"text-align: right;\">\n",
       "      <th></th>\n",
       "      <th>data_warnings_rel</th>\n",
       "      <th>data_warnings_abs</th>\n",
       "    </tr>\n",
       "  </thead>\n",
       "  <tbody>\n",
       "    <tr>\n",
       "      <th>False</th>\n",
       "      <td>0.748091</td>\n",
       "      <td>358726</td>\n",
       "    </tr>\n",
       "    <tr>\n",
       "      <th>True</th>\n",
       "      <td>0.251909</td>\n",
       "      <td>120796</td>\n",
       "    </tr>\n",
       "  </tbody>\n",
       "</table>\n",
       "</div>"
      ],
      "text/plain": [
       "       data_warnings_rel  data_warnings_abs\n",
       "False           0.748091             358726\n",
       "True            0.251909             120796"
      ]
     },
     "execution_count": 44,
     "metadata": {},
     "output_type": "execute_result"
    }
   ],
   "source": [
    "data_warnings_comb"
   ]
  },
  {
   "cell_type": "markdown",
   "metadata": {},
   "source": [
    "### Q4. How likely is for a black person to be searched than for a white person."
   ]
  },
  {
   "cell_type": "code",
   "execution_count": 45,
   "metadata": {},
   "outputs": [
    {
     "data": {
      "text/html": [
       "<div>\n",
       "<style scoped>\n",
       "    .dataframe tbody tr th:only-of-type {\n",
       "        vertical-align: middle;\n",
       "    }\n",
       "\n",
       "    .dataframe tbody tr th {\n",
       "        vertical-align: top;\n",
       "    }\n",
       "\n",
       "    .dataframe thead th {\n",
       "        text-align: right;\n",
       "    }\n",
       "</style>\n",
       "<table border=\"1\" class=\"dataframe\">\n",
       "  <thead>\n",
       "    <tr style=\"text-align: right;\">\n",
       "      <th></th>\n",
       "      <th>raw_row_number</th>\n",
       "      <th>date</th>\n",
       "      <th>time</th>\n",
       "      <th>location</th>\n",
       "      <th>lat</th>\n",
       "      <th>lng</th>\n",
       "      <th>district</th>\n",
       "      <th>zone</th>\n",
       "      <th>subject_age</th>\n",
       "      <th>subject_race</th>\n",
       "      <th>subject_sex</th>\n",
       "      <th>officer_assignment</th>\n",
       "      <th>type</th>\n",
       "      <th>arrest_made</th>\n",
       "      <th>citation_issued</th>\n",
       "      <th>warning_issued</th>\n",
       "      <th>outcome</th>\n",
       "      <th>contraband_found</th>\n",
       "      <th>contraband_drugs</th>\n",
       "      <th>contraband_weapons</th>\n",
       "      <th>frisk_performed</th>\n",
       "      <th>search_conducted</th>\n",
       "      <th>search_person</th>\n",
       "      <th>search_vehicle</th>\n",
       "      <th>search_basis</th>\n",
       "      <th>reason_for_stop</th>\n",
       "      <th>vehicle_color</th>\n",
       "      <th>vehicle_make</th>\n",
       "      <th>vehicle_model</th>\n",
       "      <th>vehicle_year</th>\n",
       "      <th>raw_actions_taken</th>\n",
       "      <th>raw_subject_race</th>\n",
       "    </tr>\n",
       "  </thead>\n",
       "  <tbody>\n",
       "    <tr>\n",
       "      <th>0</th>\n",
       "      <td>1</td>\n",
       "      <td>2010-01-01</td>\n",
       "      <td>1</td>\n",
       "      <td>NaN</td>\n",
       "      <td>NaN</td>\n",
       "      <td>NaN</td>\n",
       "      <td>6</td>\n",
       "      <td>E</td>\n",
       "      <td>26.0</td>\n",
       "      <td>black</td>\n",
       "      <td>female</td>\n",
       "      <td>6th  District</td>\n",
       "      <td>vehicular</td>\n",
       "      <td>False</td>\n",
       "      <td>False</td>\n",
       "      <td>False</td>\n",
       "      <td>NaN</td>\n",
       "      <td>NaN</td>\n",
       "      <td>NaN</td>\n",
       "      <td>NaN</td>\n",
       "      <td>False</td>\n",
       "      <td>False</td>\n",
       "      <td>False</td>\n",
       "      <td>False</td>\n",
       "      <td>NaN</td>\n",
       "      <td>TRAFFIC VIOLATION</td>\n",
       "      <td>BLACK</td>\n",
       "      <td>DODGE</td>\n",
       "      <td>CARAVAN</td>\n",
       "      <td>2005.0</td>\n",
       "      <td>NaN</td>\n",
       "      <td>BLACK</td>\n",
       "    </tr>\n",
       "    <tr>\n",
       "      <th>1</th>\n",
       "      <td>9087</td>\n",
       "      <td>2010-01-01</td>\n",
       "      <td>1</td>\n",
       "      <td>NaN</td>\n",
       "      <td>NaN</td>\n",
       "      <td>NaN</td>\n",
       "      <td>7</td>\n",
       "      <td>C</td>\n",
       "      <td>37.0</td>\n",
       "      <td>black</td>\n",
       "      <td>male</td>\n",
       "      <td>7th  District</td>\n",
       "      <td>vehicular</td>\n",
       "      <td>False</td>\n",
       "      <td>False</td>\n",
       "      <td>False</td>\n",
       "      <td>NaN</td>\n",
       "      <td>NaN</td>\n",
       "      <td>NaN</td>\n",
       "      <td>NaN</td>\n",
       "      <td>False</td>\n",
       "      <td>False</td>\n",
       "      <td>False</td>\n",
       "      <td>False</td>\n",
       "      <td>NaN</td>\n",
       "      <td>TRAFFIC VIOLATION</td>\n",
       "      <td>BLUE</td>\n",
       "      <td>NISSAN</td>\n",
       "      <td>MURANO</td>\n",
       "      <td>2005.0</td>\n",
       "      <td>NaN</td>\n",
       "      <td>BLACK</td>\n",
       "    </tr>\n",
       "    <tr>\n",
       "      <th>2</th>\n",
       "      <td>9086</td>\n",
       "      <td>2010-01-01</td>\n",
       "      <td>1</td>\n",
       "      <td>NaN</td>\n",
       "      <td>NaN</td>\n",
       "      <td>NaN</td>\n",
       "      <td>7</td>\n",
       "      <td>C</td>\n",
       "      <td>37.0</td>\n",
       "      <td>black</td>\n",
       "      <td>male</td>\n",
       "      <td>7th  District</td>\n",
       "      <td>vehicular</td>\n",
       "      <td>False</td>\n",
       "      <td>False</td>\n",
       "      <td>False</td>\n",
       "      <td>NaN</td>\n",
       "      <td>NaN</td>\n",
       "      <td>NaN</td>\n",
       "      <td>NaN</td>\n",
       "      <td>False</td>\n",
       "      <td>False</td>\n",
       "      <td>False</td>\n",
       "      <td>False</td>\n",
       "      <td>NaN</td>\n",
       "      <td>TRAFFIC VIOLATION</td>\n",
       "      <td>BLUE</td>\n",
       "      <td>NISSAN</td>\n",
       "      <td>MURANO</td>\n",
       "      <td>2005.0</td>\n",
       "      <td>NaN</td>\n",
       "      <td>BLACK</td>\n",
       "    </tr>\n",
       "    <tr>\n",
       "      <th>3</th>\n",
       "      <td>267</td>\n",
       "      <td>2010-01-01</td>\n",
       "      <td>14</td>\n",
       "      <td>NaN</td>\n",
       "      <td>NaN</td>\n",
       "      <td>NaN</td>\n",
       "      <td>7</td>\n",
       "      <td>I</td>\n",
       "      <td>96.0</td>\n",
       "      <td>black</td>\n",
       "      <td>male</td>\n",
       "      <td>7th  District</td>\n",
       "      <td>vehicular</td>\n",
       "      <td>False</td>\n",
       "      <td>False</td>\n",
       "      <td>False</td>\n",
       "      <td>NaN</td>\n",
       "      <td>NaN</td>\n",
       "      <td>NaN</td>\n",
       "      <td>NaN</td>\n",
       "      <td>False</td>\n",
       "      <td>False</td>\n",
       "      <td>False</td>\n",
       "      <td>False</td>\n",
       "      <td>NaN</td>\n",
       "      <td>TRAFFIC VIOLATION</td>\n",
       "      <td>GRAY</td>\n",
       "      <td>JEEP</td>\n",
       "      <td>GRAND CHEROKEE</td>\n",
       "      <td>2003.0</td>\n",
       "      <td>NaN</td>\n",
       "      <td>BLACK</td>\n",
       "    </tr>\n",
       "    <tr>\n",
       "      <th>4</th>\n",
       "      <td>2</td>\n",
       "      <td>2010-01-01</td>\n",
       "      <td>2</td>\n",
       "      <td>NaN</td>\n",
       "      <td>NaN</td>\n",
       "      <td>NaN</td>\n",
       "      <td>5</td>\n",
       "      <td>D</td>\n",
       "      <td>17.0</td>\n",
       "      <td>black</td>\n",
       "      <td>male</td>\n",
       "      <td>5th  District</td>\n",
       "      <td>NaN</td>\n",
       "      <td>False</td>\n",
       "      <td>False</td>\n",
       "      <td>False</td>\n",
       "      <td>NaN</td>\n",
       "      <td>NaN</td>\n",
       "      <td>NaN</td>\n",
       "      <td>NaN</td>\n",
       "      <td>False</td>\n",
       "      <td>False</td>\n",
       "      <td>False</td>\n",
       "      <td>False</td>\n",
       "      <td>NaN</td>\n",
       "      <td>CALL FOR SERVICE</td>\n",
       "      <td>NaN</td>\n",
       "      <td>NaN</td>\n",
       "      <td>NaN</td>\n",
       "      <td>NaN</td>\n",
       "      <td>NaN</td>\n",
       "      <td>BLACK</td>\n",
       "    </tr>\n",
       "  </tbody>\n",
       "</table>\n",
       "</div>"
      ],
      "text/plain": [
       "  raw_row_number       date  time location  lat  lng district zone  \\\n",
       "0              1 2010-01-01     1      NaN  NaN  NaN        6    E   \n",
       "1           9087 2010-01-01     1      NaN  NaN  NaN        7    C   \n",
       "2           9086 2010-01-01     1      NaN  NaN  NaN        7    C   \n",
       "3            267 2010-01-01    14      NaN  NaN  NaN        7    I   \n",
       "4              2 2010-01-01     2      NaN  NaN  NaN        5    D   \n",
       "\n",
       "   subject_age subject_race subject_sex officer_assignment       type  \\\n",
       "0         26.0        black      female      6th  District  vehicular   \n",
       "1         37.0        black        male      7th  District  vehicular   \n",
       "2         37.0        black        male      7th  District  vehicular   \n",
       "3         96.0        black        male      7th  District  vehicular   \n",
       "4         17.0        black        male      5th  District        NaN   \n",
       "\n",
       "   arrest_made  citation_issued  warning_issued outcome contraband_found  \\\n",
       "0        False            False           False     NaN              NaN   \n",
       "1        False            False           False     NaN              NaN   \n",
       "2        False            False           False     NaN              NaN   \n",
       "3        False            False           False     NaN              NaN   \n",
       "4        False            False           False     NaN              NaN   \n",
       "\n",
       "  contraband_drugs contraband_weapons  frisk_performed  search_conducted  \\\n",
       "0              NaN                NaN            False             False   \n",
       "1              NaN                NaN            False             False   \n",
       "2              NaN                NaN            False             False   \n",
       "3              NaN                NaN            False             False   \n",
       "4              NaN                NaN            False             False   \n",
       "\n",
       "   search_person  search_vehicle search_basis    reason_for_stop  \\\n",
       "0          False           False          NaN  TRAFFIC VIOLATION   \n",
       "1          False           False          NaN  TRAFFIC VIOLATION   \n",
       "2          False           False          NaN  TRAFFIC VIOLATION   \n",
       "3          False           False          NaN  TRAFFIC VIOLATION   \n",
       "4          False           False          NaN   CALL FOR SERVICE   \n",
       "\n",
       "  vehicle_color vehicle_make   vehicle_model  vehicle_year raw_actions_taken  \\\n",
       "0         BLACK        DODGE         CARAVAN        2005.0               NaN   \n",
       "1          BLUE       NISSAN          MURANO        2005.0               NaN   \n",
       "2          BLUE       NISSAN          MURANO        2005.0               NaN   \n",
       "3          GRAY         JEEP  GRAND CHEROKEE        2003.0               NaN   \n",
       "4           NaN          NaN             NaN           NaN               NaN   \n",
       "\n",
       "  raw_subject_race  \n",
       "0            BLACK  \n",
       "1            BLACK  \n",
       "2            BLACK  \n",
       "3            BLACK  \n",
       "4            BLACK  "
      ]
     },
     "execution_count": 45,
     "metadata": {},
     "output_type": "execute_result"
    }
   ],
   "source": [
    "data_b_w_only.head()"
   ]
  },
  {
   "cell_type": "code",
   "execution_count": 46,
   "metadata": {},
   "outputs": [
    {
     "data": {
      "text/html": [
       "<div>\n",
       "<style scoped>\n",
       "    .dataframe tbody tr th:only-of-type {\n",
       "        vertical-align: middle;\n",
       "    }\n",
       "\n",
       "    .dataframe tbody tr th {\n",
       "        vertical-align: top;\n",
       "    }\n",
       "\n",
       "    .dataframe thead th {\n",
       "        text-align: right;\n",
       "    }\n",
       "</style>\n",
       "<table border=\"1\" class=\"dataframe\">\n",
       "  <thead>\n",
       "    <tr style=\"text-align: right;\">\n",
       "      <th>search_conducted</th>\n",
       "      <th>False</th>\n",
       "      <th>True</th>\n",
       "    </tr>\n",
       "    <tr>\n",
       "      <th>subject_race</th>\n",
       "      <th></th>\n",
       "      <th></th>\n",
       "    </tr>\n",
       "  </thead>\n",
       "  <tbody>\n",
       "    <tr>\n",
       "      <th>black</th>\n",
       "      <td>291879</td>\n",
       "      <td>57940</td>\n",
       "    </tr>\n",
       "    <tr>\n",
       "      <th>white</th>\n",
       "      <td>114407</td>\n",
       "      <td>15296</td>\n",
       "    </tr>\n",
       "  </tbody>\n",
       "</table>\n",
       "</div>"
      ],
      "text/plain": [
       "search_conducted   False  True \n",
       "subject_race                   \n",
       "black             291879  57940\n",
       "white             114407  15296"
      ]
     },
     "execution_count": 46,
     "metadata": {},
     "output_type": "execute_result"
    }
   ],
   "source": [
    "data_search_xtab = pd.crosstab(index=data_b_w_only.subject_race, columns=data_b_w_only.search_conducted)\n",
    "data_search_xtab"
   ]
  },
  {
   "cell_type": "code",
   "execution_count": 47,
   "metadata": {},
   "outputs": [
    {
     "data": {
      "text/plain": [
       "(0.6735186656650447, 0.0)"
      ]
     },
     "execution_count": 47,
     "metadata": {},
     "output_type": "execute_result"
    }
   ],
   "source": [
    "ss.fisher_exact(data_search_xtab)"
   ]
  },
  {
   "cell_type": "markdown",
   "metadata": {},
   "source": [
    "There is clearly an effect whether you are white or black to be search by the police during a stop."
   ]
  },
  {
   "cell_type": "code",
   "execution_count": 48,
   "metadata": {},
   "outputs": [
    {
     "data": {
      "text/html": [
       "<div>\n",
       "<style scoped>\n",
       "    .dataframe tbody tr th:only-of-type {\n",
       "        vertical-align: middle;\n",
       "    }\n",
       "\n",
       "    .dataframe tbody tr th {\n",
       "        vertical-align: top;\n",
       "    }\n",
       "\n",
       "    .dataframe thead th {\n",
       "        text-align: right;\n",
       "    }\n",
       "</style>\n",
       "<table border=\"1\" class=\"dataframe\">\n",
       "  <thead>\n",
       "    <tr style=\"text-align: right;\">\n",
       "      <th></th>\n",
       "      <th>search_conducted</th>\n",
       "    </tr>\n",
       "    <tr>\n",
       "      <th>subject_race</th>\n",
       "      <th></th>\n",
       "    </tr>\n",
       "  </thead>\n",
       "  <tbody>\n",
       "    <tr>\n",
       "      <th>black</th>\n",
       "      <td>0.165629</td>\n",
       "    </tr>\n",
       "    <tr>\n",
       "      <th>white</th>\n",
       "      <td>0.117931</td>\n",
       "    </tr>\n",
       "  </tbody>\n",
       "</table>\n",
       "</div>"
      ],
      "text/plain": [
       "              search_conducted\n",
       "subject_race                  \n",
       "black                 0.165629\n",
       "white                 0.117931"
      ]
     },
     "execution_count": 48,
     "metadata": {},
     "output_type": "execute_result"
    }
   ],
   "source": [
    "data_b_w_only.groupby('subject_race').search_conducted.mean().to_frame()"
   ]
  },
  {
   "cell_type": "markdown",
   "metadata": {},
   "source": [
    "#### Comments:\n",
    "\n",
    "The fisher test concludes that there is some effect on being black or white in whether the police perform a search either looking for drugs or weapons. Also, ~16% of the black people were asked to be search in comparison to only ~12% of white people. It is important to mention that all the reason for stop are including in this analysis so we cannot be certain that this police behavior is as general as it seems. Maybe the reason for the stop of black people was more serious so the police had to search more often than in white people's \"violations\".\n",
    "\n",
    "Note: I am not implying anything with this statement, just an example of what could be causing the differences between white and black in this manner. \n",
    "\n",
    "In Q5.1 I try to analyze why black people are being searched more than their white counterparts by calculating the probabilities that if person, white or black, is being stopped and search by the police they indeed have more probabilities of having contraband. \n",
    "\n",
    "\n"
   ]
  },
  {
   "cell_type": "markdown",
   "metadata": {},
   "source": [
    "### Q5. Once a black or white person is being searched by the police, how likely is that the person indeed had contraband in general."
   ]
  },
  {
   "cell_type": "code",
   "execution_count": 49,
   "metadata": {},
   "outputs": [],
   "source": [
    "data_search_true = (data[(data.search_conducted == True) & \n",
    "                    ((data.subject_race == 'black') | (data.subject_race == 'white'))])"
   ]
  },
  {
   "cell_type": "code",
   "execution_count": 50,
   "metadata": {},
   "outputs": [],
   "source": [
    "data_search_true_xtab = pd.crosstab(index=data_search_true.subject_race, columns=data_search_true.contraband_found)"
   ]
  },
  {
   "cell_type": "code",
   "execution_count": 51,
   "metadata": {},
   "outputs": [
    {
     "data": {
      "text/html": [
       "<div>\n",
       "<style scoped>\n",
       "    .dataframe tbody tr th:only-of-type {\n",
       "        vertical-align: middle;\n",
       "    }\n",
       "\n",
       "    .dataframe tbody tr th {\n",
       "        vertical-align: top;\n",
       "    }\n",
       "\n",
       "    .dataframe thead th {\n",
       "        text-align: right;\n",
       "    }\n",
       "</style>\n",
       "<table border=\"1\" class=\"dataframe\">\n",
       "  <thead>\n",
       "    <tr style=\"text-align: right;\">\n",
       "      <th>contraband_found</th>\n",
       "      <th>False</th>\n",
       "      <th>True</th>\n",
       "    </tr>\n",
       "    <tr>\n",
       "      <th>subject_race</th>\n",
       "      <th></th>\n",
       "      <th></th>\n",
       "    </tr>\n",
       "  </thead>\n",
       "  <tbody>\n",
       "    <tr>\n",
       "      <th>black</th>\n",
       "      <td>46502</td>\n",
       "      <td>11438</td>\n",
       "    </tr>\n",
       "    <tr>\n",
       "      <th>white</th>\n",
       "      <td>12833</td>\n",
       "      <td>2463</td>\n",
       "    </tr>\n",
       "  </tbody>\n",
       "</table>\n",
       "</div>"
      ],
      "text/plain": [
       "contraband_found  False  True \n",
       "subject_race                  \n",
       "black             46502  11438\n",
       "white             12833   2463"
      ]
     },
     "execution_count": 51,
     "metadata": {},
     "output_type": "execute_result"
    }
   ],
   "source": [
    "data_search_true_xtab"
   ]
  },
  {
   "cell_type": "code",
   "execution_count": 52,
   "metadata": {},
   "outputs": [
    {
     "data": {
      "text/plain": [
       "(0.7802930831888363, 3.8481194063687466e-25)"
      ]
     },
     "execution_count": 52,
     "metadata": {},
     "output_type": "execute_result"
    }
   ],
   "source": [
    "ss.fisher_exact(data_search_true_xtab)"
   ]
  },
  {
   "cell_type": "code",
   "execution_count": 53,
   "metadata": {},
   "outputs": [],
   "source": [
    "data_search_true_xtab_prop = data_search_true_xtab.copy()"
   ]
  },
  {
   "cell_type": "code",
   "execution_count": 55,
   "metadata": {},
   "outputs": [],
   "source": [
    "data_search_true_xtab_prop['proportions'] = (data_search_true_xtab_prop.apply(lambda x: \n",
    "                                                                              (x.iloc[1] / x.iloc[0]), axis=1))"
   ]
  },
  {
   "cell_type": "code",
   "execution_count": 56,
   "metadata": {},
   "outputs": [
    {
     "data": {
      "text/html": [
       "<div>\n",
       "<style scoped>\n",
       "    .dataframe tbody tr th:only-of-type {\n",
       "        vertical-align: middle;\n",
       "    }\n",
       "\n",
       "    .dataframe tbody tr th {\n",
       "        vertical-align: top;\n",
       "    }\n",
       "\n",
       "    .dataframe thead th {\n",
       "        text-align: right;\n",
       "    }\n",
       "</style>\n",
       "<table border=\"1\" class=\"dataframe\">\n",
       "  <thead>\n",
       "    <tr style=\"text-align: right;\">\n",
       "      <th>contraband_found</th>\n",
       "      <th>False</th>\n",
       "      <th>True</th>\n",
       "      <th>proportions</th>\n",
       "    </tr>\n",
       "    <tr>\n",
       "      <th>subject_race</th>\n",
       "      <th></th>\n",
       "      <th></th>\n",
       "      <th></th>\n",
       "    </tr>\n",
       "  </thead>\n",
       "  <tbody>\n",
       "    <tr>\n",
       "      <th>black</th>\n",
       "      <td>46502</td>\n",
       "      <td>11438</td>\n",
       "      <td>0.245968</td>\n",
       "    </tr>\n",
       "    <tr>\n",
       "      <th>white</th>\n",
       "      <td>12833</td>\n",
       "      <td>2463</td>\n",
       "      <td>0.191927</td>\n",
       "    </tr>\n",
       "  </tbody>\n",
       "</table>\n",
       "</div>"
      ],
      "text/plain": [
       "contraband_found  False   True  proportions\n",
       "subject_race                               \n",
       "black             46502  11438     0.245968\n",
       "white             12833   2463     0.191927"
      ]
     },
     "execution_count": 56,
     "metadata": {},
     "output_type": "execute_result"
    }
   ],
   "source": [
    "data_search_true_xtab_prop"
   ]
  },
  {
   "cell_type": "markdown",
   "metadata": {},
   "source": [
    "\n",
    "#### Q5.1 Calculating probabilities of having contraband if you are black or white once the police already decided to search the person."
   ]
  },
  {
   "cell_type": "code",
   "execution_count": 57,
   "metadata": {},
   "outputs": [],
   "source": [
    "total_rows = list(data_search_true_xtab.sum(axis= 1, skipna = True))\n",
    "data_search_true_xtab['total'] = total_rows"
   ]
  },
  {
   "cell_type": "code",
   "execution_count": 58,
   "metadata": {},
   "outputs": [
    {
     "data": {
      "text/html": [
       "<div>\n",
       "<style scoped>\n",
       "    .dataframe tbody tr th:only-of-type {\n",
       "        vertical-align: middle;\n",
       "    }\n",
       "\n",
       "    .dataframe tbody tr th {\n",
       "        vertical-align: top;\n",
       "    }\n",
       "\n",
       "    .dataframe thead th {\n",
       "        text-align: right;\n",
       "    }\n",
       "</style>\n",
       "<table border=\"1\" class=\"dataframe\">\n",
       "  <thead>\n",
       "    <tr style=\"text-align: right;\">\n",
       "      <th>contraband_found</th>\n",
       "      <th>False</th>\n",
       "      <th>True</th>\n",
       "      <th>total</th>\n",
       "    </tr>\n",
       "    <tr>\n",
       "      <th>subject_race</th>\n",
       "      <th></th>\n",
       "      <th></th>\n",
       "      <th></th>\n",
       "    </tr>\n",
       "  </thead>\n",
       "  <tbody>\n",
       "    <tr>\n",
       "      <th>black</th>\n",
       "      <td>46502</td>\n",
       "      <td>11438</td>\n",
       "      <td>57940</td>\n",
       "    </tr>\n",
       "    <tr>\n",
       "      <th>white</th>\n",
       "      <td>12833</td>\n",
       "      <td>2463</td>\n",
       "      <td>15296</td>\n",
       "    </tr>\n",
       "  </tbody>\n",
       "</table>\n",
       "</div>"
      ],
      "text/plain": [
       "contraband_found  False   True  total\n",
       "subject_race                         \n",
       "black             46502  11438  57940\n",
       "white             12833   2463  15296"
      ]
     },
     "execution_count": 58,
     "metadata": {},
     "output_type": "execute_result"
    }
   ],
   "source": [
    "data_search_true_xtab"
   ]
  },
  {
   "cell_type": "code",
   "execution_count": 59,
   "metadata": {},
   "outputs": [],
   "source": [
    "new_index= ['black','white','totals']\n",
    "data_search_true_xtab = data_search_true_xtab.reindex(new_index)"
   ]
  },
  {
   "cell_type": "code",
   "execution_count": 60,
   "metadata": {},
   "outputs": [],
   "source": [
    "data_search_true_xtab.loc['totals'] = data_search_true_xtab.select_dtypes(pd.np.number).sum()"
   ]
  },
  {
   "cell_type": "code",
   "execution_count": 61,
   "metadata": {},
   "outputs": [],
   "source": [
    "#Calculating the probabilities that if you are black, you will have contraband.\n",
    "\n",
    "prob_black_contraband = ((data_search_true_xtab[1][0] / data_search_true_xtab['total']['totals']) / \n",
    "(data_search_true_xtab['total'][0] / data_search_true_xtab['total']['totals']))"
   ]
  },
  {
   "cell_type": "code",
   "execution_count": 62,
   "metadata": {},
   "outputs": [],
   "source": [
    "#Calculating the probabilities that if you are white, you will have contraband.\n",
    "prob_white_contraband = ((data_search_true_xtab[1][1] / data_search_true_xtab['total']['totals']) / \n",
    "(data_search_true_xtab['total'][1] / data_search_true_xtab['total']['totals']))"
   ]
  },
  {
   "cell_type": "code",
   "execution_count": 63,
   "metadata": {},
   "outputs": [],
   "source": [
    "#Calculating the probabilities of not having contraband for both cases\n",
    "prob_black_no_contraband = 1 - prob_black_contraband\n",
    "prob_white_no_contraband = 1 - prob_white_contraband"
   ]
  },
  {
   "cell_type": "code",
   "execution_count": 64,
   "metadata": {},
   "outputs": [],
   "source": [
    "prob_contraband = [prob_black_contraband, prob_white_contraband]\n",
    "prob_no_contraband = [prob_black_no_contraband,prob_white_no_contraband]"
   ]
  },
  {
   "cell_type": "code",
   "execution_count": 65,
   "metadata": {},
   "outputs": [],
   "source": [
    "prob_df = pd.DataFrame(prob_contraband)"
   ]
  },
  {
   "cell_type": "code",
   "execution_count": 66,
   "metadata": {},
   "outputs": [],
   "source": [
    "prob_df['1'] = prob_no_contraband"
   ]
  },
  {
   "cell_type": "code",
   "execution_count": 67,
   "metadata": {},
   "outputs": [],
   "source": [
    "prob_df.columns = ['prob_contraband', 'prob_no_contraband']\n",
    "prob_df.index = ['black', 'white']"
   ]
  },
  {
   "cell_type": "code",
   "execution_count": 68,
   "metadata": {},
   "outputs": [
    {
     "data": {
      "text/html": [
       "<div>\n",
       "<style scoped>\n",
       "    .dataframe tbody tr th:only-of-type {\n",
       "        vertical-align: middle;\n",
       "    }\n",
       "\n",
       "    .dataframe tbody tr th {\n",
       "        vertical-align: top;\n",
       "    }\n",
       "\n",
       "    .dataframe thead th {\n",
       "        text-align: right;\n",
       "    }\n",
       "</style>\n",
       "<table border=\"1\" class=\"dataframe\">\n",
       "  <thead>\n",
       "    <tr style=\"text-align: right;\">\n",
       "      <th></th>\n",
       "      <th>prob_contraband</th>\n",
       "      <th>prob_no_contraband</th>\n",
       "    </tr>\n",
       "  </thead>\n",
       "  <tbody>\n",
       "    <tr>\n",
       "      <th>black</th>\n",
       "      <td>0.197411</td>\n",
       "      <td>0.802589</td>\n",
       "    </tr>\n",
       "    <tr>\n",
       "      <th>white</th>\n",
       "      <td>0.161022</td>\n",
       "      <td>0.838978</td>\n",
       "    </tr>\n",
       "  </tbody>\n",
       "</table>\n",
       "</div>"
      ],
      "text/plain": [
       "       prob_contraband  prob_no_contraband\n",
       "black         0.197411            0.802589\n",
       "white         0.161022            0.838978"
      ]
     },
     "execution_count": 68,
     "metadata": {},
     "output_type": "execute_result"
    }
   ],
   "source": [
    "prob_df"
   ]
  },
  {
   "cell_type": "markdown",
   "metadata": {},
   "source": [
    "#### Comments:\n",
    "\n",
    "When performing a fisher test, it indicates that there is an effect on race and whether contraband is found or not. So, I proceeded to calculate the probabilities that if a person if being search they indeed had contraband as we can see above. The police have more probabilities of founding contraband when they conduct a search on a black person than on a white person. "
   ]
  },
  {
   "cell_type": "markdown",
   "metadata": {},
   "source": [
    "### Q6. In what occasion a black or white person is more likely to be searched."
   ]
  },
  {
   "cell_type": "markdown",
   "metadata": {},
   "source": [
    "#### All races together"
   ]
  },
  {
   "cell_type": "code",
   "execution_count": 69,
   "metadata": {},
   "outputs": [
    {
     "data": {
      "text/html": [
       "<div>\n",
       "<style scoped>\n",
       "    .dataframe tbody tr th:only-of-type {\n",
       "        vertical-align: middle;\n",
       "    }\n",
       "\n",
       "    .dataframe tbody tr th {\n",
       "        vertical-align: top;\n",
       "    }\n",
       "\n",
       "    .dataframe thead th {\n",
       "        text-align: right;\n",
       "    }\n",
       "</style>\n",
       "<table border=\"1\" class=\"dataframe\">\n",
       "  <thead>\n",
       "    <tr style=\"text-align: right;\">\n",
       "      <th>search_conducted</th>\n",
       "      <th>False</th>\n",
       "      <th>True</th>\n",
       "    </tr>\n",
       "    <tr>\n",
       "      <th>reason_for_stop</th>\n",
       "      <th></th>\n",
       "      <th></th>\n",
       "    </tr>\n",
       "  </thead>\n",
       "  <tbody>\n",
       "    <tr>\n",
       "      <th>CRIMINAL VIOLATION</th>\n",
       "      <td>0.648484</td>\n",
       "      <td>0.351516</td>\n",
       "    </tr>\n",
       "    <tr>\n",
       "      <th>PRESENT AT CRIME SCENE</th>\n",
       "      <td>0.693182</td>\n",
       "      <td>0.306818</td>\n",
       "    </tr>\n",
       "    <tr>\n",
       "      <th>CALL FOR SERVICE</th>\n",
       "      <td>0.741440</td>\n",
       "      <td>0.258560</td>\n",
       "    </tr>\n",
       "    <tr>\n",
       "      <th>FLAGGED DOWN</th>\n",
       "      <td>0.753507</td>\n",
       "      <td>0.246493</td>\n",
       "    </tr>\n",
       "    <tr>\n",
       "      <th>SUSPECT PERSON</th>\n",
       "      <td>0.808833</td>\n",
       "      <td>0.191167</td>\n",
       "    </tr>\n",
       "    <tr>\n",
       "      <th>SUSPECT VEHICLE</th>\n",
       "      <td>0.832172</td>\n",
       "      <td>0.167828</td>\n",
       "    </tr>\n",
       "    <tr>\n",
       "      <th>OTHER</th>\n",
       "      <td>0.847888</td>\n",
       "      <td>0.152112</td>\n",
       "    </tr>\n",
       "    <tr>\n",
       "      <th>JUVENILE VIOLATION</th>\n",
       "      <td>0.859205</td>\n",
       "      <td>0.140795</td>\n",
       "    </tr>\n",
       "    <tr>\n",
       "      <th>CITIZEN CONTACT</th>\n",
       "      <td>0.892610</td>\n",
       "      <td>0.107390</td>\n",
       "    </tr>\n",
       "    <tr>\n",
       "      <th>TRAFFIC VIOLATION</th>\n",
       "      <td>0.909643</td>\n",
       "      <td>0.090357</td>\n",
       "    </tr>\n",
       "  </tbody>\n",
       "</table>\n",
       "</div>"
      ],
      "text/plain": [
       "search_conducted           False     True \n",
       "reason_for_stop                           \n",
       "CRIMINAL VIOLATION      0.648484  0.351516\n",
       "PRESENT AT CRIME SCENE  0.693182  0.306818\n",
       "CALL FOR SERVICE        0.741440  0.258560\n",
       "FLAGGED DOWN            0.753507  0.246493\n",
       "SUSPECT PERSON          0.808833  0.191167\n",
       "SUSPECT VEHICLE         0.832172  0.167828\n",
       "OTHER                   0.847888  0.152112\n",
       "JUVENILE VIOLATION      0.859205  0.140795\n",
       "CITIZEN CONTACT         0.892610  0.107390\n",
       "TRAFFIC VIOLATION       0.909643  0.090357"
      ]
     },
     "execution_count": 69,
     "metadata": {},
     "output_type": "execute_result"
    }
   ],
   "source": [
    "(data.groupby('reason_for_stop').search_conducted.value_counts(normalize=True)\n",
    ".unstack().sort_values(by=True,ascending=False).head(10)\n",
    ")"
   ]
  },
  {
   "cell_type": "markdown",
   "metadata": {},
   "source": [
    "#### Now just black people"
   ]
  },
  {
   "cell_type": "code",
   "execution_count": 70,
   "metadata": {},
   "outputs": [],
   "source": [
    "data_blacks = data[data.subject_race == 'black']"
   ]
  },
  {
   "cell_type": "code",
   "execution_count": 71,
   "metadata": {},
   "outputs": [
    {
     "data": {
      "text/html": [
       "<div>\n",
       "<style scoped>\n",
       "    .dataframe tbody tr th:only-of-type {\n",
       "        vertical-align: middle;\n",
       "    }\n",
       "\n",
       "    .dataframe tbody tr th {\n",
       "        vertical-align: top;\n",
       "    }\n",
       "\n",
       "    .dataframe thead th {\n",
       "        text-align: right;\n",
       "    }\n",
       "</style>\n",
       "<table border=\"1\" class=\"dataframe\">\n",
       "  <thead>\n",
       "    <tr style=\"text-align: right;\">\n",
       "      <th>search_conducted</th>\n",
       "      <th>False</th>\n",
       "      <th>True</th>\n",
       "    </tr>\n",
       "    <tr>\n",
       "      <th>reason_for_stop</th>\n",
       "      <th></th>\n",
       "      <th></th>\n",
       "    </tr>\n",
       "  </thead>\n",
       "  <tbody>\n",
       "    <tr>\n",
       "      <th>CRIMINAL VIOLATION</th>\n",
       "      <td>0.566557</td>\n",
       "      <td>0.433443</td>\n",
       "    </tr>\n",
       "    <tr>\n",
       "      <th>PRESENT AT CRIME SCENE</th>\n",
       "      <td>0.683706</td>\n",
       "      <td>0.316294</td>\n",
       "    </tr>\n",
       "    <tr>\n",
       "      <th>FLAGGED DOWN</th>\n",
       "      <td>0.726539</td>\n",
       "      <td>0.273461</td>\n",
       "    </tr>\n",
       "    <tr>\n",
       "      <th>CALL FOR SERVICE</th>\n",
       "      <td>0.727183</td>\n",
       "      <td>0.272817</td>\n",
       "    </tr>\n",
       "    <tr>\n",
       "      <th>SUSPECT PERSON</th>\n",
       "      <td>0.794982</td>\n",
       "      <td>0.205018</td>\n",
       "    </tr>\n",
       "    <tr>\n",
       "      <th>SUSPECT VEHICLE</th>\n",
       "      <td>0.799005</td>\n",
       "      <td>0.200995</td>\n",
       "    </tr>\n",
       "    <tr>\n",
       "      <th>OTHER</th>\n",
       "      <td>0.825583</td>\n",
       "      <td>0.174417</td>\n",
       "    </tr>\n",
       "    <tr>\n",
       "      <th>JUVENILE VIOLATION</th>\n",
       "      <td>0.855630</td>\n",
       "      <td>0.144370</td>\n",
       "    </tr>\n",
       "    <tr>\n",
       "      <th>CITIZEN CONTACT</th>\n",
       "      <td>0.879363</td>\n",
       "      <td>0.120637</td>\n",
       "    </tr>\n",
       "    <tr>\n",
       "      <th>TRAFFIC VIOLATION</th>\n",
       "      <td>0.892835</td>\n",
       "      <td>0.107165</td>\n",
       "    </tr>\n",
       "  </tbody>\n",
       "</table>\n",
       "</div>"
      ],
      "text/plain": [
       "search_conducted           False     True \n",
       "reason_for_stop                           \n",
       "CRIMINAL VIOLATION      0.566557  0.433443\n",
       "PRESENT AT CRIME SCENE  0.683706  0.316294\n",
       "FLAGGED DOWN            0.726539  0.273461\n",
       "CALL FOR SERVICE        0.727183  0.272817\n",
       "SUSPECT PERSON          0.794982  0.205018\n",
       "SUSPECT VEHICLE         0.799005  0.200995\n",
       "OTHER                   0.825583  0.174417\n",
       "JUVENILE VIOLATION      0.855630  0.144370\n",
       "CITIZEN CONTACT         0.879363  0.120637\n",
       "TRAFFIC VIOLATION       0.892835  0.107165"
      ]
     },
     "execution_count": 71,
     "metadata": {},
     "output_type": "execute_result"
    }
   ],
   "source": [
    "(data_blacks.groupby('reason_for_stop').search_conducted.value_counts(normalize=True)\n",
    ".unstack().sort_values(by=True,ascending=False).head(10)\n",
    ")"
   ]
  },
  {
   "cell_type": "markdown",
   "metadata": {},
   "source": [
    "#### Now just white people\n"
   ]
  },
  {
   "cell_type": "code",
   "execution_count": 72,
   "metadata": {},
   "outputs": [],
   "source": [
    "data_whites = data[data.subject_race == 'white']"
   ]
  },
  {
   "cell_type": "code",
   "execution_count": 73,
   "metadata": {},
   "outputs": [
    {
     "data": {
      "text/html": [
       "<div>\n",
       "<style scoped>\n",
       "    .dataframe tbody tr th:only-of-type {\n",
       "        vertical-align: middle;\n",
       "    }\n",
       "\n",
       "    .dataframe tbody tr th {\n",
       "        vertical-align: top;\n",
       "    }\n",
       "\n",
       "    .dataframe thead th {\n",
       "        text-align: right;\n",
       "    }\n",
       "</style>\n",
       "<table border=\"1\" class=\"dataframe\">\n",
       "  <thead>\n",
       "    <tr style=\"text-align: right;\">\n",
       "      <th>search_conducted</th>\n",
       "      <th>False</th>\n",
       "      <th>True</th>\n",
       "    </tr>\n",
       "    <tr>\n",
       "      <th>reason_for_stop</th>\n",
       "      <th></th>\n",
       "      <th></th>\n",
       "    </tr>\n",
       "  </thead>\n",
       "  <tbody>\n",
       "    <tr>\n",
       "      <th>CRIMINAL VIOLATION</th>\n",
       "      <td>0.749904</td>\n",
       "      <td>0.250096</td>\n",
       "    </tr>\n",
       "    <tr>\n",
       "      <th>PRESENT AT CRIME SCENE</th>\n",
       "      <td>0.751880</td>\n",
       "      <td>0.248120</td>\n",
       "    </tr>\n",
       "    <tr>\n",
       "      <th>CALL FOR SERVICE</th>\n",
       "      <td>0.766494</td>\n",
       "      <td>0.233506</td>\n",
       "    </tr>\n",
       "    <tr>\n",
       "      <th>FLAGGED DOWN</th>\n",
       "      <td>0.778307</td>\n",
       "      <td>0.221693</td>\n",
       "    </tr>\n",
       "    <tr>\n",
       "      <th>SUSPECT PERSON</th>\n",
       "      <td>0.851353</td>\n",
       "      <td>0.148647</td>\n",
       "    </tr>\n",
       "    <tr>\n",
       "      <th>SUSPECT VEHICLE</th>\n",
       "      <td>0.879281</td>\n",
       "      <td>0.120719</td>\n",
       "    </tr>\n",
       "    <tr>\n",
       "      <th>OTHER</th>\n",
       "      <td>0.904210</td>\n",
       "      <td>0.095790</td>\n",
       "    </tr>\n",
       "    <tr>\n",
       "      <th>JUVENILE VIOLATION</th>\n",
       "      <td>0.911538</td>\n",
       "      <td>0.088462</td>\n",
       "    </tr>\n",
       "    <tr>\n",
       "      <th>CITIZEN CONTACT</th>\n",
       "      <td>0.923058</td>\n",
       "      <td>0.076942</td>\n",
       "    </tr>\n",
       "    <tr>\n",
       "      <th>TRAFFIC VIOLATION</th>\n",
       "      <td>0.941862</td>\n",
       "      <td>0.058138</td>\n",
       "    </tr>\n",
       "  </tbody>\n",
       "</table>\n",
       "</div>"
      ],
      "text/plain": [
       "search_conducted           False     True \n",
       "reason_for_stop                           \n",
       "CRIMINAL VIOLATION      0.749904  0.250096\n",
       "PRESENT AT CRIME SCENE  0.751880  0.248120\n",
       "CALL FOR SERVICE        0.766494  0.233506\n",
       "FLAGGED DOWN            0.778307  0.221693\n",
       "SUSPECT PERSON          0.851353  0.148647\n",
       "SUSPECT VEHICLE         0.879281  0.120719\n",
       "OTHER                   0.904210  0.095790\n",
       "JUVENILE VIOLATION      0.911538  0.088462\n",
       "CITIZEN CONTACT         0.923058  0.076942\n",
       "TRAFFIC VIOLATION       0.941862  0.058138"
      ]
     },
     "execution_count": 73,
     "metadata": {},
     "output_type": "execute_result"
    }
   ],
   "source": [
    "(data_whites.groupby('reason_for_stop').search_conducted.value_counts(normalize=True)\n",
    ".unstack().sort_values(by=True,ascending=False).head(10)\n",
    ")"
   ]
  },
  {
   "cell_type": "markdown",
   "metadata": {},
   "source": [
    "#### Comments:\n",
    "\n",
    "It is interesting to see how for same \"violations\" of the reason for the stop, black people get searched more often than their white counterparts. For example, only ~25% of white people were searched for criminal violation compared to ~43% of black people. Same with a normal traffic violation were ~11% of black people were search compared to only ~6% of white people. "
   ]
  },
  {
   "cell_type": "markdown",
   "metadata": {},
   "source": [
    "### Q7.Which district had the most number of arrest and what is the proportion of races in that district?"
   ]
  },
  {
   "cell_type": "code",
   "execution_count": 74,
   "metadata": {},
   "outputs": [],
   "source": [
    "data_dist = data.copy()"
   ]
  },
  {
   "cell_type": "code",
   "execution_count": 75,
   "metadata": {},
   "outputs": [
    {
     "data": {
      "text/plain": [
       "array(['6', '7', '5', '8', '3', '2', '4', '1', '1|7', '5|3|3', 6, 5, 3, 4,\n",
       "       7, 8, 1, 2, '3|2', '6|2'], dtype=object)"
      ]
     },
     "execution_count": 75,
     "metadata": {},
     "output_type": "execute_result"
    }
   ],
   "source": [
    "data_dist.district.unique()"
   ]
  },
  {
   "cell_type": "code",
   "execution_count": 76,
   "metadata": {},
   "outputs": [],
   "source": [
    "data_dist.district = data_dist.district.apply(lambda x: x if len(str(x)) < 2 else np.nan)"
   ]
  },
  {
   "cell_type": "code",
   "execution_count": 77,
   "metadata": {},
   "outputs": [],
   "source": [
    "data_dist.district = pd.to_numeric(data_dist.district, downcast='integer', errors='ignore')"
   ]
  },
  {
   "cell_type": "code",
   "execution_count": 78,
   "metadata": {},
   "outputs": [],
   "source": [
    "districs_pivot = (pd.pivot_table(data_dist, values=['raw_row_number', 'arrest_made'], \n",
    "                index='district',\n",
    "                aggfunc={'raw_row_number': 'count','arrest_made': np.sum})\n",
    "                .rename(columns={'raw_row_number':'total_stops'})\n",
    "                .sort_values(by='total_stops',ascending=False)\n",
    "                )"
   ]
  },
  {
   "cell_type": "code",
   "execution_count": 79,
   "metadata": {},
   "outputs": [],
   "source": [
    "districs_pivot.arrest_made = districs_pivot.arrest_made.astype(int)"
   ]
  },
  {
   "cell_type": "code",
   "execution_count": 80,
   "metadata": {},
   "outputs": [],
   "source": [
    "districs_pivot['proportions'] = round(districs_pivot.arrest_made / districs_pivot.total_stops * 100,2)"
   ]
  },
  {
   "cell_type": "code",
   "execution_count": 81,
   "metadata": {},
   "outputs": [],
   "source": [
    "districs_pivot['proportions'] = districs_pivot['proportions'].apply(\"{0:.2f}%\".format)"
   ]
  },
  {
   "cell_type": "code",
   "execution_count": 82,
   "metadata": {
    "scrolled": true
   },
   "outputs": [
    {
     "data": {
      "text/html": [
       "<style  type=\"text/css\" >\n",
       "    #T_e00324c8_e1ee_11e9_80a3_acde48001122row0_col0 {\n",
       "            background:  tomato;\n",
       "        }    #T_e00324c8_e1ee_11e9_80a3_acde48001122row0_col1 {\n",
       "            background:  tomato;\n",
       "        }    #T_e00324c8_e1ee_11e9_80a3_acde48001122row0_col2 {\n",
       "            background:  tomato;\n",
       "        }</style><table id=\"T_e00324c8_e1ee_11e9_80a3_acde48001122\" ><thead>    <tr>        <th class=\"blank level0\" ></th>        <th class=\"col_heading level0 col0\" >arrest_made</th>        <th class=\"col_heading level0 col1\" >total_stops</th>        <th class=\"col_heading level0 col2\" >proportions</th>    </tr>    <tr>        <th class=\"index_name level0\" >district</th>        <th class=\"blank\" ></th>        <th class=\"blank\" ></th>        <th class=\"blank\" ></th>    </tr></thead><tbody>\n",
       "                <tr>\n",
       "                        <th id=\"T_e00324c8_e1ee_11e9_80a3_acde48001122level0_row0\" class=\"row_heading level0 row0\" >8.0</th>\n",
       "                        <td id=\"T_e00324c8_e1ee_11e9_80a3_acde48001122row0_col0\" class=\"data row0 col0\" >22015</td>\n",
       "                        <td id=\"T_e00324c8_e1ee_11e9_80a3_acde48001122row0_col1\" class=\"data row0 col1\" >99266</td>\n",
       "                        <td id=\"T_e00324c8_e1ee_11e9_80a3_acde48001122row0_col2\" class=\"data row0 col2\" >22.18%</td>\n",
       "            </tr>\n",
       "            <tr>\n",
       "                        <th id=\"T_e00324c8_e1ee_11e9_80a3_acde48001122level0_row1\" class=\"row_heading level0 row1\" >1.0</th>\n",
       "                        <td id=\"T_e00324c8_e1ee_11e9_80a3_acde48001122row1_col0\" class=\"data row1 col0\" >11099</td>\n",
       "                        <td id=\"T_e00324c8_e1ee_11e9_80a3_acde48001122row1_col1\" class=\"data row1 col1\" >50718</td>\n",
       "                        <td id=\"T_e00324c8_e1ee_11e9_80a3_acde48001122row1_col2\" class=\"data row1 col2\" >21.88%</td>\n",
       "            </tr>\n",
       "            <tr>\n",
       "                        <th id=\"T_e00324c8_e1ee_11e9_80a3_acde48001122level0_row2\" class=\"row_heading level0 row2\" >4.0</th>\n",
       "                        <td id=\"T_e00324c8_e1ee_11e9_80a3_acde48001122row2_col0\" class=\"data row2 col0\" >9348</td>\n",
       "                        <td id=\"T_e00324c8_e1ee_11e9_80a3_acde48001122row2_col1\" class=\"data row2 col1\" >45344</td>\n",
       "                        <td id=\"T_e00324c8_e1ee_11e9_80a3_acde48001122row2_col2\" class=\"data row2 col2\" >20.62%</td>\n",
       "            </tr>\n",
       "            <tr>\n",
       "                        <th id=\"T_e00324c8_e1ee_11e9_80a3_acde48001122level0_row3\" class=\"row_heading level0 row3\" >2.0</th>\n",
       "                        <td id=\"T_e00324c8_e1ee_11e9_80a3_acde48001122row3_col0\" class=\"data row3 col0\" >10467</td>\n",
       "                        <td id=\"T_e00324c8_e1ee_11e9_80a3_acde48001122row3_col1\" class=\"data row3 col1\" >52778</td>\n",
       "                        <td id=\"T_e00324c8_e1ee_11e9_80a3_acde48001122row3_col2\" class=\"data row3 col2\" >19.83%</td>\n",
       "            </tr>\n",
       "            <tr>\n",
       "                        <th id=\"T_e00324c8_e1ee_11e9_80a3_acde48001122level0_row4\" class=\"row_heading level0 row4\" >6.0</th>\n",
       "                        <td id=\"T_e00324c8_e1ee_11e9_80a3_acde48001122row4_col0\" class=\"data row4 col0\" >12356</td>\n",
       "                        <td id=\"T_e00324c8_e1ee_11e9_80a3_acde48001122row4_col1\" class=\"data row4 col1\" >67537</td>\n",
       "                        <td id=\"T_e00324c8_e1ee_11e9_80a3_acde48001122row4_col2\" class=\"data row4 col2\" >18.30%</td>\n",
       "            </tr>\n",
       "            <tr>\n",
       "                        <th id=\"T_e00324c8_e1ee_11e9_80a3_acde48001122level0_row5\" class=\"row_heading level0 row5\" >7.0</th>\n",
       "                        <td id=\"T_e00324c8_e1ee_11e9_80a3_acde48001122row5_col0\" class=\"data row5 col0\" >9015</td>\n",
       "                        <td id=\"T_e00324c8_e1ee_11e9_80a3_acde48001122row5_col1\" class=\"data row5 col1\" >60409</td>\n",
       "                        <td id=\"T_e00324c8_e1ee_11e9_80a3_acde48001122row5_col2\" class=\"data row5 col2\" >14.92%</td>\n",
       "            </tr>\n",
       "            <tr>\n",
       "                        <th id=\"T_e00324c8_e1ee_11e9_80a3_acde48001122level0_row6\" class=\"row_heading level0 row6\" >3.0</th>\n",
       "                        <td id=\"T_e00324c8_e1ee_11e9_80a3_acde48001122row6_col0\" class=\"data row6 col0\" >11644</td>\n",
       "                        <td id=\"T_e00324c8_e1ee_11e9_80a3_acde48001122row6_col1\" class=\"data row6 col1\" >78879</td>\n",
       "                        <td id=\"T_e00324c8_e1ee_11e9_80a3_acde48001122row6_col2\" class=\"data row6 col2\" >14.76%</td>\n",
       "            </tr>\n",
       "            <tr>\n",
       "                        <th id=\"T_e00324c8_e1ee_11e9_80a3_acde48001122level0_row7\" class=\"row_heading level0 row7\" >5.0</th>\n",
       "                        <td id=\"T_e00324c8_e1ee_11e9_80a3_acde48001122row7_col0\" class=\"data row7 col0\" >8220</td>\n",
       "                        <td id=\"T_e00324c8_e1ee_11e9_80a3_acde48001122row7_col1\" class=\"data row7 col1\" >57157</td>\n",
       "                        <td id=\"T_e00324c8_e1ee_11e9_80a3_acde48001122row7_col2\" class=\"data row7 col2\" >14.38%</td>\n",
       "            </tr>\n",
       "    </tbody></table>"
      ],
      "text/plain": [
       "<pandas.io.formats.style.Styler at 0x10e4a3e48>"
      ]
     },
     "execution_count": 82,
     "metadata": {},
     "output_type": "execute_result"
    }
   ],
   "source": [
    "(districs_pivot.sort_values(by='proportions', ascending=False)\n",
    ".style.apply(lambda x: ['background: tomato' if c == x.max() else \"\" for c in x] , axis=0))"
   ]
  },
  {
   "cell_type": "markdown",
   "metadata": {},
   "source": [
    "#### Checking the race distribution among the top 3 districts with more proportion of arrest by stops"
   ]
  },
  {
   "cell_type": "code",
   "execution_count": 83,
   "metadata": {},
   "outputs": [
    {
     "data": {
      "text/html": [
       "<style  type=\"text/css\" >\n",
       "    #T_e086ce90_e1ee_11e9_80a3_acde48001122row0_col0 {\n",
       "            background:  tomato;\n",
       "        }</style><table id=\"T_e086ce90_e1ee_11e9_80a3_acde48001122\" ><thead>    <tr>        <th class=\"blank level0\" ></th>        <th class=\"col_heading level0 col0\" >subject_race</th>    </tr></thead><tbody>\n",
       "                <tr>\n",
       "                        <th id=\"T_e086ce90_e1ee_11e9_80a3_acde48001122level0_row0\" class=\"row_heading level0 row0\" >black</th>\n",
       "                        <td id=\"T_e086ce90_e1ee_11e9_80a3_acde48001122row0_col0\" class=\"data row0 col0\" >49.13%</td>\n",
       "            </tr>\n",
       "            <tr>\n",
       "                        <th id=\"T_e086ce90_e1ee_11e9_80a3_acde48001122level0_row1\" class=\"row_heading level0 row1\" >white</th>\n",
       "                        <td id=\"T_e086ce90_e1ee_11e9_80a3_acde48001122row1_col0\" class=\"data row1 col0\" >46.47%</td>\n",
       "            </tr>\n",
       "            <tr>\n",
       "                        <th id=\"T_e086ce90_e1ee_11e9_80a3_acde48001122level0_row2\" class=\"row_heading level0 row2\" >hispanic</th>\n",
       "                        <td id=\"T_e086ce90_e1ee_11e9_80a3_acde48001122row2_col0\" class=\"data row2 col0\" >2.62%</td>\n",
       "            </tr>\n",
       "            <tr>\n",
       "                        <th id=\"T_e086ce90_e1ee_11e9_80a3_acde48001122level0_row3\" class=\"row_heading level0 row3\" >unknown</th>\n",
       "                        <td id=\"T_e086ce90_e1ee_11e9_80a3_acde48001122row3_col0\" class=\"data row3 col0\" >1.02%</td>\n",
       "            </tr>\n",
       "            <tr>\n",
       "                        <th id=\"T_e086ce90_e1ee_11e9_80a3_acde48001122level0_row4\" class=\"row_heading level0 row4\" >asian/pacific islander</th>\n",
       "                        <td id=\"T_e086ce90_e1ee_11e9_80a3_acde48001122row4_col0\" class=\"data row4 col0\" >0.66%</td>\n",
       "            </tr>\n",
       "            <tr>\n",
       "                        <th id=\"T_e086ce90_e1ee_11e9_80a3_acde48001122level0_row5\" class=\"row_heading level0 row5\" >other</th>\n",
       "                        <td id=\"T_e086ce90_e1ee_11e9_80a3_acde48001122row5_col0\" class=\"data row5 col0\" >0.10%</td>\n",
       "            </tr>\n",
       "    </tbody></table>"
      ],
      "text/plain": [
       "<pandas.io.formats.style.Styler at 0x1a21376e80>"
      ]
     },
     "execution_count": 83,
     "metadata": {},
     "output_type": "execute_result"
    }
   ],
   "source": [
    "(data_dist[data_dist.district == 8.0]\n",
    ".subject_race.value_counts(normalize=True)\n",
    ".apply(lambda x: x*100)\n",
    ".to_frame()\n",
    ".applymap(\"{0:.2f}%\".format)\n",
    ".style.apply(lambda x: ['background: tomato' if c == x.max() else \"\" for c in x] , axis=0)\n",
    ")"
   ]
  },
  {
   "cell_type": "code",
   "execution_count": 84,
   "metadata": {},
   "outputs": [
    {
     "data": {
      "text/html": [
       "<style  type=\"text/css\" >\n",
       "    #T_e0c32cb4_e1ee_11e9_80a3_acde48001122row0_col0 {\n",
       "            background:  tomato;\n",
       "        }</style><table id=\"T_e0c32cb4_e1ee_11e9_80a3_acde48001122\" ><thead>    <tr>        <th class=\"blank level0\" ></th>        <th class=\"col_heading level0 col0\" >subject_race</th>    </tr></thead><tbody>\n",
       "                <tr>\n",
       "                        <th id=\"T_e0c32cb4_e1ee_11e9_80a3_acde48001122level0_row0\" class=\"row_heading level0 row0\" >black</th>\n",
       "                        <td id=\"T_e0c32cb4_e1ee_11e9_80a3_acde48001122row0_col0\" class=\"data row0 col0\" >72.90%</td>\n",
       "            </tr>\n",
       "            <tr>\n",
       "                        <th id=\"T_e0c32cb4_e1ee_11e9_80a3_acde48001122level0_row1\" class=\"row_heading level0 row1\" >white</th>\n",
       "                        <td id=\"T_e0c32cb4_e1ee_11e9_80a3_acde48001122row1_col0\" class=\"data row1 col0\" >21.71%</td>\n",
       "            </tr>\n",
       "            <tr>\n",
       "                        <th id=\"T_e0c32cb4_e1ee_11e9_80a3_acde48001122level0_row2\" class=\"row_heading level0 row2\" >hispanic</th>\n",
       "                        <td id=\"T_e0c32cb4_e1ee_11e9_80a3_acde48001122row2_col0\" class=\"data row2 col0\" >4.26%</td>\n",
       "            </tr>\n",
       "            <tr>\n",
       "                        <th id=\"T_e0c32cb4_e1ee_11e9_80a3_acde48001122level0_row3\" class=\"row_heading level0 row3\" >unknown</th>\n",
       "                        <td id=\"T_e0c32cb4_e1ee_11e9_80a3_acde48001122row3_col0\" class=\"data row3 col0\" >0.64%</td>\n",
       "            </tr>\n",
       "            <tr>\n",
       "                        <th id=\"T_e0c32cb4_e1ee_11e9_80a3_acde48001122level0_row4\" class=\"row_heading level0 row4\" >asian/pacific islander</th>\n",
       "                        <td id=\"T_e0c32cb4_e1ee_11e9_80a3_acde48001122row4_col0\" class=\"data row4 col0\" >0.42%</td>\n",
       "            </tr>\n",
       "            <tr>\n",
       "                        <th id=\"T_e0c32cb4_e1ee_11e9_80a3_acde48001122level0_row5\" class=\"row_heading level0 row5\" >other</th>\n",
       "                        <td id=\"T_e0c32cb4_e1ee_11e9_80a3_acde48001122row5_col0\" class=\"data row5 col0\" >0.06%</td>\n",
       "            </tr>\n",
       "    </tbody></table>"
      ],
      "text/plain": [
       "<pandas.io.formats.style.Styler at 0x10e47fdd8>"
      ]
     },
     "execution_count": 84,
     "metadata": {},
     "output_type": "execute_result"
    }
   ],
   "source": [
    "(data_dist[data_dist.district == 1.0]\n",
    ".subject_race.value_counts(normalize=True)\n",
    ".apply(lambda x: x*100)\n",
    ".to_frame()\n",
    ".applymap(\"{0:.2f}%\".format)\n",
    ".style.apply(lambda x: ['background: tomato' if c == x.max() else \"\" for c in x] , axis=0)\n",
    ")"
   ]
  },
  {
   "cell_type": "code",
   "execution_count": 85,
   "metadata": {},
   "outputs": [
    {
     "data": {
      "text/html": [
       "<style  type=\"text/css\" >\n",
       "    #T_e10553f0_e1ee_11e9_80a3_acde48001122row0_col0 {\n",
       "            background:  tomato;\n",
       "        }</style><table id=\"T_e10553f0_e1ee_11e9_80a3_acde48001122\" ><thead>    <tr>        <th class=\"blank level0\" ></th>        <th class=\"col_heading level0 col0\" >subject_race</th>    </tr></thead><tbody>\n",
       "                <tr>\n",
       "                        <th id=\"T_e10553f0_e1ee_11e9_80a3_acde48001122level0_row0\" class=\"row_heading level0 row0\" >black</th>\n",
       "                        <td id=\"T_e10553f0_e1ee_11e9_80a3_acde48001122row0_col0\" class=\"data row0 col0\" >84.60%</td>\n",
       "            </tr>\n",
       "            <tr>\n",
       "                        <th id=\"T_e10553f0_e1ee_11e9_80a3_acde48001122level0_row1\" class=\"row_heading level0 row1\" >white</th>\n",
       "                        <td id=\"T_e10553f0_e1ee_11e9_80a3_acde48001122row1_col0\" class=\"data row1 col0\" >12.17%</td>\n",
       "            </tr>\n",
       "            <tr>\n",
       "                        <th id=\"T_e10553f0_e1ee_11e9_80a3_acde48001122level0_row2\" class=\"row_heading level0 row2\" >hispanic</th>\n",
       "                        <td id=\"T_e10553f0_e1ee_11e9_80a3_acde48001122row2_col0\" class=\"data row2 col0\" >2.02%</td>\n",
       "            </tr>\n",
       "            <tr>\n",
       "                        <th id=\"T_e10553f0_e1ee_11e9_80a3_acde48001122level0_row3\" class=\"row_heading level0 row3\" >asian/pacific islander</th>\n",
       "                        <td id=\"T_e10553f0_e1ee_11e9_80a3_acde48001122row3_col0\" class=\"data row3 col0\" >0.85%</td>\n",
       "            </tr>\n",
       "            <tr>\n",
       "                        <th id=\"T_e10553f0_e1ee_11e9_80a3_acde48001122level0_row4\" class=\"row_heading level0 row4\" >unknown</th>\n",
       "                        <td id=\"T_e10553f0_e1ee_11e9_80a3_acde48001122row4_col0\" class=\"data row4 col0\" >0.30%</td>\n",
       "            </tr>\n",
       "            <tr>\n",
       "                        <th id=\"T_e10553f0_e1ee_11e9_80a3_acde48001122level0_row5\" class=\"row_heading level0 row5\" >other</th>\n",
       "                        <td id=\"T_e10553f0_e1ee_11e9_80a3_acde48001122row5_col0\" class=\"data row5 col0\" >0.06%</td>\n",
       "            </tr>\n",
       "    </tbody></table>"
      ],
      "text/plain": [
       "<pandas.io.formats.style.Styler at 0x1a21cb5d68>"
      ]
     },
     "execution_count": 85,
     "metadata": {},
     "output_type": "execute_result"
    }
   ],
   "source": [
    "(data_dist[data_dist.district == 4.0]\n",
    ".subject_race.value_counts(normalize=True)\n",
    ".apply(lambda x: x*100)\n",
    ".to_frame()\n",
    ".applymap(\"{0:.2f}%\".format)\n",
    ".style.apply(lambda x: ['background: tomato' if c == x.max() else \"\" for c in x] , axis=0)\n",
    ")"
   ]
  },
  {
   "cell_type": "markdown",
   "metadata": {},
   "source": [
    "#### Comments:\n",
    "\n",
    "District 8 had the most number of arrest per person stopped by the police. This might indicate that this district is not very safe as the police found reasons to arrest 22% of the people they stopped. Also, this district race distributions seem to be very balanced so it would be a good idea to see if there is a difference between black and white. "
   ]
  },
  {
   "cell_type": "markdown",
   "metadata": {},
   "source": [
    "### Q8. What are the main reasons a person is being stopped in District 8 that end up in arrests?\n"
   ]
  },
  {
   "cell_type": "code",
   "execution_count": 86,
   "metadata": {},
   "outputs": [
    {
     "data": {
      "text/html": [
       "<style  type=\"text/css\" >\n",
       "    #T_e1bca0fa_e1ee_11e9_80a3_acde48001122row0_col0 {\n",
       "            background:  tomato;\n",
       "        }</style><table id=\"T_e1bca0fa_e1ee_11e9_80a3_acde48001122\" ><thead>    <tr>        <th class=\"blank level0\" ></th>        <th class=\"col_heading level0 col0\" >reason_for_stop</th>    </tr></thead><tbody>\n",
       "                <tr>\n",
       "                        <th id=\"T_e1bca0fa_e1ee_11e9_80a3_acde48001122level0_row0\" class=\"row_heading level0 row0\" >CRIMINAL VIOLATION</th>\n",
       "                        <td id=\"T_e1bca0fa_e1ee_11e9_80a3_acde48001122row0_col0\" class=\"data row0 col0\" >42.97%</td>\n",
       "            </tr>\n",
       "            <tr>\n",
       "                        <th id=\"T_e1bca0fa_e1ee_11e9_80a3_acde48001122level0_row1\" class=\"row_heading level0 row1\" >CALL FOR SERVICE</th>\n",
       "                        <td id=\"T_e1bca0fa_e1ee_11e9_80a3_acde48001122row1_col0\" class=\"data row1 col0\" >20.28%</td>\n",
       "            </tr>\n",
       "            <tr>\n",
       "                        <th id=\"T_e1bca0fa_e1ee_11e9_80a3_acde48001122level0_row2\" class=\"row_heading level0 row2\" >TRAFFIC VIOLATION</th>\n",
       "                        <td id=\"T_e1bca0fa_e1ee_11e9_80a3_acde48001122row2_col0\" class=\"data row2 col0\" >13.72%</td>\n",
       "            </tr>\n",
       "            <tr>\n",
       "                        <th id=\"T_e1bca0fa_e1ee_11e9_80a3_acde48001122level0_row3\" class=\"row_heading level0 row3\" >SUSPECT PERSON</th>\n",
       "                        <td id=\"T_e1bca0fa_e1ee_11e9_80a3_acde48001122row3_col0\" class=\"data row3 col0\" >11.32%</td>\n",
       "            </tr>\n",
       "            <tr>\n",
       "                        <th id=\"T_e1bca0fa_e1ee_11e9_80a3_acde48001122level0_row4\" class=\"row_heading level0 row4\" >FLAGGED DOWN</th>\n",
       "                        <td id=\"T_e1bca0fa_e1ee_11e9_80a3_acde48001122row4_col0\" class=\"data row4 col0\" >3.67%</td>\n",
       "            </tr>\n",
       "            <tr>\n",
       "                        <th id=\"T_e1bca0fa_e1ee_11e9_80a3_acde48001122level0_row5\" class=\"row_heading level0 row5\" >OTHER</th>\n",
       "                        <td id=\"T_e1bca0fa_e1ee_11e9_80a3_acde48001122row5_col0\" class=\"data row5 col0\" >3.16%</td>\n",
       "            </tr>\n",
       "            <tr>\n",
       "                        <th id=\"T_e1bca0fa_e1ee_11e9_80a3_acde48001122level0_row6\" class=\"row_heading level0 row6\" >CITIZEN CONTACT</th>\n",
       "                        <td id=\"T_e1bca0fa_e1ee_11e9_80a3_acde48001122row6_col0\" class=\"data row6 col0\" >2.33%</td>\n",
       "            </tr>\n",
       "            <tr>\n",
       "                        <th id=\"T_e1bca0fa_e1ee_11e9_80a3_acde48001122level0_row7\" class=\"row_heading level0 row7\" >JUVENILE VIOLATION</th>\n",
       "                        <td id=\"T_e1bca0fa_e1ee_11e9_80a3_acde48001122row7_col0\" class=\"data row7 col0\" >2.08%</td>\n",
       "            </tr>\n",
       "            <tr>\n",
       "                        <th id=\"T_e1bca0fa_e1ee_11e9_80a3_acde48001122level0_row8\" class=\"row_heading level0 row8\" >SUSPECT VEHICLE</th>\n",
       "                        <td id=\"T_e1bca0fa_e1ee_11e9_80a3_acde48001122row8_col0\" class=\"data row8 col0\" >0.28%</td>\n",
       "            </tr>\n",
       "            <tr>\n",
       "                        <th id=\"T_e1bca0fa_e1ee_11e9_80a3_acde48001122level0_row9\" class=\"row_heading level0 row9\" >PRESENT AT CRIME SCENE</th>\n",
       "                        <td id=\"T_e1bca0fa_e1ee_11e9_80a3_acde48001122row9_col0\" class=\"data row9 col0\" >0.19%</td>\n",
       "            </tr>\n",
       "    </tbody></table>"
      ],
      "text/plain": [
       "<pandas.io.formats.style.Styler at 0x1a2208beb8>"
      ]
     },
     "execution_count": 86,
     "metadata": {},
     "output_type": "execute_result"
    }
   ],
   "source": [
    "(data_dist[(data_dist.district == 8) & (data_dist.arrest_made == True)]\n",
    ".reason_for_stop.value_counts(normalize=True)\n",
    ".to_frame().sort_values(by='reason_for_stop', ascending=False)\n",
    ".apply(lambda x: x*100)\n",
    ".applymap(\"{0:.2f}%\".format)\n",
    ".style.apply(lambda x: ['background: tomato' if c == x.iloc[0] else \"\" for c in x] , axis=0))"
   ]
  },
  {
   "cell_type": "markdown",
   "metadata": {},
   "source": [
    "#### Q8.1 Checking the differences between black and white people in all districts and then in district 8 to see differences."
   ]
  },
  {
   "cell_type": "code",
   "execution_count": 87,
   "metadata": {},
   "outputs": [],
   "source": [
    "data_b_w_arrest = (data_dist[((data_dist.subject_race == 'black') | (data_dist.subject_race == 'white'))\n",
    "                                & (data_dist.arrest_made == True)])\n",
    "\n",
    "data_d8_b_w_arrest = (data_dist[((data_dist.subject_race == 'black') | (data_dist.subject_race == 'white'))\n",
    "                               & (data_dist.district == 8.0) & (data_dist.arrest_made == True)])"
   ]
  },
  {
   "cell_type": "code",
   "execution_count": 88,
   "metadata": {},
   "outputs": [],
   "source": [
    "data_b_w_arrest = (data_b_w_arrest.groupby(['subject_race']).reason_for_stop.value_counts(normalize=True)\n",
    ".unstack().apply(lambda x: x*100).transpose().sort_values(by='black', ascending=False))\n",
    "\n",
    "data_d8_b_w_arrest = (data_d8_b_w_arrest.groupby(['subject_race']).reason_for_stop.value_counts(normalize=True)\n",
    ".unstack().apply(lambda x: x*100).transpose().sort_values(by='black', ascending=False))"
   ]
  },
  {
   "cell_type": "code",
   "execution_count": 89,
   "metadata": {},
   "outputs": [],
   "source": [
    "data_b_w_arrest['differences'] = abs(data_b_w_arrest.black - data_b_w_arrest.white)\n",
    "\n",
    "data_d8_b_w_arrest['differences'] = abs(data_d8_b_w_arrest.black - data_d8_b_w_arrest.white)"
   ]
  },
  {
   "cell_type": "code",
   "execution_count": 90,
   "metadata": {},
   "outputs": [],
   "source": [
    "data_b_w_arrest = (data_b_w_arrest.applymap(\"{0:.2f}\".format).astype(float)\n",
    "                      .sort_values(by='differences',ascending=False))\n",
    "\n",
    "data_d8_b_w_arrest = (data_d8_b_w_arrest.applymap(\"{0:.2f}\".format).astype(float)\n",
    "                      .sort_values(by='differences',ascending=False))"
   ]
  },
  {
   "cell_type": "code",
   "execution_count": 91,
   "metadata": {},
   "outputs": [],
   "source": [
    "data_b_w_arrest = data_b_w_arrest.applymap(\"{0:.2f}%\".format)\n",
    "\n",
    "data_d8_b_w_arrest = data_d8_b_w_arrest.applymap(\"{0:.2f}%\".format)"
   ]
  },
  {
   "cell_type": "code",
   "execution_count": 92,
   "metadata": {},
   "outputs": [],
   "source": [
    "data_b_w_arrest_style = (data_b_w_arrest.style.apply(lambda x: ['background: tomato' \n",
    "                    if c == x.iloc[0] else \"\" for c in x] , axis=0))\n",
    "\n",
    "data_d8_b_w_arrest_style = (data_d8_b_w_arrest.style.apply(lambda x: ['background: tomato' \n",
    "                    if c == x.iloc[0] else \"\" for c in x] , axis=0))"
   ]
  },
  {
   "cell_type": "markdown",
   "metadata": {},
   "source": [
    "#### Distinctions in reason of stop between black and white people that have been arrested in all districts and in district 8"
   ]
  },
  {
   "cell_type": "code",
   "execution_count": 93,
   "metadata": {},
   "outputs": [
    {
     "data": {
      "text/html": [
       "<style  type=\"text/css\" >\n",
       "    #T_e3ba866a_e1ee_11e9_80a3_acde48001122row0_col0 {\n",
       "            background:  tomato;\n",
       "        }    #T_e3ba866a_e1ee_11e9_80a3_acde48001122row0_col1 {\n",
       "            background:  tomato;\n",
       "        }    #T_e3ba866a_e1ee_11e9_80a3_acde48001122row0_col2 {\n",
       "            background:  tomato;\n",
       "        }</style><table id=\"T_e3ba866a_e1ee_11e9_80a3_acde48001122\" ><thead>    <tr>        <th class=\"index_name level0\" >subject_race</th>        <th class=\"col_heading level0 col0\" >black</th>        <th class=\"col_heading level0 col1\" >white</th>        <th class=\"col_heading level0 col2\" >differences</th>    </tr>    <tr>        <th class=\"index_name level0\" >reason_for_stop</th>        <th class=\"blank\" ></th>        <th class=\"blank\" ></th>        <th class=\"blank\" ></th>    </tr></thead><tbody>\n",
       "                <tr>\n",
       "                        <th id=\"T_e3ba866a_e1ee_11e9_80a3_acde48001122level0_row0\" class=\"row_heading level0 row0\" >CRIMINAL VIOLATION</th>\n",
       "                        <td id=\"T_e3ba866a_e1ee_11e9_80a3_acde48001122row0_col0\" class=\"data row0 col0\" >14.02%</td>\n",
       "                        <td id=\"T_e3ba866a_e1ee_11e9_80a3_acde48001122row0_col1\" class=\"data row0 col1\" >28.42%</td>\n",
       "                        <td id=\"T_e3ba866a_e1ee_11e9_80a3_acde48001122row0_col2\" class=\"data row0 col2\" >14.39%</td>\n",
       "            </tr>\n",
       "            <tr>\n",
       "                        <th id=\"T_e3ba866a_e1ee_11e9_80a3_acde48001122level0_row1\" class=\"row_heading level0 row1\" >TRAFFIC VIOLATION</th>\n",
       "                        <td id=\"T_e3ba866a_e1ee_11e9_80a3_acde48001122row1_col0\" class=\"data row1 col0\" >36.63%</td>\n",
       "                        <td id=\"T_e3ba866a_e1ee_11e9_80a3_acde48001122row1_col1\" class=\"data row1 col1\" >22.99%</td>\n",
       "                        <td id=\"T_e3ba866a_e1ee_11e9_80a3_acde48001122row1_col2\" class=\"data row1 col2\" >13.64%</td>\n",
       "            </tr>\n",
       "            <tr>\n",
       "                        <th id=\"T_e3ba866a_e1ee_11e9_80a3_acde48001122level0_row2\" class=\"row_heading level0 row2\" >CALL FOR SERVICE</th>\n",
       "                        <td id=\"T_e3ba866a_e1ee_11e9_80a3_acde48001122row2_col0\" class=\"data row2 col0\" >24.42%</td>\n",
       "                        <td id=\"T_e3ba866a_e1ee_11e9_80a3_acde48001122row2_col1\" class=\"data row2 col1\" >26.51%</td>\n",
       "                        <td id=\"T_e3ba866a_e1ee_11e9_80a3_acde48001122row2_col2\" class=\"data row2 col2\" >2.09%</td>\n",
       "            </tr>\n",
       "            <tr>\n",
       "                        <th id=\"T_e3ba866a_e1ee_11e9_80a3_acde48001122level0_row3\" class=\"row_heading level0 row3\" >OTHER</th>\n",
       "                        <td id=\"T_e3ba866a_e1ee_11e9_80a3_acde48001122row3_col0\" class=\"data row3 col0\" >5.77%</td>\n",
       "                        <td id=\"T_e3ba866a_e1ee_11e9_80a3_acde48001122row3_col1\" class=\"data row3 col1\" >4.04%</td>\n",
       "                        <td id=\"T_e3ba866a_e1ee_11e9_80a3_acde48001122row3_col2\" class=\"data row3 col2\" >1.73%</td>\n",
       "            </tr>\n",
       "            <tr>\n",
       "                        <th id=\"T_e3ba866a_e1ee_11e9_80a3_acde48001122level0_row4\" class=\"row_heading level0 row4\" >FLAGGED DOWN</th>\n",
       "                        <td id=\"T_e3ba866a_e1ee_11e9_80a3_acde48001122row4_col0\" class=\"data row4 col0\" >1.06%</td>\n",
       "                        <td id=\"T_e3ba866a_e1ee_11e9_80a3_acde48001122row4_col1\" class=\"data row4 col1\" >2.45%</td>\n",
       "                        <td id=\"T_e3ba866a_e1ee_11e9_80a3_acde48001122row4_col2\" class=\"data row4 col2\" >1.39%</td>\n",
       "            </tr>\n",
       "            <tr>\n",
       "                        <th id=\"T_e3ba866a_e1ee_11e9_80a3_acde48001122level0_row5\" class=\"row_heading level0 row5\" >JUVENILE VIOLATION</th>\n",
       "                        <td id=\"T_e3ba866a_e1ee_11e9_80a3_acde48001122row5_col0\" class=\"data row5 col0\" >1.93%</td>\n",
       "                        <td id=\"T_e3ba866a_e1ee_11e9_80a3_acde48001122row5_col1\" class=\"data row5 col1\" >0.63%</td>\n",
       "                        <td id=\"T_e3ba866a_e1ee_11e9_80a3_acde48001122row5_col2\" class=\"data row5 col2\" >1.30%</td>\n",
       "            </tr>\n",
       "            <tr>\n",
       "                        <th id=\"T_e3ba866a_e1ee_11e9_80a3_acde48001122level0_row6\" class=\"row_heading level0 row6\" >SUSPECT PERSON</th>\n",
       "                        <td id=\"T_e3ba866a_e1ee_11e9_80a3_acde48001122row6_col0\" class=\"data row6 col0\" >13.07%</td>\n",
       "                        <td id=\"T_e3ba866a_e1ee_11e9_80a3_acde48001122row6_col1\" class=\"data row6 col1\" >12.07%</td>\n",
       "                        <td id=\"T_e3ba866a_e1ee_11e9_80a3_acde48001122row6_col2\" class=\"data row6 col2\" >1.00%</td>\n",
       "            </tr>\n",
       "            <tr>\n",
       "                        <th id=\"T_e3ba866a_e1ee_11e9_80a3_acde48001122level0_row7\" class=\"row_heading level0 row7\" >SUSPECT VEHICLE</th>\n",
       "                        <td id=\"T_e3ba866a_e1ee_11e9_80a3_acde48001122row7_col0\" class=\"data row7 col0\" >0.97%</td>\n",
       "                        <td id=\"T_e3ba866a_e1ee_11e9_80a3_acde48001122row7_col1\" class=\"data row7 col1\" >0.56%</td>\n",
       "                        <td id=\"T_e3ba866a_e1ee_11e9_80a3_acde48001122row7_col2\" class=\"data row7 col2\" >0.41%</td>\n",
       "            </tr>\n",
       "            <tr>\n",
       "                        <th id=\"T_e3ba866a_e1ee_11e9_80a3_acde48001122level0_row8\" class=\"row_heading level0 row8\" >CITIZEN CONTACT</th>\n",
       "                        <td id=\"T_e3ba866a_e1ee_11e9_80a3_acde48001122row8_col0\" class=\"data row8 col0\" >1.83%</td>\n",
       "                        <td id=\"T_e3ba866a_e1ee_11e9_80a3_acde48001122row8_col1\" class=\"data row8 col1\" >2.15%</td>\n",
       "                        <td id=\"T_e3ba866a_e1ee_11e9_80a3_acde48001122row8_col2\" class=\"data row8 col2\" >0.31%</td>\n",
       "            </tr>\n",
       "            <tr>\n",
       "                        <th id=\"T_e3ba866a_e1ee_11e9_80a3_acde48001122level0_row9\" class=\"row_heading level0 row9\" >PRESENT AT CRIME SCENE</th>\n",
       "                        <td id=\"T_e3ba866a_e1ee_11e9_80a3_acde48001122row9_col0\" class=\"data row9 col0\" >0.30%</td>\n",
       "                        <td id=\"T_e3ba866a_e1ee_11e9_80a3_acde48001122row9_col1\" class=\"data row9 col1\" >0.19%</td>\n",
       "                        <td id=\"T_e3ba866a_e1ee_11e9_80a3_acde48001122row9_col2\" class=\"data row9 col2\" >0.10%</td>\n",
       "            </tr>\n",
       "    </tbody></table>"
      ],
      "text/plain": [
       "<pandas.io.formats.style.Styler at 0x1a21b167f0>"
      ]
     },
     "execution_count": 93,
     "metadata": {},
     "output_type": "execute_result"
    }
   ],
   "source": [
    "# Taking into account all the districts\n",
    "data_b_w_arrest_style"
   ]
  },
  {
   "cell_type": "code",
   "execution_count": 94,
   "metadata": {},
   "outputs": [
    {
     "data": {
      "text/html": [
       "<style  type=\"text/css\" >\n",
       "    #T_e3faa70e_e1ee_11e9_80a3_acde48001122row0_col0 {\n",
       "            background:  tomato;\n",
       "        }    #T_e3faa70e_e1ee_11e9_80a3_acde48001122row0_col1 {\n",
       "            background:  tomato;\n",
       "        }    #T_e3faa70e_e1ee_11e9_80a3_acde48001122row0_col2 {\n",
       "            background:  tomato;\n",
       "        }</style><table id=\"T_e3faa70e_e1ee_11e9_80a3_acde48001122\" ><thead>    <tr>        <th class=\"index_name level0\" >subject_race</th>        <th class=\"col_heading level0 col0\" >black</th>        <th class=\"col_heading level0 col1\" >white</th>        <th class=\"col_heading level0 col2\" >differences</th>    </tr>    <tr>        <th class=\"index_name level0\" >reason_for_stop</th>        <th class=\"blank\" ></th>        <th class=\"blank\" ></th>        <th class=\"blank\" ></th>    </tr></thead><tbody>\n",
       "                <tr>\n",
       "                        <th id=\"T_e3faa70e_e1ee_11e9_80a3_acde48001122level0_row0\" class=\"row_heading level0 row0\" >TRAFFIC VIOLATION</th>\n",
       "                        <td id=\"T_e3faa70e_e1ee_11e9_80a3_acde48001122row0_col0\" class=\"data row0 col0\" >18.26%</td>\n",
       "                        <td id=\"T_e3faa70e_e1ee_11e9_80a3_acde48001122row0_col1\" class=\"data row0 col1\" >8.16%</td>\n",
       "                        <td id=\"T_e3faa70e_e1ee_11e9_80a3_acde48001122row0_col2\" class=\"data row0 col2\" >10.10%</td>\n",
       "            </tr>\n",
       "            <tr>\n",
       "                        <th id=\"T_e3faa70e_e1ee_11e9_80a3_acde48001122level0_row1\" class=\"row_heading level0 row1\" >CRIMINAL VIOLATION</th>\n",
       "                        <td id=\"T_e3faa70e_e1ee_11e9_80a3_acde48001122row1_col0\" class=\"data row1 col0\" >38.86%</td>\n",
       "                        <td id=\"T_e3faa70e_e1ee_11e9_80a3_acde48001122row1_col1\" class=\"data row1 col1\" >47.96%</td>\n",
       "                        <td id=\"T_e3faa70e_e1ee_11e9_80a3_acde48001122row1_col2\" class=\"data row1 col2\" >9.10%</td>\n",
       "            </tr>\n",
       "            <tr>\n",
       "                        <th id=\"T_e3faa70e_e1ee_11e9_80a3_acde48001122level0_row2\" class=\"row_heading level0 row2\" >CALL FOR SERVICE</th>\n",
       "                        <td id=\"T_e3faa70e_e1ee_11e9_80a3_acde48001122row2_col0\" class=\"data row2 col0\" >18.20%</td>\n",
       "                        <td id=\"T_e3faa70e_e1ee_11e9_80a3_acde48001122row2_col1\" class=\"data row2 col1\" >22.46%</td>\n",
       "                        <td id=\"T_e3faa70e_e1ee_11e9_80a3_acde48001122row2_col2\" class=\"data row2 col2\" >4.25%</td>\n",
       "            </tr>\n",
       "            <tr>\n",
       "                        <th id=\"T_e3faa70e_e1ee_11e9_80a3_acde48001122level0_row3\" class=\"row_heading level0 row3\" >JUVENILE VIOLATION</th>\n",
       "                        <td id=\"T_e3faa70e_e1ee_11e9_80a3_acde48001122row3_col0\" class=\"data row3 col0\" >3.69%</td>\n",
       "                        <td id=\"T_e3faa70e_e1ee_11e9_80a3_acde48001122row3_col1\" class=\"data row3 col1\" >0.31%</td>\n",
       "                        <td id=\"T_e3faa70e_e1ee_11e9_80a3_acde48001122row3_col2\" class=\"data row3 col2\" >3.38%</td>\n",
       "            </tr>\n",
       "            <tr>\n",
       "                        <th id=\"T_e3faa70e_e1ee_11e9_80a3_acde48001122level0_row4\" class=\"row_heading level0 row4\" >SUSPECT PERSON</th>\n",
       "                        <td id=\"T_e3faa70e_e1ee_11e9_80a3_acde48001122row4_col0\" class=\"data row4 col0\" >12.24%</td>\n",
       "                        <td id=\"T_e3faa70e_e1ee_11e9_80a3_acde48001122row4_col1\" class=\"data row4 col1\" >10.58%</td>\n",
       "                        <td id=\"T_e3faa70e_e1ee_11e9_80a3_acde48001122row4_col2\" class=\"data row4 col2\" >1.66%</td>\n",
       "            </tr>\n",
       "            <tr>\n",
       "                        <th id=\"T_e3faa70e_e1ee_11e9_80a3_acde48001122level0_row5\" class=\"row_heading level0 row5\" >FLAGGED DOWN</th>\n",
       "                        <td id=\"T_e3faa70e_e1ee_11e9_80a3_acde48001122row5_col0\" class=\"data row5 col0\" >3.08%</td>\n",
       "                        <td id=\"T_e3faa70e_e1ee_11e9_80a3_acde48001122row5_col1\" class=\"data row5 col1\" >4.28%</td>\n",
       "                        <td id=\"T_e3faa70e_e1ee_11e9_80a3_acde48001122row5_col2\" class=\"data row5 col2\" >1.20%</td>\n",
       "            </tr>\n",
       "            <tr>\n",
       "                        <th id=\"T_e3faa70e_e1ee_11e9_80a3_acde48001122level0_row6\" class=\"row_heading level0 row6\" >CITIZEN CONTACT</th>\n",
       "                        <td id=\"T_e3faa70e_e1ee_11e9_80a3_acde48001122row6_col0\" class=\"data row6 col0\" >1.90%</td>\n",
       "                        <td id=\"T_e3faa70e_e1ee_11e9_80a3_acde48001122row6_col1\" class=\"data row6 col1\" >2.78%</td>\n",
       "                        <td id=\"T_e3faa70e_e1ee_11e9_80a3_acde48001122row6_col2\" class=\"data row6 col2\" >0.88%</td>\n",
       "            </tr>\n",
       "            <tr>\n",
       "                        <th id=\"T_e3faa70e_e1ee_11e9_80a3_acde48001122level0_row7\" class=\"row_heading level0 row7\" >SUSPECT VEHICLE</th>\n",
       "                        <td id=\"T_e3faa70e_e1ee_11e9_80a3_acde48001122row7_col0\" class=\"data row7 col0\" >0.38%</td>\n",
       "                        <td id=\"T_e3faa70e_e1ee_11e9_80a3_acde48001122row7_col1\" class=\"data row7 col1\" >0.18%</td>\n",
       "                        <td id=\"T_e3faa70e_e1ee_11e9_80a3_acde48001122row7_col2\" class=\"data row7 col2\" >0.19%</td>\n",
       "            </tr>\n",
       "            <tr>\n",
       "                        <th id=\"T_e3faa70e_e1ee_11e9_80a3_acde48001122level0_row8\" class=\"row_heading level0 row8\" >OTHER</th>\n",
       "                        <td id=\"T_e3faa70e_e1ee_11e9_80a3_acde48001122row8_col0\" class=\"data row8 col0\" >3.21%</td>\n",
       "                        <td id=\"T_e3faa70e_e1ee_11e9_80a3_acde48001122row8_col1\" class=\"data row8 col1\" >3.09%</td>\n",
       "                        <td id=\"T_e3faa70e_e1ee_11e9_80a3_acde48001122row8_col2\" class=\"data row8 col2\" >0.13%</td>\n",
       "            </tr>\n",
       "            <tr>\n",
       "                        <th id=\"T_e3faa70e_e1ee_11e9_80a3_acde48001122level0_row9\" class=\"row_heading level0 row9\" >PRESENT AT CRIME SCENE</th>\n",
       "                        <td id=\"T_e3faa70e_e1ee_11e9_80a3_acde48001122row9_col0\" class=\"data row9 col0\" >0.18%</td>\n",
       "                        <td id=\"T_e3faa70e_e1ee_11e9_80a3_acde48001122row9_col1\" class=\"data row9 col1\" >0.21%</td>\n",
       "                        <td id=\"T_e3faa70e_e1ee_11e9_80a3_acde48001122row9_col2\" class=\"data row9 col2\" >0.03%</td>\n",
       "            </tr>\n",
       "    </tbody></table>"
      ],
      "text/plain": [
       "<pandas.io.formats.style.Styler at 0x1a21b167b8>"
      ]
     },
     "execution_count": 94,
     "metadata": {},
     "output_type": "execute_result"
    }
   ],
   "source": [
    "#Filtering by district 8 only\n",
    "data_d8_b_w_arrest_style"
   ]
  },
  {
   "cell_type": "markdown",
   "metadata": {},
   "source": [
    "#### Comments:\n",
    "\n",
    "State Police in district 8 is characterized for arresting ~43% of the people they stop due to Criminal Violation. When we compare how this number is distributed among the white and black population, we see that white people represent the majority of arrests by Criminal Violation and the differences between races are ~9%.\n",
    "\n",
    "Additionally, black people are more likely to be arrested for traffic violation than white people. In our sample, ~18% of the black people got arrested after a traffic violation compared to only ~8% of white people. This is a very important insight as we saw before, the probability of being search, if you are black, is significantly higher than if you are a white person. Also, the probability of carrying contraband for a black person is also higher, so maybe this is one of the reasons why this community gets more arrests for the same violation."
   ]
  },
  {
   "cell_type": "code",
   "execution_count": 98,
   "metadata": {},
   "outputs": [],
   "source": [
    "data_dist.to_csv('/Users/abreualberto91/IRONHACK/Datasets/new_orleans_police.csv')"
   ]
  },
  {
   "cell_type": "code",
   "execution_count": null,
   "metadata": {},
   "outputs": [],
   "source": []
  }
 ],
 "metadata": {
  "kernelspec": {
   "display_name": "ironhack",
   "language": "python",
   "name": "ironhack"
  },
  "language_info": {
   "codemirror_mode": {
    "name": "ipython",
    "version": 3
   },
   "file_extension": ".py",
   "mimetype": "text/x-python",
   "name": "python",
   "nbconvert_exporter": "python",
   "pygments_lexer": "ipython3",
   "version": "3.7.3"
  }
 },
 "nbformat": 4,
 "nbformat_minor": 2
}
