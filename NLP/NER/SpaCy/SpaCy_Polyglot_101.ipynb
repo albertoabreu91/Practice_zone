{
 "cells": [
  {
   "cell_type": "markdown",
   "metadata": {},
   "source": [
    "# SpaCy "
   ]
  },
  {
   "cell_type": "markdown",
   "metadata": {},
   "source": [
    "<img src=\"spacy_101.png\" width=\"600\" height=\"300\">"
   ]
  },
  {
   "cell_type": "markdown",
   "metadata": {},
   "source": [
    "<img src=\"spacy_ex.png\" width=\"600\" height=\"300\">"
   ]
  },
  {
   "cell_type": "markdown",
   "metadata": {},
   "source": [
    "# NER with SpaCy\n",
    "\n",
    "- We must first download all the appropriate pre-trained word vectors.\n",
    "\n",
    "- You can also pre-trained vector yourself and load them. \n",
    "\n",
    "- There are some pre-trained ones like the one from below. \n",
    "\n"
   ]
  },
  {
   "cell_type": "markdown",
   "metadata": {},
   "source": [
    "<img src=\"spacy_adv.png\" width=\"600\" height=\"300\">"
   ]
  },
  {
   "cell_type": "code",
   "execution_count": 2,
   "metadata": {},
   "outputs": [],
   "source": [
    "import spacy"
   ]
  },
  {
   "cell_type": "code",
   "execution_count": 10,
   "metadata": {},
   "outputs": [],
   "source": [
    "#Load the pre-trained vectors into nlp.\n",
    "\n",
    "nlp = spacy.load('en')"
   ]
  },
  {
   "cell_type": "code",
   "execution_count": 13,
   "metadata": {},
   "outputs": [
    {
     "name": "stdout",
     "output_type": "stream",
     "text": [
      "(Berlin, Germany, Angela Merkel)\n",
      "Berlin GPE\n"
     ]
    }
   ],
   "source": [
    "import spacy\n",
    "nlp = spacy.load('en')\n",
    "nlp.entity\n",
    "\n",
    "doc = nlp(\"\"\"Berlin is the capital of Germany; \n",
    "                  and the residence of Chancellor Angela Merkel.\"\"\")\n",
    "print(doc.ents)\n",
    "\n",
    "\n",
    "    \n",
    "print(doc.ents[0], doc.ents[0].label_)"
   ]
  },
  {
   "cell_type": "markdown",
   "metadata": {},
   "source": [
    "#### Exercise"
   ]
  },
  {
   "cell_type": "code",
   "execution_count": 2,
   "metadata": {},
   "outputs": [],
   "source": [
    "article = \"\"\"\\ufeffThe taxi-hailing company Uber brings into very sharp focus the question of whether corporations\n",
    "can be said to have a moral character. If any human being were to behave with the single-minded and\n",
    "ruthless greed of the company, we would consider them sociopathic. Uber wanted to know as much as possible about\n",
    "the people who use its service, and those who don’t. It has an arrangement with unroll.me, a company\n",
    "which offered a free service for unsubscribing from junk mail, to buy the contacts unroll.me customers had had \n",
    "with rival taxi companies. Even if their email was notionally anonymised, this use of it was not something the\n",
    "users had bargained for. Beyond that, it keeps track of the phones that have been used to summon its services\n",
    "even after the original owner has sold them, attempting this with Apple’s phones even thought it is forbidden\n",
    "by the company.\\r\\n\\r\\n\\r\\nUber has also tweaked its software so that regulatory agencies that the company \n",
    "regarded as hostile would, when they tried to hire a driver, be given false reports about the location\n",
    "of its cars. Uber management booked and then cancelled rides with a rival taxi-hailing company which took\n",
    "their vehicles out of circulation. Uber deny this was the intention. The punishment for this behaviour was \n",
    "negligible. Uber promised not to use this “greyball” software against law enforcement – one wonders what\n",
    "would happen to someone carrying a knife who promised never to stab a policeman with it. Travis Kalanick\n",
    "of Uber got a personal dressing down from Tim Cook, who runs Apple, but the company did not prohibit\n",
    "the use of the app. Too much money was at stake for that.\\r\\n\\r\\n\\r\\nMillions of people around the world value\n",
    "the cheapness and convenience of Uber’s rides too much to care about the lack of drivers’ rights or pay.\n",
    "Many of the users themselves are not much richer than the drivers. The “sharing economy” encourages the\n",
    "insecure and exploited to exploit others equally insecure to the profit of a tiny clique of billionaires. Silicon\n",
    "Valley’s culture seems hostile to humane and democratic values. The outgoing CEO of Yahoo, Marissa Mayer,\n",
    "who is widely judged to have been a failure, is likely to get a $186m payout. This may not be a cause for\n",
    "panic, any more than the previous hero worship should have been a cause for euphoria. Yet there’s an urgent \n",
    "political task to tame these companies, to ensure they are punished when they break the law, that they\n",
    "pay their taxes fairly and that they behave responsibly.\"\"\""
   ]
  },
  {
   "cell_type": "code",
   "execution_count": 18,
   "metadata": {},
   "outputs": [
    {
     "name": "stdout",
     "output_type": "stream",
     "text": [
      "﻿The taxi-hailing company Uber brings into very sharp focus the question of whether corporations\n",
      "can be said to have a moral character. If any human being were to behave with the single-minded and\n",
      "ruthless greed of the company, we would consider them sociopathic. Uber wanted to know as much as possible about\n",
      "the people who use its service, and those who don’t. It has an arrangement with unroll.me, a company\n",
      "which offered a free service for unsubscribing from junk mail, to buy the contacts unroll.me customers had had \n",
      "with rival taxi companies. Even if their email was notionally anonymised, this use of it was not something the\n",
      "users had bargained for. Beyond that, it keeps track of the phones that have been used to summon its services\n",
      "even after the original owner has sold them, attempting this with Apple’s phones even thought it is forbidden\n",
      "by the company.\r\n",
      "\r\n",
      "\r\n",
      "Uber has also tweaked its software so that regulatory agencies that the company \n",
      "regarded as hostile would, when they tried to hire a driver, be given false reports about the location\n",
      "of its cars. Uber management booked and then cancelled rides with a rival taxi-hailing company which took\n",
      "their vehicles out of circulation. Uber deny this was the intention. The punishment for this behaviour was \n",
      "negligible. Uber promised not to use this “greyball” software against law enforcement – one wonders what\n",
      "would happen to someone carrying a knife who promised never to stab a policeman with it. Travis Kalanick\n",
      "of Uber got a personal dressing down from Tim Cook, who runs Apple, but the company did not prohibit\n",
      "the use of the app. Too much money was at stake for that.\r\n",
      "\r\n",
      "\r\n",
      "Millions of people around the world value\n",
      "the cheapness and convenience of Uber’s rides too much to care about the lack of drivers’ rights or pay.\n",
      "Many of the users themselves are not much richer than the drivers. The “sharing economy” encourages the\n",
      "insecure and exploited to exploit others equally insecure to the profit of a tiny clique of billionaires. Silicon\n",
      "Valley’s culture seems hostile to humane and democratic values. The outgoing CEO of Yahoo, Marissa Mayer,\n",
      "who is widely judged to have been a failure, is likely to get a $186m payout. This may not be a cause for\n",
      "panic, any more than the previous hero worship should have been a cause for euphoria. Yet there’s an urgent \n",
      "political task to tame these companies, to ensure they are punished when they break the law, that they\n",
      "pay their taxes fairly and that they behave responsibly.\n"
     ]
    }
   ],
   "source": [
    "# Instantiate the English model: nlp\n",
    "nlp = spacy.load('en',tagger=False, parser=False, matcher=False)\n",
    "\n",
    "# Create a new document: doc\n",
    "doc = nlp(article)\n",
    "\n",
    "print(doc)"
   ]
  },
  {
   "cell_type": "code",
   "execution_count": 45,
   "metadata": {},
   "outputs": [
    {
     "name": "stdout",
     "output_type": "stream",
     "text": [
      "ORG Uber\n",
      "GPE \n",
      "\n",
      "GPE \n",
      "\n",
      "ORG Uber\n",
      "GPE \n",
      "\n",
      "GPE \n",
      "\n",
      "GPE \n",
      "\n",
      "GPE \n",
      "\n",
      "GPE \n",
      "\n",
      "ORG Apple\n",
      "GPE \n",
      "\n",
      "ORG Uber\n",
      "GPE \n",
      "\n",
      "GPE \n",
      "\n",
      "GPE \n",
      "\n",
      "ORG Uber\n",
      "GPE \n",
      "\n",
      "GPE \n",
      "\n",
      "PERSON Travis Kalanick\n",
      "GPE \n",
      "\n",
      "ORG Uber\n",
      "PERSON Tim Cook\n",
      "ORG Apple\n",
      "GPE \n",
      "\n",
      "CARDINAL Millions\n",
      "GPE \n",
      "\n",
      "ORG Uber\n",
      "GPE drivers’\n",
      "GPE \n",
      "\n",
      "GPE \n",
      "\n",
      "LOC Silicon\n",
      "Valley’s\n",
      "ORG Yahoo\n",
      "PERSON Marissa Mayer\n",
      "GPE \n",
      "\n",
      "MONEY $186m\n",
      "GPE \n",
      "\n",
      "GPE \n",
      "\n",
      "GPE \n",
      "\n"
     ]
    }
   ],
   "source": [
    "# Print all of the found entities and their labels\n",
    "for ent in doc.ents:\n",
    "    print(ent.label_, ent.text)\n",
    "    "
   ]
  },
  {
   "cell_type": "markdown",
   "metadata": {},
   "source": [
    "# Polyglot"
   ]
  },
  {
   "cell_type": "markdown",
   "metadata": {},
   "source": [
    "<img src=\"polyglot.png\" width=\"600\" height=\"300\">"
   ]
  },
  {
   "cell_type": "code",
   "execution_count": null,
   "metadata": {},
   "outputs": [],
   "source": [
    "from polyglot.text import Text"
   ]
  },
  {
   "cell_type": "code",
   "execution_count": null,
   "metadata": {},
   "outputs": [],
   "source": [
    "text = \"\"\"El presidente de la Generalitat de Cataluña,\n",
    "                  Carles Puigdemont, ha afirmado hoy a la alcaldesa \n",
    "                  de Madrid, Manuela Carmena, que en su etapa de \n",
    "                  alcalde de Girona (de julio de 2011 a enero de 2016) \n",
    "                  hizo una gran promoción de Madrid.\"\"\""
   ]
  },
  {
   "cell_type": "code",
   "execution_count": null,
   "metadata": {},
   "outputs": [],
   "source": [
    "In [1]: from polyglot.text import Text\n",
    "\n",
    "In [2]: ẗext = \"\"\"El presidente de la Generalitat de Cataluña,\n",
    "                  Carles Puigdemont, ha afirmado hoy a la alcaldesa \n",
    "                  de Madrid, Manuela Carmena, que en su etapa de \n",
    "                  alcalde de Girona (de julio de 2011 a enero de 2016) \n",
    "                  hizo una gran promoción de Madrid.\"\"\"\n",
    "\n",
    "In [3]: ptext = Text(text)\n",
    "In [4]: ptext.entities\n",
    "Out[4]: \n",
    "[I-ORG(['Generalitat', 'de']),\n",
    " I-LOC(['Generalitat', 'de', 'Cataluña']),\n",
    " I-PER(['Carles', 'Puigdemont']),\n",
    " I-LOC(['Madrid']),\n",
    " I-PER(['Manuela', 'Carmena']),\n",
    " I-LOC(['Girona']),\n",
    " I-LOC(['Madrid'])]"
   ]
  },
  {
   "cell_type": "code",
   "execution_count": null,
   "metadata": {},
   "outputs": [],
   "source": [
    "# Create the list of tuples: entities\n",
    "entities = [(ent.tag, ' '.join(ent)) for ent in txt.entities]\n",
    "\n",
    "# Print entities\n",
    "print(entities)"
   ]
  },
  {
   "cell_type": "code",
   "execution_count": null,
   "metadata": {},
   "outputs": [],
   "source": [
    "\"\"\"<script.py> output:\n",
    "    [('I-PER', 'Charles Cuvelliez'), ('I-PER', 'Charles Cuvelliez'), ('I-ORG', 'Bruxelles'), ('I-PER', 'l’IA'),\n",
    "    ('I-PER', 'Julien Maldonato'), ('I-ORG', 'Deloitte'), ('I-PER', 'Ethiquement'), ('I-LOC', 'l’IA'),\n",
    "    ('I-PER', '.')]\"\"\""
   ]
  },
  {
   "cell_type": "code",
   "execution_count": null,
   "metadata": {},
   "outputs": [],
   "source": []
  },
  {
   "cell_type": "code",
   "execution_count": null,
   "metadata": {},
   "outputs": [],
   "source": [
    "# Initialize the count variable: count\n",
    "count = 0\n",
    "\n",
    "# Iterate over all the entities\n",
    "for ent in txt.entities:\n",
    "    # Check whether the entity contains 'Márquez' or 'Gabo'\n",
    "    if (\"Márquez\" in ent) | ('Gabo' in ent):\n",
    "        # Increment count\n",
    "        count += 1\n",
    "\n",
    "# Print count\n",
    "print(count)\n",
    "\n",
    "# Calculate the percentage of entities that refer to \"Gabo\": percentage\n",
    "percentage = count / len(txt.entities)\n",
    "print(percentage)"
   ]
  },
  {
   "cell_type": "code",
   "execution_count": null,
   "metadata": {},
   "outputs": [],
   "source": []
  }
 ],
 "metadata": {
  "kernelspec": {
   "display_name": "ironhack",
   "language": "python",
   "name": "ironhack"
  },
  "language_info": {
   "codemirror_mode": {
    "name": "ipython",
    "version": 3
   },
   "file_extension": ".py",
   "mimetype": "text/x-python",
   "name": "python",
   "nbconvert_exporter": "python",
   "pygments_lexer": "ipython3",
   "version": "3.7.3"
  }
 },
 "nbformat": 4,
 "nbformat_minor": 2
}
